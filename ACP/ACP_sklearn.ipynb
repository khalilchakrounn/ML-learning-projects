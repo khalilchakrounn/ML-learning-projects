{
 "cells": [
  {
   "cell_type": "code",
   "execution_count": 19,
   "metadata": {},
   "outputs": [
    {
     "data": {
      "text/html": [
       "<div>\n",
       "<style scoped>\n",
       "    .dataframe tbody tr th:only-of-type {\n",
       "        vertical-align: middle;\n",
       "    }\n",
       "\n",
       "    .dataframe tbody tr th {\n",
       "        vertical-align: top;\n",
       "    }\n",
       "\n",
       "    .dataframe thead th {\n",
       "        text-align: right;\n",
       "    }\n",
       "</style>\n",
       "<table border=\"1\" class=\"dataframe\">\n",
       "  <thead>\n",
       "    <tr style=\"text-align: right;\">\n",
       "      <th></th>\n",
       "      <th>Modele</th>\n",
       "      <th>CYL</th>\n",
       "      <th>PUISS</th>\n",
       "      <th>LONG</th>\n",
       "      <th>LAR</th>\n",
       "      <th>POID</th>\n",
       "      <th>V.MAX</th>\n",
       "    </tr>\n",
       "  </thead>\n",
       "  <tbody>\n",
       "    <tr>\n",
       "      <th>0</th>\n",
       "      <td>Alfasud TI</td>\n",
       "      <td>1350</td>\n",
       "      <td>79</td>\n",
       "      <td>393</td>\n",
       "      <td>161</td>\n",
       "      <td>870</td>\n",
       "      <td>165</td>\n",
       "    </tr>\n",
       "    <tr>\n",
       "      <th>1</th>\n",
       "      <td>Audi 100</td>\n",
       "      <td>1588</td>\n",
       "      <td>85</td>\n",
       "      <td>468</td>\n",
       "      <td>177</td>\n",
       "      <td>1110</td>\n",
       "      <td>160</td>\n",
       "    </tr>\n",
       "    <tr>\n",
       "      <th>2</th>\n",
       "      <td>Simca 1300</td>\n",
       "      <td>1294</td>\n",
       "      <td>68</td>\n",
       "      <td>424</td>\n",
       "      <td>168</td>\n",
       "      <td>1050</td>\n",
       "      <td>152</td>\n",
       "    </tr>\n",
       "    <tr>\n",
       "      <th>3</th>\n",
       "      <td>Citroen GS Club</td>\n",
       "      <td>1222</td>\n",
       "      <td>59</td>\n",
       "      <td>412</td>\n",
       "      <td>161</td>\n",
       "      <td>930</td>\n",
       "      <td>151</td>\n",
       "    </tr>\n",
       "    <tr>\n",
       "      <th>4</th>\n",
       "      <td>Fiat 132</td>\n",
       "      <td>1585</td>\n",
       "      <td>98</td>\n",
       "      <td>439</td>\n",
       "      <td>164</td>\n",
       "      <td>1105</td>\n",
       "      <td>165</td>\n",
       "    </tr>\n",
       "  </tbody>\n",
       "</table>\n",
       "</div>"
      ],
      "text/plain": [
       "            Modele   CYL  PUISS  LONG  LAR  POID  V.MAX\n",
       "0       Alfasud TI  1350     79   393  161   870    165\n",
       "1         Audi 100  1588     85   468  177  1110    160\n",
       "2       Simca 1300  1294     68   424  168  1050    152\n",
       "3  Citroen GS Club  1222     59   412  161   930    151\n",
       "4         Fiat 132  1585     98   439  164  1105    165"
      ]
     },
     "execution_count": 19,
     "metadata": {},
     "output_type": "execute_result"
    }
   ],
   "source": [
    "# Chargement de données \n",
    "df=pd.read_csv('ACP.csv')\n",
    "df.head()"
   ]
  },
  {
   "cell_type": "code",
   "execution_count": 26,
   "metadata": {},
   "outputs": [
    {
     "data": {
      "text/plain": [
       "CYL      373.929846\n",
       "PUISS     20.376281\n",
       "LONG      22.107358\n",
       "LAR        5.313689\n",
       "POID     136.957808\n",
       "V.MAX     12.140383\n",
       "dtype: float64"
      ]
     },
     "execution_count": 26,
     "metadata": {},
     "output_type": "execute_result"
    }
   ],
   "source": [
    "# Valeur moyenne\n",
    "M=df.mean()\n",
    "M\n",
    "# Ecart-type\n",
    "st=df.std()\n",
    "st"
   ]
  },
  {
   "cell_type": "markdown",
   "metadata": {},
   "source": [
    "## Etape 2 : « Fabriquer » la matrice centrée et réduite qu’on notera Ac "
   ]
  },
  {
   "cell_type": "code",
   "execution_count": 27,
   "metadata": {},
   "outputs": [
    {
     "data": {
      "text/html": [
       "<div>\n",
       "<style scoped>\n",
       "    .dataframe tbody tr th:only-of-type {\n",
       "        vertical-align: middle;\n",
       "    }\n",
       "\n",
       "    .dataframe tbody tr th {\n",
       "        vertical-align: top;\n",
       "    }\n",
       "\n",
       "    .dataframe thead th {\n",
       "        text-align: right;\n",
       "    }\n",
       "</style>\n",
       "<table border=\"1\" class=\"dataframe\">\n",
       "  <thead>\n",
       "    <tr style=\"text-align: right;\">\n",
       "      <th></th>\n",
       "      <th>CYL</th>\n",
       "      <th>PUISS</th>\n",
       "      <th>LONG</th>\n",
       "      <th>LAR</th>\n",
       "      <th>POID</th>\n",
       "      <th>V.MAX</th>\n",
       "    </tr>\n",
       "  </thead>\n",
       "  <tbody>\n",
       "    <tr>\n",
       "      <th>0</th>\n",
       "      <td>-0.753261</td>\n",
       "      <td>-0.275375</td>\n",
       "      <td>-1.831969</td>\n",
       "      <td>-1.066428</td>\n",
       "      <td>-1.524800</td>\n",
       "      <td>0.553708</td>\n",
       "    </tr>\n",
       "    <tr>\n",
       "      <th>1</th>\n",
       "      <td>-0.116778</td>\n",
       "      <td>0.019085</td>\n",
       "      <td>1.560566</td>\n",
       "      <td>1.944663</td>\n",
       "      <td>0.227564</td>\n",
       "      <td>0.141859</td>\n",
       "    </tr>\n",
       "    <tr>\n",
       "      <th>2</th>\n",
       "      <td>-0.903021</td>\n",
       "      <td>-0.815218</td>\n",
       "      <td>-0.429721</td>\n",
       "      <td>0.250924</td>\n",
       "      <td>-0.210527</td>\n",
       "      <td>-0.517099</td>\n",
       "    </tr>\n",
       "    <tr>\n",
       "      <th>3</th>\n",
       "      <td>-1.095571</td>\n",
       "      <td>-1.256908</td>\n",
       "      <td>-0.972527</td>\n",
       "      <td>-1.066428</td>\n",
       "      <td>-1.086709</td>\n",
       "      <td>-0.599469</td>\n",
       "    </tr>\n",
       "    <tr>\n",
       "      <th>4</th>\n",
       "      <td>-0.124801</td>\n",
       "      <td>0.657082</td>\n",
       "      <td>0.248786</td>\n",
       "      <td>-0.501848</td>\n",
       "      <td>0.191056</td>\n",
       "      <td>0.553708</td>\n",
       "    </tr>\n",
       "    <tr>\n",
       "      <th>5</th>\n",
       "      <td>-0.894999</td>\n",
       "      <td>-0.128145</td>\n",
       "      <td>-0.203552</td>\n",
       "      <td>0.439117</td>\n",
       "      <td>0.008518</td>\n",
       "      <td>0.141859</td>\n",
       "    </tr>\n",
       "    <tr>\n",
       "      <th>6</th>\n",
       "      <td>0.439476</td>\n",
       "      <td>-0.275375</td>\n",
       "      <td>0.701124</td>\n",
       "      <td>0.439117</td>\n",
       "      <td>0.592640</td>\n",
       "      <td>-0.352359</td>\n",
       "    </tr>\n",
       "    <tr>\n",
       "      <th>7</th>\n",
       "      <td>-0.178287</td>\n",
       "      <td>-1.453215</td>\n",
       "      <td>-0.429721</td>\n",
       "      <td>-0.690042</td>\n",
       "      <td>-0.502588</td>\n",
       "      <td>-1.505536</td>\n",
       "    </tr>\n",
       "    <tr>\n",
       "      <th>8</th>\n",
       "      <td>2.760767</td>\n",
       "      <td>2.129382</td>\n",
       "      <td>0.836825</td>\n",
       "      <td>1.191890</td>\n",
       "      <td>1.760883</td>\n",
       "      <td>1.789254</td>\n",
       "    </tr>\n",
       "    <tr>\n",
       "      <th>9</th>\n",
       "      <td>-1.245332</td>\n",
       "      <td>-1.453215</td>\n",
       "      <td>-1.560566</td>\n",
       "      <td>-1.819201</td>\n",
       "      <td>-1.926384</td>\n",
       "      <td>-1.505536</td>\n",
       "    </tr>\n",
       "    <tr>\n",
       "      <th>10</th>\n",
       "      <td>-0.164915</td>\n",
       "      <td>1.196925</td>\n",
       "      <td>-0.248786</td>\n",
       "      <td>-0.878235</td>\n",
       "      <td>-0.137512</td>\n",
       "      <td>1.377405</td>\n",
       "    </tr>\n",
       "    <tr>\n",
       "      <th>11</th>\n",
       "      <td>0.444825</td>\n",
       "      <td>-0.128145</td>\n",
       "      <td>0.520189</td>\n",
       "      <td>1.003697</td>\n",
       "      <td>0.592640</td>\n",
       "      <td>-0.022880</td>\n",
       "    </tr>\n",
       "    <tr>\n",
       "      <th>12</th>\n",
       "      <td>0.979685</td>\n",
       "      <td>1.491385</td>\n",
       "      <td>1.605800</td>\n",
       "      <td>0.439117</td>\n",
       "      <td>2.125959</td>\n",
       "      <td>0.141859</td>\n",
       "    </tr>\n",
       "    <tr>\n",
       "      <th>13</th>\n",
       "      <td>0.966313</td>\n",
       "      <td>0.657082</td>\n",
       "      <td>0.203552</td>\n",
       "      <td>0.627311</td>\n",
       "      <td>0.008518</td>\n",
       "      <td>0.718447</td>\n",
       "    </tr>\n",
       "    <tr>\n",
       "      <th>14</th>\n",
       "      <td>-0.507225</td>\n",
       "      <td>-0.226298</td>\n",
       "      <td>-0.113085</td>\n",
       "      <td>-0.125462</td>\n",
       "      <td>0.366293</td>\n",
       "      <td>-1.176057</td>\n",
       "    </tr>\n",
       "    <tr>\n",
       "      <th>15</th>\n",
       "      <td>0.367270</td>\n",
       "      <td>-0.079068</td>\n",
       "      <td>0.294020</td>\n",
       "      <td>-0.313655</td>\n",
       "      <td>0.118041</td>\n",
       "      <td>0.553708</td>\n",
       "    </tr>\n",
       "    <tr>\n",
       "      <th>16</th>\n",
       "      <td>0.928873</td>\n",
       "      <td>0.755235</td>\n",
       "      <td>1.153462</td>\n",
       "      <td>1.191890</td>\n",
       "      <td>0.300579</td>\n",
       "      <td>1.212665</td>\n",
       "    </tr>\n",
       "    <tr>\n",
       "      <th>17</th>\n",
       "      <td>-0.903021</td>\n",
       "      <td>-0.815218</td>\n",
       "      <td>-1.334397</td>\n",
       "      <td>-1.066428</td>\n",
       "      <td>-0.904171</td>\n",
       "      <td>-1.505536</td>\n",
       "    </tr>\n",
       "  </tbody>\n",
       "</table>\n",
       "</div>"
      ],
      "text/plain": [
       "         CYL     PUISS      LONG       LAR      POID     V.MAX\n",
       "0  -0.753261 -0.275375 -1.831969 -1.066428 -1.524800  0.553708\n",
       "1  -0.116778  0.019085  1.560566  1.944663  0.227564  0.141859\n",
       "2  -0.903021 -0.815218 -0.429721  0.250924 -0.210527 -0.517099\n",
       "3  -1.095571 -1.256908 -0.972527 -1.066428 -1.086709 -0.599469\n",
       "4  -0.124801  0.657082  0.248786 -0.501848  0.191056  0.553708\n",
       "5  -0.894999 -0.128145 -0.203552  0.439117  0.008518  0.141859\n",
       "6   0.439476 -0.275375  0.701124  0.439117  0.592640 -0.352359\n",
       "7  -0.178287 -1.453215 -0.429721 -0.690042 -0.502588 -1.505536\n",
       "8   2.760767  2.129382  0.836825  1.191890  1.760883  1.789254\n",
       "9  -1.245332 -1.453215 -1.560566 -1.819201 -1.926384 -1.505536\n",
       "10 -0.164915  1.196925 -0.248786 -0.878235 -0.137512  1.377405\n",
       "11  0.444825 -0.128145  0.520189  1.003697  0.592640 -0.022880\n",
       "12  0.979685  1.491385  1.605800  0.439117  2.125959  0.141859\n",
       "13  0.966313  0.657082  0.203552  0.627311  0.008518  0.718447\n",
       "14 -0.507225 -0.226298 -0.113085 -0.125462  0.366293 -1.176057\n",
       "15  0.367270 -0.079068  0.294020 -0.313655  0.118041  0.553708\n",
       "16  0.928873  0.755235  1.153462  1.191890  0.300579  1.212665\n",
       "17 -0.903021 -0.815218 -1.334397 -1.066428 -0.904171 -1.505536"
      ]
     },
     "execution_count": 27,
     "metadata": {},
     "output_type": "execute_result"
    }
   ],
   "source": [
    "# Ac centrée et reduite\n",
    "Ac=(df-M)/st\n",
    "Ac"
   ]
  },
  {
   "cell_type": "markdown",
   "metadata": {},
   "source": [
    "## Etape 3 : Calculer la matrice de correlation C"
   ]
  },
  {
   "cell_type": "code",
   "execution_count": 28,
   "metadata": {},
   "outputs": [
    {
     "data": {
      "text/html": [
       "<div>\n",
       "<style scoped>\n",
       "    .dataframe tbody tr th:only-of-type {\n",
       "        vertical-align: middle;\n",
       "    }\n",
       "\n",
       "    .dataframe tbody tr th {\n",
       "        vertical-align: top;\n",
       "    }\n",
       "\n",
       "    .dataframe thead th {\n",
       "        text-align: right;\n",
       "    }\n",
       "</style>\n",
       "<table border=\"1\" class=\"dataframe\">\n",
       "  <thead>\n",
       "    <tr style=\"text-align: right;\">\n",
       "      <th></th>\n",
       "      <th>CYL</th>\n",
       "      <th>PUISS</th>\n",
       "      <th>LONG</th>\n",
       "      <th>LAR</th>\n",
       "      <th>POID</th>\n",
       "      <th>V.MAX</th>\n",
       "    </tr>\n",
       "  </thead>\n",
       "  <tbody>\n",
       "    <tr>\n",
       "      <th>CYL</th>\n",
       "      <td>1.000000</td>\n",
       "      <td>0.796628</td>\n",
       "      <td>0.701462</td>\n",
       "      <td>0.629757</td>\n",
       "      <td>0.788952</td>\n",
       "      <td>0.664934</td>\n",
       "    </tr>\n",
       "    <tr>\n",
       "      <th>PUISS</th>\n",
       "      <td>0.796628</td>\n",
       "      <td>1.000000</td>\n",
       "      <td>0.641362</td>\n",
       "      <td>0.520832</td>\n",
       "      <td>0.765293</td>\n",
       "      <td>0.844379</td>\n",
       "    </tr>\n",
       "    <tr>\n",
       "      <th>LONG</th>\n",
       "      <td>0.701462</td>\n",
       "      <td>0.641362</td>\n",
       "      <td>1.000000</td>\n",
       "      <td>0.849266</td>\n",
       "      <td>0.868090</td>\n",
       "      <td>0.475928</td>\n",
       "    </tr>\n",
       "    <tr>\n",
       "      <th>LAR</th>\n",
       "      <td>0.629757</td>\n",
       "      <td>0.520832</td>\n",
       "      <td>0.849266</td>\n",
       "      <td>1.000000</td>\n",
       "      <td>0.716874</td>\n",
       "      <td>0.472945</td>\n",
       "    </tr>\n",
       "    <tr>\n",
       "      <th>POID</th>\n",
       "      <td>0.788952</td>\n",
       "      <td>0.765293</td>\n",
       "      <td>0.868090</td>\n",
       "      <td>0.716874</td>\n",
       "      <td>1.000000</td>\n",
       "      <td>0.477596</td>\n",
       "    </tr>\n",
       "    <tr>\n",
       "      <th>V.MAX</th>\n",
       "      <td>0.664934</td>\n",
       "      <td>0.844379</td>\n",
       "      <td>0.475928</td>\n",
       "      <td>0.472945</td>\n",
       "      <td>0.477596</td>\n",
       "      <td>1.000000</td>\n",
       "    </tr>\n",
       "  </tbody>\n",
       "</table>\n",
       "</div>"
      ],
      "text/plain": [
       "            CYL     PUISS      LONG       LAR      POID     V.MAX\n",
       "CYL    1.000000  0.796628  0.701462  0.629757  0.788952  0.664934\n",
       "PUISS  0.796628  1.000000  0.641362  0.520832  0.765293  0.844379\n",
       "LONG   0.701462  0.641362  1.000000  0.849266  0.868090  0.475928\n",
       "LAR    0.629757  0.520832  0.849266  1.000000  0.716874  0.472945\n",
       "POID   0.788952  0.765293  0.868090  0.716874  1.000000  0.477596\n",
       "V.MAX  0.664934  0.844379  0.475928  0.472945  0.477596  1.000000"
      ]
     },
     "execution_count": 28,
     "metadata": {},
     "output_type": "execute_result"
    }
   ],
   "source": [
    "# la matrice de correlation C\n",
    "C=Ac.corr()\n",
    "C"
   ]
  },
  {
   "cell_type": "markdown",
   "metadata": {},
   "source": [
    "\n",
    "\n",
    "## Etape 4 : Déterminer les vecteurs et les valeurs propres de C"
   ]
  },
  {
   "cell_type": "code",
   "execution_count": 29,
   "metadata": {},
   "outputs": [],
   "source": [
    "# les valeurs propres et les vecteurs propres avec .eig\n",
    "# V contient les valeurs propres et D contient les vecteurs propres \n",
    "V, D=np.linalg.eig(C)"
   ]
  },
  {
   "cell_type": "markdown",
   "metadata": {},
   "source": [
    "La quantité totale (ou inertie totale) contenue dans C est la trace de C qui est égale aussi à la somme des valeurs propres (je rappelle ici que la trace d’une matrice carrée est la somme de tous les éléments\n",
    "diagonaux)"
   ]
  },
  {
   "cell_type": "code",
   "execution_count": 33,
   "metadata": {},
   "outputs": [
    {
     "name": "stdout",
     "output_type": "stream",
     "text": [
      "La somme des valeurs propres est  : 5.999999999999999\n",
      "La trace de C est : 6.0\n"
     ]
    }
   ],
   "source": [
    "print('La somme des valeurs propres est  :' , np.sum(V))\n",
    "print('La trace de C est :' , np.trace(C))"
   ]
  },
  {
   "cell_type": "markdown",
   "metadata": {},
   "source": [
    "## Etape 5 : Choisir les composantes principales"
   ]
  },
  {
   "cell_type": "code",
   "execution_count": 34,
   "metadata": {},
   "outputs": [
    {
     "data": {
      "text/plain": [
       "array([[ 0.42493602,  0.12419108,  0.35361252,  0.80778648,  0.15158003,\n",
       "        -0.05889517],\n",
       "       [ 0.42179441,  0.41577389,  0.18492049, -0.35779199, -0.29373465,\n",
       "        -0.63303302],\n",
       "       [ 0.42145993, -0.41181773, -0.06763394, -0.27975231,  0.73056903,\n",
       "        -0.19029153],\n",
       "       [ 0.38692224, -0.446087  , -0.60486812,  0.21156941, -0.47819008,\n",
       "        -0.10956624],\n",
       "       [ 0.43051198, -0.24267581,  0.48439601, -0.30171136, -0.30455842,\n",
       "         0.5808122 ],\n",
       "       [ 0.35894427,  0.6198626 , -0.48547226, -0.0735743 ,  0.18865511,\n",
       "         0.45852167]])"
      ]
     },
     "execution_count": 34,
     "metadata": {},
     "output_type": "execute_result"
    }
   ],
   "source": [
    "D"
   ]
  },
  {
   "cell_type": "code",
   "execution_count": 35,
   "metadata": {},
   "outputs": [
    {
     "name": "stdout",
     "output_type": "stream",
     "text": [
      "          0\n",
      "0  4.420858\n",
      "1  0.856062\n",
      "2  0.373066\n",
      "3  0.213922\n",
      "4  0.092801\n",
      "5  0.043290\n"
     ]
    },
    {
     "data": {
      "text/html": [
       "<div>\n",
       "<style scoped>\n",
       "    .dataframe tbody tr th:only-of-type {\n",
       "        vertical-align: middle;\n",
       "    }\n",
       "\n",
       "    .dataframe tbody tr th {\n",
       "        vertical-align: top;\n",
       "    }\n",
       "\n",
       "    .dataframe thead th {\n",
       "        text-align: right;\n",
       "    }\n",
       "</style>\n",
       "<table border=\"1\" class=\"dataframe\">\n",
       "  <thead>\n",
       "    <tr style=\"text-align: right;\">\n",
       "      <th></th>\n",
       "      <th>0</th>\n",
       "      <th>1</th>\n",
       "      <th>2</th>\n",
       "      <th>3</th>\n",
       "      <th>4</th>\n",
       "      <th>5</th>\n",
       "    </tr>\n",
       "  </thead>\n",
       "  <tbody>\n",
       "    <tr>\n",
       "      <th>0</th>\n",
       "      <td>0.424936</td>\n",
       "      <td>0.124191</td>\n",
       "      <td>0.353613</td>\n",
       "      <td>0.807786</td>\n",
       "      <td>0.151580</td>\n",
       "      <td>-0.058895</td>\n",
       "    </tr>\n",
       "    <tr>\n",
       "      <th>1</th>\n",
       "      <td>0.421794</td>\n",
       "      <td>0.415774</td>\n",
       "      <td>0.184920</td>\n",
       "      <td>-0.357792</td>\n",
       "      <td>-0.293735</td>\n",
       "      <td>-0.633033</td>\n",
       "    </tr>\n",
       "    <tr>\n",
       "      <th>2</th>\n",
       "      <td>0.421460</td>\n",
       "      <td>-0.411818</td>\n",
       "      <td>-0.067634</td>\n",
       "      <td>-0.279752</td>\n",
       "      <td>0.730569</td>\n",
       "      <td>-0.190292</td>\n",
       "    </tr>\n",
       "    <tr>\n",
       "      <th>3</th>\n",
       "      <td>0.386922</td>\n",
       "      <td>-0.446087</td>\n",
       "      <td>-0.604868</td>\n",
       "      <td>0.211569</td>\n",
       "      <td>-0.478190</td>\n",
       "      <td>-0.109566</td>\n",
       "    </tr>\n",
       "    <tr>\n",
       "      <th>4</th>\n",
       "      <td>0.430512</td>\n",
       "      <td>-0.242676</td>\n",
       "      <td>0.484396</td>\n",
       "      <td>-0.301711</td>\n",
       "      <td>-0.304558</td>\n",
       "      <td>0.580812</td>\n",
       "    </tr>\n",
       "    <tr>\n",
       "      <th>5</th>\n",
       "      <td>0.358944</td>\n",
       "      <td>0.619863</td>\n",
       "      <td>-0.485472</td>\n",
       "      <td>-0.073574</td>\n",
       "      <td>0.188655</td>\n",
       "      <td>0.458522</td>\n",
       "    </tr>\n",
       "  </tbody>\n",
       "</table>\n",
       "</div>"
      ],
      "text/plain": [
       "          0         1         2         3         4         5\n",
       "0  0.424936  0.124191  0.353613  0.807786  0.151580 -0.058895\n",
       "1  0.421794  0.415774  0.184920 -0.357792 -0.293735 -0.633033\n",
       "2  0.421460 -0.411818 -0.067634 -0.279752  0.730569 -0.190292\n",
       "3  0.386922 -0.446087 -0.604868  0.211569 -0.478190 -0.109566\n",
       "4  0.430512 -0.242676  0.484396 -0.301711 -0.304558  0.580812\n",
       "5  0.358944  0.619863 -0.485472 -0.073574  0.188655  0.458522"
      ]
     },
     "execution_count": 35,
     "metadata": {},
     "output_type": "execute_result"
    }
   ],
   "source": [
    "print(pd.DataFrame(V))\n",
    "pd.DataFrame(D)"
   ]
  },
  {
   "cell_type": "code",
   "execution_count": 36,
   "metadata": {},
   "outputs": [
    {
     "data": {
      "text/plain": [
       "array([[0.42493602],\n",
       "       [0.42179441],\n",
       "       [0.42145993],\n",
       "       [0.38692224],\n",
       "       [0.43051198],\n",
       "       [0.35894427]])"
      ]
     },
     "execution_count": 36,
     "metadata": {},
     "output_type": "execute_result"
    }
   ],
   "source": [
    "# quantité d'information dans Up1\n",
    "Up1=D[:, 0:1]\n",
    "Up1"
   ]
  },
  {
   "cell_type": "code",
   "execution_count": 37,
   "metadata": {},
   "outputs": [
    {
     "data": {
      "text/plain": [
       "73.68096766014817"
      ]
     },
     "execution_count": 37,
     "metadata": {},
     "output_type": "execute_result"
    }
   ],
   "source": [
    "Up1_pour=(V[0]/sum(V))*100\n",
    "Up1_pour"
   ]
  },
  {
   "cell_type": "markdown",
   "metadata": {},
   "source": [
    "On remarque ainsi que la composante portée par le vecteur propre Up1 Porte à elle seule 73.68 % , càd un peu moins de 74% de l’information totale contenue dans la matrice C !"
   ]
  },
  {
   "cell_type": "markdown",
   "metadata": {},
   "source": [
    "La deuxième composante principale Up2 portée par la deuxième vecteur colonne  de Matrix_V  porte  14.26% ! de l'information totale contenue dans la matrice C !!"
   ]
  },
  {
   "cell_type": "code",
   "execution_count": 38,
   "metadata": {},
   "outputs": [
    {
     "data": {
      "text/plain": [
       "array([[ 0.12419108],\n",
       "       [ 0.41577389],\n",
       "       [-0.41181773],\n",
       "       [-0.446087  ],\n",
       "       [-0.24267581],\n",
       "       [ 0.6198626 ]])"
      ]
     },
     "execution_count": 38,
     "metadata": {},
     "output_type": "execute_result"
    }
   ],
   "source": [
    "# quantité d'information dans Up2\n",
    "Up2=D[:,1:2]\n",
    "Up2"
   ]
  },
  {
   "cell_type": "code",
   "execution_count": 39,
   "metadata": {},
   "outputs": [
    {
     "data": {
      "text/plain": [
       "14.267704820765982"
      ]
     },
     "execution_count": 39,
     "metadata": {},
     "output_type": "execute_result"
    }
   ],
   "source": [
    "Up2_pour=(V[1]/sum(V))*100\n",
    "Up2_pour"
   ]
  },
  {
   "cell_type": "markdown",
   "metadata": {},
   "source": [
    "# Etape 6 : Choix des vecteurs caractéristiques (ou Feature Vectors) qu’on notera FV\n",
    "Dans ce qui suit on va « compresser » la matrice Ac respectivement à 74% et 87%.\n",
    "Compression à 73% :"
   ]
  },
  {
   "cell_type": "code",
   "execution_count": 40,
   "metadata": {},
   "outputs": [],
   "source": [
    "# Factoriels vectors Up1\n",
    "FV=Up1"
   ]
  },
  {
   "cell_type": "markdown",
   "metadata": {},
   "source": [
    "et on aura une matrice Ac compressé égale à :\n",
    "Ac_comp=Ac @ FV"
   ]
  },
  {
   "cell_type": "code",
   "execution_count": 41,
   "metadata": {},
   "outputs": [
    {
     "data": {
      "text/html": [
       "<div>\n",
       "<style scoped>\n",
       "    .dataframe tbody tr th:only-of-type {\n",
       "        vertical-align: middle;\n",
       "    }\n",
       "\n",
       "    .dataframe tbody tr th {\n",
       "        vertical-align: top;\n",
       "    }\n",
       "\n",
       "    .dataframe thead th {\n",
       "        text-align: right;\n",
       "    }\n",
       "</style>\n",
       "<table border=\"1\" class=\"dataframe\">\n",
       "  <thead>\n",
       "    <tr style=\"text-align: right;\">\n",
       "      <th></th>\n",
       "      <th>0</th>\n",
       "    </tr>\n",
       "  </thead>\n",
       "  <tbody>\n",
       "    <tr>\n",
       "      <th>0</th>\n",
       "      <td>-2.078660</td>\n",
       "    </tr>\n",
       "    <tr>\n",
       "      <th>1</th>\n",
       "      <td>1.517465</td>\n",
       "    </tr>\n",
       "    <tr>\n",
       "      <th>2</th>\n",
       "      <td>-1.087847</td>\n",
       "    </tr>\n",
       "    <tr>\n",
       "      <th>3</th>\n",
       "      <td>-2.501227</td>\n",
       "    </tr>\n",
       "    <tr>\n",
       "      <th>4</th>\n",
       "      <td>0.415801</td>\n",
       "    </tr>\n",
       "    <tr>\n",
       "      <th>5</th>\n",
       "      <td>-0.295666</td>\n",
       "    </tr>\n",
       "    <tr>\n",
       "      <th>6</th>\n",
       "      <td>0.664659</td>\n",
       "    </tr>\n",
       "    <tr>\n",
       "      <th>7</th>\n",
       "      <td>-1.893594</td>\n",
       "    </tr>\n",
       "    <tr>\n",
       "      <th>8</th>\n",
       "      <td>4.285492</td>\n",
       "    </tr>\n",
       "    <tr>\n",
       "      <th>9</th>\n",
       "      <td>-3.873484</td>\n",
       "    </tr>\n",
       "    <tr>\n",
       "      <th>10</th>\n",
       "      <td>0.425327</td>\n",
       "    </tr>\n",
       "    <tr>\n",
       "      <th>11</th>\n",
       "      <td>0.989489</td>\n",
       "    </tr>\n",
       "    <tr>\n",
       "      <th>12</th>\n",
       "      <td>2.858216</td>\n",
       "    </tr>\n",
       "    <tr>\n",
       "      <th>13</th>\n",
       "      <td>1.277834</td>\n",
       "    </tr>\n",
       "    <tr>\n",
       "      <th>14</th>\n",
       "      <td>-0.671640</td>\n",
       "    </tr>\n",
       "    <tr>\n",
       "      <th>15</th>\n",
       "      <td>0.374842</td>\n",
       "    </tr>\n",
       "    <tr>\n",
       "      <th>16</th>\n",
       "      <td>2.225255</td>\n",
       "    </tr>\n",
       "    <tr>\n",
       "      <th>17</th>\n",
       "      <td>-2.632260</td>\n",
       "    </tr>\n",
       "  </tbody>\n",
       "</table>\n",
       "</div>"
      ],
      "text/plain": [
       "           0\n",
       "0  -2.078660\n",
       "1   1.517465\n",
       "2  -1.087847\n",
       "3  -2.501227\n",
       "4   0.415801\n",
       "5  -0.295666\n",
       "6   0.664659\n",
       "7  -1.893594\n",
       "8   4.285492\n",
       "9  -3.873484\n",
       "10  0.425327\n",
       "11  0.989489\n",
       "12  2.858216\n",
       "13  1.277834\n",
       "14 -0.671640\n",
       "15  0.374842\n",
       "16  2.225255\n",
       "17 -2.632260"
      ]
     },
     "execution_count": 41,
     "metadata": {},
     "output_type": "execute_result"
    }
   ],
   "source": [
    "# Ac_compressée: Ac_comp\n",
    "Ac_comp= Ac @ FV\n",
    "Ac_comp"
   ]
  },
  {
   "cell_type": "code",
   "execution_count": 42,
   "metadata": {},
   "outputs": [],
   "source": [
    "#Ac_comp"
   ]
  },
  {
   "cell_type": "markdown",
   "metadata": {},
   "source": [
    "Chaque composante de ce vecteur représente les coordonnées de la voiture lui correspondant dans\n",
    "la base des axes principaux qui est dans notre cas actuel constituée par un seul vecteur à savoir Up1.\n",
    "On a par exemple les coordonnées de l’Audi 100 (qui est la deuxième voiture dans df) dans\n",
    "la base FV est de -1.517465."
   ]
  },
  {
   "cell_type": "markdown",
   "metadata": {},
   "source": [
    "Maintenant comment pourrait-on « décompresser la matrice » Ac_comp ? Il ne faut pas à ce stade\n",
    "oublier qu’on vient d’effectuer une compression à un peu plus de 74% càd qu’on quand même une\n",
    "perte de 26% de l’information. On récupérera les données décompressées dans Ac_décom en utilisant\n",
    "la formule : Ac_décomp = Ac_comp @ FV.T"
   ]
  },
  {
   "cell_type": "code",
   "execution_count": 43,
   "metadata": {},
   "outputs": [
    {
     "data": {
      "text/html": [
       "<div>\n",
       "<style scoped>\n",
       "    .dataframe tbody tr th:only-of-type {\n",
       "        vertical-align: middle;\n",
       "    }\n",
       "\n",
       "    .dataframe tbody tr th {\n",
       "        vertical-align: top;\n",
       "    }\n",
       "\n",
       "    .dataframe thead th {\n",
       "        text-align: right;\n",
       "    }\n",
       "</style>\n",
       "<table border=\"1\" class=\"dataframe\">\n",
       "  <thead>\n",
       "    <tr style=\"text-align: right;\">\n",
       "      <th></th>\n",
       "      <th>0</th>\n",
       "      <th>1</th>\n",
       "      <th>2</th>\n",
       "      <th>3</th>\n",
       "      <th>4</th>\n",
       "      <th>5</th>\n",
       "    </tr>\n",
       "  </thead>\n",
       "  <tbody>\n",
       "    <tr>\n",
       "      <th>0</th>\n",
       "      <td>-0.883298</td>\n",
       "      <td>-0.876767</td>\n",
       "      <td>-0.876072</td>\n",
       "      <td>-0.804280</td>\n",
       "      <td>-0.894888</td>\n",
       "      <td>-0.746123</td>\n",
       "    </tr>\n",
       "    <tr>\n",
       "      <th>1</th>\n",
       "      <td>0.644826</td>\n",
       "      <td>0.640058</td>\n",
       "      <td>0.639551</td>\n",
       "      <td>0.587141</td>\n",
       "      <td>0.653287</td>\n",
       "      <td>0.544685</td>\n",
       "    </tr>\n",
       "    <tr>\n",
       "      <th>2</th>\n",
       "      <td>-0.462265</td>\n",
       "      <td>-0.458848</td>\n",
       "      <td>-0.458484</td>\n",
       "      <td>-0.420912</td>\n",
       "      <td>-0.468331</td>\n",
       "      <td>-0.390476</td>\n",
       "    </tr>\n",
       "    <tr>\n",
       "      <th>3</th>\n",
       "      <td>-1.062862</td>\n",
       "      <td>-1.055004</td>\n",
       "      <td>-1.054167</td>\n",
       "      <td>-0.967780</td>\n",
       "      <td>-1.076808</td>\n",
       "      <td>-0.897801</td>\n",
       "    </tr>\n",
       "    <tr>\n",
       "      <th>4</th>\n",
       "      <td>0.176689</td>\n",
       "      <td>0.175382</td>\n",
       "      <td>0.175243</td>\n",
       "      <td>0.160882</td>\n",
       "      <td>0.179007</td>\n",
       "      <td>0.149249</td>\n",
       "    </tr>\n",
       "    <tr>\n",
       "      <th>5</th>\n",
       "      <td>-0.125639</td>\n",
       "      <td>-0.124710</td>\n",
       "      <td>-0.124611</td>\n",
       "      <td>-0.114400</td>\n",
       "      <td>-0.127288</td>\n",
       "      <td>-0.106128</td>\n",
       "    </tr>\n",
       "    <tr>\n",
       "      <th>6</th>\n",
       "      <td>0.282438</td>\n",
       "      <td>0.280349</td>\n",
       "      <td>0.280127</td>\n",
       "      <td>0.257171</td>\n",
       "      <td>0.286144</td>\n",
       "      <td>0.238576</td>\n",
       "    </tr>\n",
       "    <tr>\n",
       "      <th>7</th>\n",
       "      <td>-0.804656</td>\n",
       "      <td>-0.798708</td>\n",
       "      <td>-0.798074</td>\n",
       "      <td>-0.732674</td>\n",
       "      <td>-0.815215</td>\n",
       "      <td>-0.679695</td>\n",
       "    </tr>\n",
       "    <tr>\n",
       "      <th>8</th>\n",
       "      <td>1.821060</td>\n",
       "      <td>1.807596</td>\n",
       "      <td>1.806163</td>\n",
       "      <td>1.658152</td>\n",
       "      <td>1.844956</td>\n",
       "      <td>1.538253</td>\n",
       "    </tr>\n",
       "    <tr>\n",
       "      <th>9</th>\n",
       "      <td>-1.645983</td>\n",
       "      <td>-1.633814</td>\n",
       "      <td>-1.632518</td>\n",
       "      <td>-1.498737</td>\n",
       "      <td>-1.667581</td>\n",
       "      <td>-1.390365</td>\n",
       "    </tr>\n",
       "    <tr>\n",
       "      <th>10</th>\n",
       "      <td>0.180737</td>\n",
       "      <td>0.179401</td>\n",
       "      <td>0.179258</td>\n",
       "      <td>0.164569</td>\n",
       "      <td>0.183109</td>\n",
       "      <td>0.152669</td>\n",
       "    </tr>\n",
       "    <tr>\n",
       "      <th>11</th>\n",
       "      <td>0.420469</td>\n",
       "      <td>0.417361</td>\n",
       "      <td>0.417030</td>\n",
       "      <td>0.382855</td>\n",
       "      <td>0.425987</td>\n",
       "      <td>0.355171</td>\n",
       "    </tr>\n",
       "    <tr>\n",
       "      <th>12</th>\n",
       "      <td>1.214559</td>\n",
       "      <td>1.205580</td>\n",
       "      <td>1.204624</td>\n",
       "      <td>1.105907</td>\n",
       "      <td>1.230496</td>\n",
       "      <td>1.025940</td>\n",
       "    </tr>\n",
       "    <tr>\n",
       "      <th>13</th>\n",
       "      <td>0.542998</td>\n",
       "      <td>0.538983</td>\n",
       "      <td>0.538556</td>\n",
       "      <td>0.494422</td>\n",
       "      <td>0.550123</td>\n",
       "      <td>0.458671</td>\n",
       "    </tr>\n",
       "    <tr>\n",
       "      <th>14</th>\n",
       "      <td>-0.285404</td>\n",
       "      <td>-0.283294</td>\n",
       "      <td>-0.283069</td>\n",
       "      <td>-0.259872</td>\n",
       "      <td>-0.289149</td>\n",
       "      <td>-0.241081</td>\n",
       "    </tr>\n",
       "    <tr>\n",
       "      <th>15</th>\n",
       "      <td>0.159284</td>\n",
       "      <td>0.158106</td>\n",
       "      <td>0.157981</td>\n",
       "      <td>0.145035</td>\n",
       "      <td>0.161374</td>\n",
       "      <td>0.134547</td>\n",
       "    </tr>\n",
       "    <tr>\n",
       "      <th>16</th>\n",
       "      <td>0.945591</td>\n",
       "      <td>0.938600</td>\n",
       "      <td>0.937856</td>\n",
       "      <td>0.861001</td>\n",
       "      <td>0.957999</td>\n",
       "      <td>0.798742</td>\n",
       "    </tr>\n",
       "    <tr>\n",
       "      <th>17</th>\n",
       "      <td>-1.118542</td>\n",
       "      <td>-1.110273</td>\n",
       "      <td>-1.109392</td>\n",
       "      <td>-1.018480</td>\n",
       "      <td>-1.133220</td>\n",
       "      <td>-0.944835</td>\n",
       "    </tr>\n",
       "  </tbody>\n",
       "</table>\n",
       "</div>"
      ],
      "text/plain": [
       "           0         1         2         3         4         5\n",
       "0  -0.883298 -0.876767 -0.876072 -0.804280 -0.894888 -0.746123\n",
       "1   0.644826  0.640058  0.639551  0.587141  0.653287  0.544685\n",
       "2  -0.462265 -0.458848 -0.458484 -0.420912 -0.468331 -0.390476\n",
       "3  -1.062862 -1.055004 -1.054167 -0.967780 -1.076808 -0.897801\n",
       "4   0.176689  0.175382  0.175243  0.160882  0.179007  0.149249\n",
       "5  -0.125639 -0.124710 -0.124611 -0.114400 -0.127288 -0.106128\n",
       "6   0.282438  0.280349  0.280127  0.257171  0.286144  0.238576\n",
       "7  -0.804656 -0.798708 -0.798074 -0.732674 -0.815215 -0.679695\n",
       "8   1.821060  1.807596  1.806163  1.658152  1.844956  1.538253\n",
       "9  -1.645983 -1.633814 -1.632518 -1.498737 -1.667581 -1.390365\n",
       "10  0.180737  0.179401  0.179258  0.164569  0.183109  0.152669\n",
       "11  0.420469  0.417361  0.417030  0.382855  0.425987  0.355171\n",
       "12  1.214559  1.205580  1.204624  1.105907  1.230496  1.025940\n",
       "13  0.542998  0.538983  0.538556  0.494422  0.550123  0.458671\n",
       "14 -0.285404 -0.283294 -0.283069 -0.259872 -0.289149 -0.241081\n",
       "15  0.159284  0.158106  0.157981  0.145035  0.161374  0.134547\n",
       "16  0.945591  0.938600  0.937856  0.861001  0.957999  0.798742\n",
       "17 -1.118542 -1.110273 -1.109392 -1.018480 -1.133220 -0.944835"
      ]
     },
     "execution_count": 43,
     "metadata": {},
     "output_type": "execute_result"
    }
   ],
   "source": [
    "# Ac_décomp\n",
    "Ac_décomp=Ac_comp @ FV.transpose()\n",
    "Ac_décomp"
   ]
  },
  {
   "cell_type": "markdown",
   "metadata": {},
   "source": [
    "On voit bien que cette matrice Ac_decomp n’a rien à voir avec la matrice de départ A. En effet, il\n",
    "s’agit la « seulement » des données centrées-reduites décompressées. Pour retrouver A décompressée (quon\n",
    "notera A_decomp)."
   ]
  },
  {
   "cell_type": "markdown",
   "metadata": {},
   "source": [
    "Compression à 88% :"
   ]
  },
  {
   "cell_type": "code",
   "execution_count": 44,
   "metadata": {},
   "outputs": [
    {
     "data": {
      "text/plain": [
       "(18, 2)"
      ]
     },
     "execution_count": 44,
     "metadata": {},
     "output_type": "execute_result"
    }
   ],
   "source": [
    "# factoriels vectors FV= Up1 Up2\n",
    "FV=D[:, 0:2]\n",
    "A_comp= Ac @ FV\n",
    "A_comp.shape"
   ]
  },
  {
   "cell_type": "code",
   "execution_count": 45,
   "metadata": {},
   "outputs": [
    {
     "data": {
      "text/html": [
       "<div>\n",
       "<style scoped>\n",
       "    .dataframe tbody tr th:only-of-type {\n",
       "        vertical-align: middle;\n",
       "    }\n",
       "\n",
       "    .dataframe tbody tr th {\n",
       "        vertical-align: top;\n",
       "    }\n",
       "\n",
       "    .dataframe thead th {\n",
       "        text-align: right;\n",
       "    }\n",
       "</style>\n",
       "<table border=\"1\" class=\"dataframe\">\n",
       "  <thead>\n",
       "    <tr style=\"text-align: right;\">\n",
       "      <th></th>\n",
       "      <th>0</th>\n",
       "      <th>1</th>\n",
       "    </tr>\n",
       "  </thead>\n",
       "  <tbody>\n",
       "    <tr>\n",
       "      <th>0</th>\n",
       "      <td>-2.078660</td>\n",
       "      <td>1.735370</td>\n",
       "    </tr>\n",
       "    <tr>\n",
       "      <th>1</th>\n",
       "      <td>1.517465</td>\n",
       "      <td>-1.484016</td>\n",
       "    </tr>\n",
       "    <tr>\n",
       "      <th>2</th>\n",
       "      <td>-1.087847</td>\n",
       "      <td>-0.655501</td>\n",
       "    </tr>\n",
       "    <tr>\n",
       "      <th>3</th>\n",
       "      <td>-2.501227</td>\n",
       "      <td>0.109704</td>\n",
       "    </tr>\n",
       "    <tr>\n",
       "      <th>4</th>\n",
       "      <td>0.415801</td>\n",
       "      <td>0.675970</td>\n",
       "    </tr>\n",
       "    <tr>\n",
       "      <th>5</th>\n",
       "      <td>-0.295666</td>\n",
       "      <td>-0.190622</td>\n",
       "    </tr>\n",
       "    <tr>\n",
       "      <th>6</th>\n",
       "      <td>0.664659</td>\n",
       "      <td>-0.906768</td>\n",
       "    </tr>\n",
       "    <tr>\n",
       "      <th>7</th>\n",
       "      <td>-1.893594</td>\n",
       "      <td>-0.952824</td>\n",
       "    </tr>\n",
       "    <tr>\n",
       "      <th>8</th>\n",
       "      <td>4.285492</td>\n",
       "      <td>1.033666</td>\n",
       "    </tr>\n",
       "    <tr>\n",
       "      <th>9</th>\n",
       "      <td>-3.873484</td>\n",
       "      <td>0.229584</td>\n",
       "    </tr>\n",
       "    <tr>\n",
       "      <th>10</th>\n",
       "      <td>0.425327</td>\n",
       "      <td>1.858566</td>\n",
       "    </tr>\n",
       "    <tr>\n",
       "      <th>11</th>\n",
       "      <td>0.989489</td>\n",
       "      <td>-0.817997</td>\n",
       "    </tr>\n",
       "    <tr>\n",
       "      <th>12</th>\n",
       "      <td>2.858216</td>\n",
       "      <td>-0.543420</td>\n",
       "    </tr>\n",
       "    <tr>\n",
       "      <th>13</th>\n",
       "      <td>1.277834</td>\n",
       "      <td>0.472815</td>\n",
       "    </tr>\n",
       "    <tr>\n",
       "      <th>14</th>\n",
       "      <td>-0.671640</td>\n",
       "      <td>-0.872428</td>\n",
       "    </tr>\n",
       "    <tr>\n",
       "      <th>15</th>\n",
       "      <td>0.374842</td>\n",
       "      <td>0.346149</td>\n",
       "    </tr>\n",
       "    <tr>\n",
       "      <th>16</th>\n",
       "      <td>2.225255</td>\n",
       "      <td>0.101405</td>\n",
       "    </tr>\n",
       "    <tr>\n",
       "      <th>17</th>\n",
       "      <td>-2.632260</td>\n",
       "      <td>-0.139650</td>\n",
       "    </tr>\n",
       "  </tbody>\n",
       "</table>\n",
       "</div>"
      ],
      "text/plain": [
       "           0         1\n",
       "0  -2.078660  1.735370\n",
       "1   1.517465 -1.484016\n",
       "2  -1.087847 -0.655501\n",
       "3  -2.501227  0.109704\n",
       "4   0.415801  0.675970\n",
       "5  -0.295666 -0.190622\n",
       "6   0.664659 -0.906768\n",
       "7  -1.893594 -0.952824\n",
       "8   4.285492  1.033666\n",
       "9  -3.873484  0.229584\n",
       "10  0.425327  1.858566\n",
       "11  0.989489 -0.817997\n",
       "12  2.858216 -0.543420\n",
       "13  1.277834  0.472815\n",
       "14 -0.671640 -0.872428\n",
       "15  0.374842  0.346149\n",
       "16  2.225255  0.101405\n",
       "17 -2.632260 -0.139650"
      ]
     },
     "execution_count": 45,
     "metadata": {},
     "output_type": "execute_result"
    }
   ],
   "source": [
    "A_comp\n"
   ]
  },
  {
   "cell_type": "code",
   "execution_count": 46,
   "metadata": {},
   "outputs": [
    {
     "data": {
      "text/html": [
       "<div>\n",
       "<style scoped>\n",
       "    .dataframe tbody tr th:only-of-type {\n",
       "        vertical-align: middle;\n",
       "    }\n",
       "\n",
       "    .dataframe tbody tr th {\n",
       "        vertical-align: top;\n",
       "    }\n",
       "\n",
       "    .dataframe thead th {\n",
       "        text-align: right;\n",
       "    }\n",
       "</style>\n",
       "<table border=\"1\" class=\"dataframe\">\n",
       "  <thead>\n",
       "    <tr style=\"text-align: right;\">\n",
       "      <th></th>\n",
       "      <th>0</th>\n",
       "      <th>1</th>\n",
       "      <th>2</th>\n",
       "      <th>3</th>\n",
       "      <th>4</th>\n",
       "      <th>5</th>\n",
       "    </tr>\n",
       "  </thead>\n",
       "  <tbody>\n",
       "    <tr>\n",
       "      <th>0</th>\n",
       "      <td>-0.667780</td>\n",
       "      <td>-0.155246</td>\n",
       "      <td>-1.590728</td>\n",
       "      <td>-1.578406</td>\n",
       "      <td>-1.316020</td>\n",
       "      <td>0.329568</td>\n",
       "    </tr>\n",
       "    <tr>\n",
       "      <th>1</th>\n",
       "      <td>0.460524</td>\n",
       "      <td>0.023043</td>\n",
       "      <td>1.250695</td>\n",
       "      <td>1.249141</td>\n",
       "      <td>1.013422</td>\n",
       "      <td>-0.375201</td>\n",
       "    </tr>\n",
       "    <tr>\n",
       "      <th>2</th>\n",
       "      <td>-0.543673</td>\n",
       "      <td>-0.731388</td>\n",
       "      <td>-0.188537</td>\n",
       "      <td>-0.128502</td>\n",
       "      <td>-0.309257</td>\n",
       "      <td>-0.796797</td>\n",
       "    </tr>\n",
       "    <tr>\n",
       "      <th>3</th>\n",
       "      <td>-1.049237</td>\n",
       "      <td>-1.009392</td>\n",
       "      <td>-1.099345</td>\n",
       "      <td>-1.016718</td>\n",
       "      <td>-1.103431</td>\n",
       "      <td>-0.829800</td>\n",
       "    </tr>\n",
       "    <tr>\n",
       "      <th>4</th>\n",
       "      <td>0.260638</td>\n",
       "      <td>0.456433</td>\n",
       "      <td>-0.103133</td>\n",
       "      <td>-0.140659</td>\n",
       "      <td>0.014966</td>\n",
       "      <td>0.568258</td>\n",
       "    </tr>\n",
       "    <tr>\n",
       "      <th>5</th>\n",
       "      <td>-0.149313</td>\n",
       "      <td>-0.203966</td>\n",
       "      <td>-0.046110</td>\n",
       "      <td>-0.029366</td>\n",
       "      <td>-0.081028</td>\n",
       "      <td>-0.224287</td>\n",
       "    </tr>\n",
       "    <tr>\n",
       "      <th>6</th>\n",
       "      <td>0.169825</td>\n",
       "      <td>-0.096661</td>\n",
       "      <td>0.653550</td>\n",
       "      <td>0.661669</td>\n",
       "      <td>0.506194</td>\n",
       "      <td>-0.323496</td>\n",
       "    </tr>\n",
       "    <tr>\n",
       "      <th>7</th>\n",
       "      <td>-0.922989</td>\n",
       "      <td>-1.194867</td>\n",
       "      <td>-0.405684</td>\n",
       "      <td>-0.307631</td>\n",
       "      <td>-0.583988</td>\n",
       "      <td>-1.270315</td>\n",
       "    </tr>\n",
       "    <tr>\n",
       "      <th>8</th>\n",
       "      <td>1.949432</td>\n",
       "      <td>2.237368</td>\n",
       "      <td>1.380481</td>\n",
       "      <td>1.197047</td>\n",
       "      <td>1.594110</td>\n",
       "      <td>2.178983</td>\n",
       "    </tr>\n",
       "    <tr>\n",
       "      <th>9</th>\n",
       "      <td>-1.617471</td>\n",
       "      <td>-1.538359</td>\n",
       "      <td>-1.727065</td>\n",
       "      <td>-1.601152</td>\n",
       "      <td>-1.723296</td>\n",
       "      <td>-1.248054</td>\n",
       "    </tr>\n",
       "    <tr>\n",
       "      <th>10</th>\n",
       "      <td>0.411554</td>\n",
       "      <td>0.952144</td>\n",
       "      <td>-0.586132</td>\n",
       "      <td>-0.664513</td>\n",
       "      <td>-0.267920</td>\n",
       "      <td>1.304724</td>\n",
       "    </tr>\n",
       "    <tr>\n",
       "      <th>11</th>\n",
       "      <td>0.318881</td>\n",
       "      <td>0.077259</td>\n",
       "      <td>0.753896</td>\n",
       "      <td>0.747753</td>\n",
       "      <td>0.624495</td>\n",
       "      <td>-0.151875</td>\n",
       "    </tr>\n",
       "    <tr>\n",
       "      <th>12</th>\n",
       "      <td>1.147071</td>\n",
       "      <td>0.979640</td>\n",
       "      <td>1.428414</td>\n",
       "      <td>1.348320</td>\n",
       "      <td>1.362371</td>\n",
       "      <td>0.689095</td>\n",
       "    </tr>\n",
       "    <tr>\n",
       "      <th>13</th>\n",
       "      <td>0.601717</td>\n",
       "      <td>0.735567</td>\n",
       "      <td>0.343842</td>\n",
       "      <td>0.283506</td>\n",
       "      <td>0.435382</td>\n",
       "      <td>0.751751</td>\n",
       "    </tr>\n",
       "    <tr>\n",
       "      <th>14</th>\n",
       "      <td>-0.393752</td>\n",
       "      <td>-0.646027</td>\n",
       "      <td>0.076212</td>\n",
       "      <td>0.129307</td>\n",
       "      <td>-0.077432</td>\n",
       "      <td>-0.781867</td>\n",
       "    </tr>\n",
       "    <tr>\n",
       "      <th>15</th>\n",
       "      <td>0.202272</td>\n",
       "      <td>0.302026</td>\n",
       "      <td>0.015430</td>\n",
       "      <td>-0.009378</td>\n",
       "      <td>0.077372</td>\n",
       "      <td>0.349112</td>\n",
       "    </tr>\n",
       "    <tr>\n",
       "      <th>16</th>\n",
       "      <td>0.958184</td>\n",
       "      <td>0.980761</td>\n",
       "      <td>0.896095</td>\n",
       "      <td>0.815765</td>\n",
       "      <td>0.933390</td>\n",
       "      <td>0.861599</td>\n",
       "    </tr>\n",
       "    <tr>\n",
       "      <th>17</th>\n",
       "      <td>-1.135886</td>\n",
       "      <td>-1.168336</td>\n",
       "      <td>-1.051882</td>\n",
       "      <td>-0.956184</td>\n",
       "      <td>-1.099330</td>\n",
       "      <td>-1.031399</td>\n",
       "    </tr>\n",
       "  </tbody>\n",
       "</table>\n",
       "</div>"
      ],
      "text/plain": [
       "           0         1         2         3         4         5\n",
       "0  -0.667780 -0.155246 -1.590728 -1.578406 -1.316020  0.329568\n",
       "1   0.460524  0.023043  1.250695  1.249141  1.013422 -0.375201\n",
       "2  -0.543673 -0.731388 -0.188537 -0.128502 -0.309257 -0.796797\n",
       "3  -1.049237 -1.009392 -1.099345 -1.016718 -1.103431 -0.829800\n",
       "4   0.260638  0.456433 -0.103133 -0.140659  0.014966  0.568258\n",
       "5  -0.149313 -0.203966 -0.046110 -0.029366 -0.081028 -0.224287\n",
       "6   0.169825 -0.096661  0.653550  0.661669  0.506194 -0.323496\n",
       "7  -0.922989 -1.194867 -0.405684 -0.307631 -0.583988 -1.270315\n",
       "8   1.949432  2.237368  1.380481  1.197047  1.594110  2.178983\n",
       "9  -1.617471 -1.538359 -1.727065 -1.601152 -1.723296 -1.248054\n",
       "10  0.411554  0.952144 -0.586132 -0.664513 -0.267920  1.304724\n",
       "11  0.318881  0.077259  0.753896  0.747753  0.624495 -0.151875\n",
       "12  1.147071  0.979640  1.428414  1.348320  1.362371  0.689095\n",
       "13  0.601717  0.735567  0.343842  0.283506  0.435382  0.751751\n",
       "14 -0.393752 -0.646027  0.076212  0.129307 -0.077432 -0.781867\n",
       "15  0.202272  0.302026  0.015430 -0.009378  0.077372  0.349112\n",
       "16  0.958184  0.980761  0.896095  0.815765  0.933390  0.861599\n",
       "17 -1.135886 -1.168336 -1.051882 -0.956184 -1.099330 -1.031399"
      ]
     },
     "execution_count": 46,
     "metadata": {},
     "output_type": "execute_result"
    }
   ],
   "source": [
    "# Ac_décomp\n",
    "Ac_decomp= A_comp @ FV.T\n",
    "Ac_decomp"
   ]
  },
  {
   "cell_type": "markdown",
   "metadata": {},
   "source": [
    "# ACP avec Sklearn pour la visualisation des données"
   ]
  },
  {
   "cell_type": "code",
   "execution_count": 2,
   "metadata": {},
   "outputs": [],
   "source": [
    "import numpy as np\n",
    "import pandas as pd\n",
    "import matplotlib.pyplot as plt\n",
    "from sklearn.preprocessing import StandardScaler\n",
    "from sklearn.decomposition import PCA"
   ]
  },
  {
   "cell_type": "code",
   "execution_count": 3,
   "metadata": {},
   "outputs": [
    {
     "data": {
      "text/html": [
       "<div>\n",
       "<style scoped>\n",
       "    .dataframe tbody tr th:only-of-type {\n",
       "        vertical-align: middle;\n",
       "    }\n",
       "\n",
       "    .dataframe tbody tr th {\n",
       "        vertical-align: top;\n",
       "    }\n",
       "\n",
       "    .dataframe thead th {\n",
       "        text-align: right;\n",
       "    }\n",
       "</style>\n",
       "<table border=\"1\" class=\"dataframe\">\n",
       "  <thead>\n",
       "    <tr style=\"text-align: right;\">\n",
       "      <th></th>\n",
       "      <th>CYL</th>\n",
       "      <th>PUISS</th>\n",
       "      <th>LONG</th>\n",
       "      <th>LAR</th>\n",
       "      <th>POID</th>\n",
       "      <th>V.MAX</th>\n",
       "    </tr>\n",
       "  </thead>\n",
       "  <tbody>\n",
       "    <tr>\n",
       "      <th>0</th>\n",
       "      <td>1350</td>\n",
       "      <td>79</td>\n",
       "      <td>393</td>\n",
       "      <td>161</td>\n",
       "      <td>870</td>\n",
       "      <td>165</td>\n",
       "    </tr>\n",
       "    <tr>\n",
       "      <th>1</th>\n",
       "      <td>1588</td>\n",
       "      <td>85</td>\n",
       "      <td>468</td>\n",
       "      <td>177</td>\n",
       "      <td>1110</td>\n",
       "      <td>160</td>\n",
       "    </tr>\n",
       "  </tbody>\n",
       "</table>\n",
       "</div>"
      ],
      "text/plain": [
       "    CYL  PUISS  LONG  LAR  POID  V.MAX\n",
       "0  1350     79   393  161   870    165\n",
       "1  1588     85   468  177  1110    160"
      ]
     },
     "execution_count": 3,
     "metadata": {},
     "output_type": "execute_result"
    }
   ],
   "source": [
    "# ACP avec n_components=2\n",
    "data=pd.read_csv('ACP.csv')\n",
    "data.drop('Modele', axis=1, inplace=True)\n",
    "data.head(2)"
   ]
  },
  {
   "cell_type": "code",
   "execution_count": 4,
   "metadata": {},
   "outputs": [],
   "source": [
    "# StandardScaler\n",
    "sc=StandardScaler()\n",
    "X=sc.fit_transform(data)\n"
   ]
  },
  {
   "cell_type": "code",
   "execution_count": 5,
   "metadata": {},
   "outputs": [
    {
     "data": {
      "text/plain": [
       "array([[-0.77509889, -0.28335818, -1.88508077, -1.09734528, -1.56900676,\n",
       "         0.56976043],\n",
       "       [-0.12016326,  0.01963869,  1.60580955,  2.0010414 ,  0.23416142,\n",
       "         0.14597168],\n",
       "       [-0.92920139, -0.83885242, -0.44217944,  0.25819889, -0.21663062,\n",
       "        -0.53209032],\n",
       "       [-1.12733318, -1.29334771, -1.00072189, -1.09734528, -1.11821472,\n",
       "        -0.61684807],\n",
       "       [-0.12841875,  0.67613189,  0.25599862, -0.51639778,  0.19659542,\n",
       "         0.56976043],\n",
       "       [-0.9209459 , -0.13185975, -0.20945342,  0.45184806,  0.0087654 ,\n",
       "         0.14597168],\n",
       "       [ 0.45221746, -0.28335818,  0.72145067,  0.45184806,  0.60982146,\n",
       "        -0.36257482],\n",
       "       [-0.18345536, -1.49534562, -0.44217944, -0.71004695, -0.51715865,\n",
       "        -1.54918332],\n",
       "       [ 2.84080623,  2.19111619,  0.86108628,  1.22644473,  1.81193359,\n",
       "         1.84112668],\n",
       "       [-1.28143568, -1.49534562, -1.60580955, -1.87194195, -1.98223281,\n",
       "        -1.54918332],\n",
       "       [-0.16969621,  1.23162613, -0.25599862, -0.90369611, -0.14149861,\n",
       "         1.41733793],\n",
       "       [ 0.45772112, -0.13185975,  0.53526985,  1.03279556,  0.60982146,\n",
       "        -0.02354382],\n",
       "       [ 1.0080872 ,  1.53462299,  1.65235475,  0.45184806,  2.18759363,\n",
       "         0.14597168],\n",
       "       [ 0.99432805,  0.67613189,  0.20945342,  0.64549722,  0.0087654 ,\n",
       "         0.73927593],\n",
       "       [-0.5219305 , -0.2328587 , -0.11636301, -0.12909944,  0.37691224,\n",
       "        -1.21015232],\n",
       "       [ 0.37791804, -0.08136027,  0.30254383, -0.32274861,  0.12146341,\n",
       "         0.56976043],\n",
       "       [ 0.95580242,  0.77713084,  1.18690271,  1.22644473,  0.30929343,\n",
       "         1.24782243],\n",
       "       [-0.92920139, -0.83885242, -1.37308353, -1.09734528, -0.9303847 ,\n",
       "        -1.54918332]])"
      ]
     },
     "execution_count": 5,
     "metadata": {},
     "output_type": "execute_result"
    }
   ],
   "source": [
    "X"
   ]
  },
  {
   "cell_type": "code",
   "execution_count": 50,
   "metadata": {},
   "outputs": [],
   "source": [
    "# ACP\n",
    "model=PCA(n_components=2)\n",
    "X_comp=model.fit_transform(X)"
   ]
  },
  {
   "cell_type": "code",
   "execution_count": 51,
   "metadata": {},
   "outputs": [
    {
     "data": {
      "text/plain": [
       "array([73.68096766, 14.26770482])"
      ]
     },
     "execution_count": 51,
     "metadata": {},
     "output_type": "execute_result"
    }
   ],
   "source": [
    "# explained_variance_ratio: pourcentage de variance pour chacune de nos composantes\n",
    "model.explained_variance_ratio_*100"
   ]
  },
  {
   "cell_type": "code",
   "execution_count": 52,
   "metadata": {},
   "outputs": [
    {
     "data": {
      "image/png": "[encoded data removed]",
      "text/plain": [
       "<Figure size 720x360 with 2 Axes>"
      ]
     },
     "metadata": {
      "needs_background": "light"
     },
     "output_type": "display_data"
    }
   ],
   "source": [
    "# les voitures dans 2D\n",
    "plt.figure(figsize=(10,5))\n",
    "plt.scatter(X_comp[:, 0], X_comp[:, 1],c=np.arange(18))\n",
    "plt.xlabel('Principal component 1')\n",
    "plt.ylabel('Pricipal component 2')\n",
    "plt.colorbar()\n",
    "plt.show()"
   ]
  },
  {
   "cell_type": "code",
   "execution_count": 53,
   "metadata": {},
   "outputs": [
    {
     "data": {
      "text/plain": [
       "array([[ 0.42493602,  0.42179441,  0.42145993,  0.38692224,  0.43051198,\n",
       "         0.35894427],\n",
       "       [ 0.12419108,  0.41577389, -0.41181773, -0.446087  , -0.24267581,\n",
       "         0.6198626 ]])"
      ]
     },
     "execution_count": 53,
     "metadata": {},
     "output_type": "execute_result"
    }
   ],
   "source": [
    "# Pour savoir à quoi ressemblent les axes de ce graphiques il faut analyser les composantes de chaque axe\n",
    "model.components_"
   ]
  },
  {
   "cell_type": "code",
   "execution_count": 54,
   "metadata": {},
   "outputs": [],
   "source": [
    "#model.components_"
   ]
  },
  {
   "cell_type": "code",
   "execution_count": 55,
   "metadata": {},
   "outputs": [
    {
     "data": {
      "text/plain": [
       "array([[-0.68714004, -0.15974647, -1.6368457 , -1.6241662 , -1.35417384,\n",
       "         0.3391225 ],\n",
       "       [ 0.47387522,  0.02371103,  1.28695448,  1.28535587,  1.04280237,\n",
       "        -0.38607854],\n",
       "       [-0.55943466, -0.75259209, -0.19400286, -0.13222707, -0.31822269,\n",
       "        -0.81989747],\n",
       "       [-1.07965636, -1.03865558, -1.1312167 , -1.04619406, -1.1354209 ,\n",
       "        -0.85385718],\n",
       "       [ 0.26819434,  0.46966566, -0.10612313, -0.14473684,  0.01539943,\n",
       "         0.58473234],\n",
       "       [-0.15364146, -0.20987928, -0.04744643, -0.03021689, -0.08337739,\n",
       "        -0.23078966],\n",
       "       [ 0.17474853, -0.09946343,  0.67249777,  0.68085164,  0.52086972,\n",
       "        -0.33287478],\n",
       "       [-0.94974758, -1.22950797, -0.41744566, -0.31654998, -0.60091837,\n",
       "        -1.30714333],\n",
       "       [ 2.00594882,  2.30223229,  1.42050343,  1.23175145,  1.64032553,\n",
       "         2.2421554 ],\n",
       "       [-1.66436358, -1.58295814, -1.77713557, -1.64757164, -1.77325693,\n",
       "        -1.28423718],\n",
       "       [ 0.42348573,  0.97974779, -0.60312467, -0.68377858, -0.27568782,\n",
       "         1.34254999],\n",
       "       [ 0.32812626,  0.07949877,  0.77575209,  0.76943152,  0.64259987,\n",
       "        -0.15627763],\n",
       "       [ 1.18032648,  1.00804104,  1.46982552,  1.3874099 ,  1.40186847,\n",
       "         0.70907252],\n",
       "       [ 0.61916179,  0.75689253,  0.35381082,  0.29172512,  0.44800453,\n",
       "         0.77354586],\n",
       "       [-0.40516711, -0.66475603,  0.07842183,  0.13305548, -0.07967646,\n",
       "        -0.80453439],\n",
       "       [ 0.20813654,  0.31078209,  0.01587771, -0.00964997,  0.07961491,\n",
       "         0.35923348],\n",
       "       [ 0.98596369,  1.00919522,  0.92207459,  0.83941547,  0.96045074,\n",
       "         0.88657854],\n",
       "       [-1.16881662, -1.20220742, -1.08237754, -0.98390521, -1.13120118,\n",
       "        -1.06130051]])"
      ]
     },
     "execution_count": 55,
     "metadata": {},
     "output_type": "execute_result"
    }
   ],
   "source": [
    "# retrouver nos données initiales !!!\n",
    "X_decomp=model.inverse_transform(X_comp)\n",
    "X_decomp"
   ]
  },
  {
   "cell_type": "markdown",
   "metadata": {},
   "source": [
    "# Reduction de dimension"
   ]
  },
  {
   "cell_type": "code",
   "execution_count": 56,
   "metadata": {},
   "outputs": [],
   "source": [
    "from sklearn.preprocessing import StandardScaler\n",
    "import matplotlib.pyplot as plt\n",
    "import numpy as np\n",
    "import pandas as pd\n",
    "from sklearn.decomposition import PCA\n"
   ]
  },
  {
   "cell_type": "code",
   "execution_count": 57,
   "metadata": {},
   "outputs": [],
   "source": [
    "# ACP avec n_components=6\n",
    "data=pd.read_csv('ACP.csv')\n",
    "data.drop('Modele', axis=1, inplace=True)\n",
    "sc=StandardScaler()\n",
    "X=sc.fit_transform(data)\n",
    "model=PCA(n_components=6)\n",
    "X_comp=model.fit_transform(X)"
   ]
  },
  {
   "cell_type": "code",
   "execution_count": 58,
   "metadata": {},
   "outputs": [
    {
     "data": {
      "text/plain": [
       "(18, 6)"
      ]
     },
     "execution_count": 58,
     "metadata": {},
     "output_type": "execute_result"
    }
   ],
   "source": [
    "X_comp.shape"
   ]
  },
  {
   "cell_type": "code",
   "execution_count": 59,
   "metadata": {},
   "outputs": [
    {
     "data": {
      "text/plain": [
       "array([73.68096766, 14.26770482,  6.21776796,  3.56536815,  1.54668687,\n",
       "        0.72150454])"
      ]
     },
     "execution_count": 59,
     "metadata": {},
     "output_type": "execute_result"
    }
   ],
   "source": [
    " # pourcentage de variance pour chacune de nos composantes\n",
    "model.explained_variance_ratio_*100"
   ]
  },
  {
   "cell_type": "code",
   "execution_count": 60,
   "metadata": {},
   "outputs": [
    {
     "data": {
      "text/plain": [
       "array([ 73.68096766,  87.94867248,  94.16644044,  97.73180859,\n",
       "        99.27849546, 100.        ])"
      ]
     },
     "execution_count": 60,
     "metadata": {},
     "output_type": "execute_result"
    }
   ],
   "source": [
    "# la somme cumulée de toute ces pourcentages\n",
    "np.cumsum(model.explained_variance_ratio_)*100"
   ]
  },
  {
   "cell_type": "code",
   "execution_count": 61,
   "metadata": {},
   "outputs": [
    {
     "data": {
      "image/png": "[encoded data removed]",
      "text/plain": [
       "<Figure size 432x288 with 1 Axes>"
      ]
     },
     "metadata": {
      "needs_background": "light"
     },
     "output_type": "display_data"
    }
   ],
   "source": [
    "plt.plot(np.cumsum(model.explained_variance_ratio_))\n",
    "plt.xlabel('number of components')\n",
    "plt.ylabel('cumulative explained variance')\n",
    "plt.grid(True)\n",
    "plt.show()"
   ]
  },
  {
   "cell_type": "code",
   "execution_count": 62,
   "metadata": {},
   "outputs": [
    {
     "data": {
      "text/plain": [
       "2"
      ]
     },
     "execution_count": 62,
     "metadata": {},
     "output_type": "execute_result"
    }
   ],
   "source": [
    "# pour identifier le nombre de composantes pour garder 90% de l'information\n",
    "np.argmax(np.cumsum(model.explained_variance_ratio_)>0.90)\n"
   ]
  },
  {
   "cell_type": "code",
   "execution_count": 63,
   "metadata": {},
   "outputs": [
    {
     "data": {
      "text/plain": [
       "array([[-2.13892361,  1.78568102,  0.57186228],\n",
       "       [ 1.56145859, -1.52704027,  1.31527135],\n",
       "       [-1.11938528, -0.67450517,  0.4565881 ],\n",
       "       [-2.5737417 ,  0.11288416,  0.1485698 ],\n",
       "       [ 0.4278552 ,  0.69556731, -0.19328567],\n",
       "       [-0.30423764, -0.19614878,  0.67580317],\n",
       "       [ 0.6839285 , -0.93305677, -0.25682308],\n",
       "       [-1.94849257, -0.98044805, -0.61957488],\n",
       "       [ 4.40973457,  1.06363317, -0.59352842],\n",
       "       [-3.98578242,  0.23624042, -0.30313336],\n",
       "       [ 0.43765819,  1.91244816,  0.02494224],\n",
       "       [ 1.01817538, -0.8417121 ,  0.21661021],\n",
       "       [ 2.94108031, -0.55917459, -1.24398816],\n",
       "       [ 1.31488038,  0.48652246,  0.2826214 ],\n",
       "       [-0.69111137, -0.89772139, -0.62840689],\n",
       "       [ 0.38570887,  0.35618457, -0.07558299],\n",
       "       [ 2.28976824,  0.10434464,  0.79638378],\n",
       "       [-2.70857363, -0.1436988 , -0.57432888]])"
      ]
     },
     "execution_count": 63,
     "metadata": {},
     "output_type": "execute_result"
    }
   ],
   "source": [
    "# final model\n",
    "final_model=PCA(n_components=3)\n",
    "final_model.fit_transform(X)"
   ]
  }
 ],
 "metadata": {
  "kernelspec": {
   "display_name": "Python 3",
   "language": "python",
   "name": "python3"
  },
  "language_info": {
   "codemirror_mode": {
    "name": "ipython",
    "version": 3
   },
   "file_extension": ".py",
   "mimetype": "text/x-python",
   "name": "python",
   "nbconvert_exporter": "python",
   "pygments_lexer": "ipython3",
   "version": "3.7.9"
  }
 },
 "nbformat": 4,
 "nbformat_minor": 4
}

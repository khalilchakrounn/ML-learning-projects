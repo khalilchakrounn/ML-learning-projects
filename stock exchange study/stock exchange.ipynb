{
 "cells": [
  {
   "cell_type": "markdown",
   "id": "quiet-thursday",
   "metadata": {},
   "source": [
    "\n",
    "\n",
    "\n",
    "# Stock exchange"
   ]
  },
  {
   "cell_type": "code",
   "execution_count": 1,
   "id": "spoken-click",
   "metadata": {},
   "outputs": [],
   "source": [
    "#Importation des librairies\n",
    "import numpy as np \n",
    "import pandas as pd "
   ]
  },
  {
   "cell_type": "code",
   "execution_count": 69,
   "id": "breeding-cedar",
   "metadata": {},
   "outputs": [
    {
     "data": {
      "text/html": [
       "<div>\n",
       "<style scoped>\n",
       "    .dataframe tbody tr th:only-of-type {\n",
       "        vertical-align: middle;\n",
       "    }\n",
       "\n",
       "    .dataframe tbody tr th {\n",
       "        vertical-align: top;\n",
       "    }\n",
       "\n",
       "    .dataframe thead th {\n",
       "        text-align: right;\n",
       "    }\n",
       "</style>\n",
       "<table border=\"1\" class=\"dataframe\">\n",
       "  <thead>\n",
       "    <tr style=\"text-align: right;\">\n",
       "      <th></th>\n",
       "      <th>Index</th>\n",
       "      <th>Date</th>\n",
       "      <th>Open</th>\n",
       "      <th>High</th>\n",
       "      <th>Low</th>\n",
       "      <th>Close</th>\n",
       "      <th>Adj Close</th>\n",
       "      <th>Volume</th>\n",
       "      <th>CloseUSD</th>\n",
       "    </tr>\n",
       "  </thead>\n",
       "  <tbody>\n",
       "    <tr>\n",
       "      <th>0</th>\n",
       "      <td>HSI</td>\n",
       "      <td>1986-12-31</td>\n",
       "      <td>2568.300049</td>\n",
       "      <td>2568.300049</td>\n",
       "      <td>2568.300049</td>\n",
       "      <td>2568.300049</td>\n",
       "      <td>2568.300049</td>\n",
       "      <td>0.0</td>\n",
       "      <td>333.879006</td>\n",
       "    </tr>\n",
       "    <tr>\n",
       "      <th>1</th>\n",
       "      <td>HSI</td>\n",
       "      <td>1987-01-02</td>\n",
       "      <td>2540.100098</td>\n",
       "      <td>2540.100098</td>\n",
       "      <td>2540.100098</td>\n",
       "      <td>2540.100098</td>\n",
       "      <td>2540.100098</td>\n",
       "      <td>0.0</td>\n",
       "      <td>330.213013</td>\n",
       "    </tr>\n",
       "    <tr>\n",
       "      <th>2</th>\n",
       "      <td>HSI</td>\n",
       "      <td>1987-01-05</td>\n",
       "      <td>2552.399902</td>\n",
       "      <td>2552.399902</td>\n",
       "      <td>2552.399902</td>\n",
       "      <td>2552.399902</td>\n",
       "      <td>2552.399902</td>\n",
       "      <td>0.0</td>\n",
       "      <td>331.811987</td>\n",
       "    </tr>\n",
       "    <tr>\n",
       "      <th>3</th>\n",
       "      <td>HSI</td>\n",
       "      <td>1987-01-06</td>\n",
       "      <td>2583.899902</td>\n",
       "      <td>2583.899902</td>\n",
       "      <td>2583.899902</td>\n",
       "      <td>2583.899902</td>\n",
       "      <td>2583.899902</td>\n",
       "      <td>0.0</td>\n",
       "      <td>335.906987</td>\n",
       "    </tr>\n",
       "    <tr>\n",
       "      <th>4</th>\n",
       "      <td>HSI</td>\n",
       "      <td>1987-01-07</td>\n",
       "      <td>2607.100098</td>\n",
       "      <td>2607.100098</td>\n",
       "      <td>2607.100098</td>\n",
       "      <td>2607.100098</td>\n",
       "      <td>2607.100098</td>\n",
       "      <td>0.0</td>\n",
       "      <td>338.923013</td>\n",
       "    </tr>\n",
       "  </tbody>\n",
       "</table>\n",
       "</div>"
      ],
      "text/plain": [
       "  Index        Date         Open         High          Low        Close  \\\n",
       "0   HSI  1986-12-31  2568.300049  2568.300049  2568.300049  2568.300049   \n",
       "1   HSI  1987-01-02  2540.100098  2540.100098  2540.100098  2540.100098   \n",
       "2   HSI  1987-01-05  2552.399902  2552.399902  2552.399902  2552.399902   \n",
       "3   HSI  1987-01-06  2583.899902  2583.899902  2583.899902  2583.899902   \n",
       "4   HSI  1987-01-07  2607.100098  2607.100098  2607.100098  2607.100098   \n",
       "\n",
       "     Adj Close  Volume    CloseUSD  \n",
       "0  2568.300049     0.0  333.879006  \n",
       "1  2540.100098     0.0  330.213013  \n",
       "2  2552.399902     0.0  331.811987  \n",
       "3  2583.899902     0.0  335.906987  \n",
       "4  2607.100098     0.0  338.923013  "
      ]
     },
     "execution_count": 69,
     "metadata": {},
     "output_type": "execute_result"
    }
   ],
   "source": [
    "#importation des données \n",
    "dfProcessed = pd.read_csv('indexProcessed.csv')\n",
    "dfProcessed.head(5)"
   ]
  },
  {
   "cell_type": "code",
   "execution_count": 70,
   "id": "strategic-excuse",
   "metadata": {},
   "outputs": [
    {
     "data": {
      "text/plain": [
       "Index        0\n",
       "Date         0\n",
       "Open         0\n",
       "High         0\n",
       "Low          0\n",
       "Close        0\n",
       "Adj Close    0\n",
       "Volume       0\n",
       "CloseUSD     0\n",
       "dtype: int64"
      ]
     },
     "execution_count": 70,
     "metadata": {},
     "output_type": "execute_result"
    }
   ],
   "source": [
    "#tester l'existence des valeurs nulle afin de les remplacer\n",
    "dfProcessed.isnull().sum()"
   ]
  },
  {
   "cell_type": "code",
   "execution_count": 71,
   "id": "logical-tennis",
   "metadata": {},
   "outputs": [
    {
     "data": {
      "text/html": [
       "<div>\n",
       "<style scoped>\n",
       "    .dataframe tbody tr th:only-of-type {\n",
       "        vertical-align: middle;\n",
       "    }\n",
       "\n",
       "    .dataframe tbody tr th {\n",
       "        vertical-align: top;\n",
       "    }\n",
       "\n",
       "    .dataframe thead th {\n",
       "        text-align: right;\n",
       "    }\n",
       "</style>\n",
       "<table border=\"1\" class=\"dataframe\">\n",
       "  <thead>\n",
       "    <tr style=\"text-align: right;\">\n",
       "      <th></th>\n",
       "      <th>Open</th>\n",
       "      <th>High</th>\n",
       "      <th>Low</th>\n",
       "      <th>Close</th>\n",
       "      <th>Adj Close</th>\n",
       "      <th>Volume</th>\n",
       "      <th>CloseUSD</th>\n",
       "    </tr>\n",
       "  </thead>\n",
       "  <tbody>\n",
       "    <tr>\n",
       "      <th>count</th>\n",
       "      <td>104224.000000</td>\n",
       "      <td>104224.000000</td>\n",
       "      <td>104224.000000</td>\n",
       "      <td>104224.000000</td>\n",
       "      <td>104224.000000</td>\n",
       "      <td>1.042240e+05</td>\n",
       "      <td>104224.000000</td>\n",
       "    </tr>\n",
       "    <tr>\n",
       "      <th>mean</th>\n",
       "      <td>8015.353334</td>\n",
       "      <td>8063.324234</td>\n",
       "      <td>7962.581120</td>\n",
       "      <td>8014.366642</td>\n",
       "      <td>8014.161269</td>\n",
       "      <td>1.347646e+09</td>\n",
       "      <td>3046.729177</td>\n",
       "    </tr>\n",
       "    <tr>\n",
       "      <th>std</th>\n",
       "      <td>9140.563404</td>\n",
       "      <td>9196.575802</td>\n",
       "      <td>9082.767802</td>\n",
       "      <td>9140.609758</td>\n",
       "      <td>9140.720456</td>\n",
       "      <td>4.427662e+09</td>\n",
       "      <td>3747.865623</td>\n",
       "    </tr>\n",
       "    <tr>\n",
       "      <th>min</th>\n",
       "      <td>54.869999</td>\n",
       "      <td>54.869999</td>\n",
       "      <td>54.869999</td>\n",
       "      <td>54.869999</td>\n",
       "      <td>54.869999</td>\n",
       "      <td>0.000000e+00</td>\n",
       "      <td>10.204900</td>\n",
       "    </tr>\n",
       "    <tr>\n",
       "      <th>25%</th>\n",
       "      <td>2046.887756</td>\n",
       "      <td>2057.213990</td>\n",
       "      <td>2037.185943</td>\n",
       "      <td>2047.506470</td>\n",
       "      <td>2047.358490</td>\n",
       "      <td>0.000000e+00</td>\n",
       "      <td>320.460898</td>\n",
       "    </tr>\n",
       "    <tr>\n",
       "      <th>50%</th>\n",
       "      <td>5772.140137</td>\n",
       "      <td>5812.764892</td>\n",
       "      <td>5725.199951</td>\n",
       "      <td>5773.710205</td>\n",
       "      <td>5773.710205</td>\n",
       "      <td>9.529000e+05</td>\n",
       "      <td>1371.598486</td>\n",
       "    </tr>\n",
       "    <tr>\n",
       "      <th>75%</th>\n",
       "      <td>10487.377445</td>\n",
       "      <td>10552.179690</td>\n",
       "      <td>10416.092287</td>\n",
       "      <td>10488.622560</td>\n",
       "      <td>10488.622560</td>\n",
       "      <td>2.064676e+08</td>\n",
       "      <td>4383.045241</td>\n",
       "    </tr>\n",
       "    <tr>\n",
       "      <th>max</th>\n",
       "      <td>68775.062500</td>\n",
       "      <td>69403.750000</td>\n",
       "      <td>68516.992190</td>\n",
       "      <td>68775.062500</td>\n",
       "      <td>68775.062500</td>\n",
       "      <td>9.440374e+10</td>\n",
       "      <td>18934.376173</td>\n",
       "    </tr>\n",
       "  </tbody>\n",
       "</table>\n",
       "</div>"
      ],
      "text/plain": [
       "                Open           High            Low          Close  \\\n",
       "count  104224.000000  104224.000000  104224.000000  104224.000000   \n",
       "mean     8015.353334    8063.324234    7962.581120    8014.366642   \n",
       "std      9140.563404    9196.575802    9082.767802    9140.609758   \n",
       "min        54.869999      54.869999      54.869999      54.869999   \n",
       "25%      2046.887756    2057.213990    2037.185943    2047.506470   \n",
       "50%      5772.140137    5812.764892    5725.199951    5773.710205   \n",
       "75%     10487.377445   10552.179690   10416.092287   10488.622560   \n",
       "max     68775.062500   69403.750000   68516.992190   68775.062500   \n",
       "\n",
       "           Adj Close        Volume       CloseUSD  \n",
       "count  104224.000000  1.042240e+05  104224.000000  \n",
       "mean     8014.161269  1.347646e+09    3046.729177  \n",
       "std      9140.720456  4.427662e+09    3747.865623  \n",
       "min        54.869999  0.000000e+00      10.204900  \n",
       "25%      2047.358490  0.000000e+00     320.460898  \n",
       "50%      5773.710205  9.529000e+05    1371.598486  \n",
       "75%     10488.622560  2.064676e+08    4383.045241  \n",
       "max     68775.062500  9.440374e+10   18934.376173  "
      ]
     },
     "execution_count": 71,
     "metadata": {},
     "output_type": "execute_result"
    }
   ],
   "source": [
    "dfProcessed.describe()"
   ]
  },
  {
   "cell_type": "code",
   "execution_count": 72,
   "id": "challenging-chase",
   "metadata": {},
   "outputs": [
    {
     "data": {
      "text/plain": [
       "Index         object\n",
       "Date          object\n",
       "Open         float64\n",
       "High         float64\n",
       "Low          float64\n",
       "Close        float64\n",
       "Adj Close    float64\n",
       "Volume       float64\n",
       "CloseUSD     float64\n",
       "dtype: object"
      ]
     },
     "execution_count": 72,
     "metadata": {},
     "output_type": "execute_result"
    }
   ],
   "source": [
    "dfProcessed.dtypes"
   ]
  },
  {
   "cell_type": "code",
   "execution_count": 73,
   "id": "different-anaheim",
   "metadata": {},
   "outputs": [],
   "source": [
    "#on divise la colonne de date pour pouvoir l'utiliser dans la regression\n",
    "df=pd.DataFrame(dfProcessed[\"Date\"],columns=[\"day\", \"mm\", \"year\"])\n",
    "df[[\"day\", \"mm\", \"year\"]] = dfProcessed[\"Date\"].str.split(\"-\", expand=True)\n",
    "df.shape\n",
    "#on doit caster les types du day , mm year to numeric so we can use them\n",
    "df[\"day\"] = pd.to_numeric(df[\"day\"])\n",
    "df[\"year\"] = pd.to_numeric(df[\"year\"])\n",
    "df[\"mm\"] = pd.to_numeric(df[\"mm\"])"
   ]
  },
  {
   "cell_type": "code",
   "execution_count": 74,
   "id": "integrated-lesson",
   "metadata": {},
   "outputs": [
    {
     "data": {
      "text/plain": [
       "day     int64\n",
       "mm      int64\n",
       "year    int64\n",
       "dtype: object"
      ]
     },
     "execution_count": 74,
     "metadata": {},
     "output_type": "execute_result"
    }
   ],
   "source": [
    "df.dtypes"
   ]
  },
  {
   "cell_type": "code",
   "execution_count": 75,
   "id": "violent-motor",
   "metadata": {},
   "outputs": [],
   "source": [
    "# we add the columns to the same dataframe \n",
    "df = pd.concat([df, dfProcessed], axis=1)"
   ]
  },
  {
   "cell_type": "code",
   "execution_count": 76,
   "id": "specialized-defendant",
   "metadata": {},
   "outputs": [
    {
     "data": {
      "text/html": [
       "<div>\n",
       "<style scoped>\n",
       "    .dataframe tbody tr th:only-of-type {\n",
       "        vertical-align: middle;\n",
       "    }\n",
       "\n",
       "    .dataframe tbody tr th {\n",
       "        vertical-align: top;\n",
       "    }\n",
       "\n",
       "    .dataframe thead th {\n",
       "        text-align: right;\n",
       "    }\n",
       "</style>\n",
       "<table border=\"1\" class=\"dataframe\">\n",
       "  <thead>\n",
       "    <tr style=\"text-align: right;\">\n",
       "      <th></th>\n",
       "      <th>day</th>\n",
       "      <th>mm</th>\n",
       "      <th>year</th>\n",
       "      <th>Index</th>\n",
       "      <th>Date</th>\n",
       "      <th>Open</th>\n",
       "      <th>High</th>\n",
       "      <th>Low</th>\n",
       "      <th>Close</th>\n",
       "      <th>Adj Close</th>\n",
       "      <th>Volume</th>\n",
       "      <th>CloseUSD</th>\n",
       "    </tr>\n",
       "  </thead>\n",
       "  <tbody>\n",
       "    <tr>\n",
       "      <th>0</th>\n",
       "      <td>1986</td>\n",
       "      <td>12</td>\n",
       "      <td>31</td>\n",
       "      <td>HSI</td>\n",
       "      <td>1986-12-31</td>\n",
       "      <td>2568.300049</td>\n",
       "      <td>2568.300049</td>\n",
       "      <td>2568.300049</td>\n",
       "      <td>2568.300049</td>\n",
       "      <td>2568.300049</td>\n",
       "      <td>0.0</td>\n",
       "      <td>333.879006</td>\n",
       "    </tr>\n",
       "    <tr>\n",
       "      <th>1</th>\n",
       "      <td>1987</td>\n",
       "      <td>1</td>\n",
       "      <td>2</td>\n",
       "      <td>HSI</td>\n",
       "      <td>1987-01-02</td>\n",
       "      <td>2540.100098</td>\n",
       "      <td>2540.100098</td>\n",
       "      <td>2540.100098</td>\n",
       "      <td>2540.100098</td>\n",
       "      <td>2540.100098</td>\n",
       "      <td>0.0</td>\n",
       "      <td>330.213013</td>\n",
       "    </tr>\n",
       "    <tr>\n",
       "      <th>2</th>\n",
       "      <td>1987</td>\n",
       "      <td>1</td>\n",
       "      <td>5</td>\n",
       "      <td>HSI</td>\n",
       "      <td>1987-01-05</td>\n",
       "      <td>2552.399902</td>\n",
       "      <td>2552.399902</td>\n",
       "      <td>2552.399902</td>\n",
       "      <td>2552.399902</td>\n",
       "      <td>2552.399902</td>\n",
       "      <td>0.0</td>\n",
       "      <td>331.811987</td>\n",
       "    </tr>\n",
       "    <tr>\n",
       "      <th>3</th>\n",
       "      <td>1987</td>\n",
       "      <td>1</td>\n",
       "      <td>6</td>\n",
       "      <td>HSI</td>\n",
       "      <td>1987-01-06</td>\n",
       "      <td>2583.899902</td>\n",
       "      <td>2583.899902</td>\n",
       "      <td>2583.899902</td>\n",
       "      <td>2583.899902</td>\n",
       "      <td>2583.899902</td>\n",
       "      <td>0.0</td>\n",
       "      <td>335.906987</td>\n",
       "    </tr>\n",
       "    <tr>\n",
       "      <th>4</th>\n",
       "      <td>1987</td>\n",
       "      <td>1</td>\n",
       "      <td>7</td>\n",
       "      <td>HSI</td>\n",
       "      <td>1987-01-07</td>\n",
       "      <td>2607.100098</td>\n",
       "      <td>2607.100098</td>\n",
       "      <td>2607.100098</td>\n",
       "      <td>2607.100098</td>\n",
       "      <td>2607.100098</td>\n",
       "      <td>0.0</td>\n",
       "      <td>338.923013</td>\n",
       "    </tr>\n",
       "    <tr>\n",
       "      <th>...</th>\n",
       "      <td>...</td>\n",
       "      <td>...</td>\n",
       "      <td>...</td>\n",
       "      <td>...</td>\n",
       "      <td>...</td>\n",
       "      <td>...</td>\n",
       "      <td>...</td>\n",
       "      <td>...</td>\n",
       "      <td>...</td>\n",
       "      <td>...</td>\n",
       "      <td>...</td>\n",
       "      <td>...</td>\n",
       "    </tr>\n",
       "    <tr>\n",
       "      <th>104219</th>\n",
       "      <td>2021</td>\n",
       "      <td>5</td>\n",
       "      <td>25</td>\n",
       "      <td>J203.JO</td>\n",
       "      <td>2021-05-25</td>\n",
       "      <td>66054.921880</td>\n",
       "      <td>66812.453130</td>\n",
       "      <td>66022.976560</td>\n",
       "      <td>66076.679690</td>\n",
       "      <td>66076.679690</td>\n",
       "      <td>0.0</td>\n",
       "      <td>4625.367578</td>\n",
       "    </tr>\n",
       "    <tr>\n",
       "      <th>104220</th>\n",
       "      <td>2021</td>\n",
       "      <td>5</td>\n",
       "      <td>26</td>\n",
       "      <td>J203.JO</td>\n",
       "      <td>2021-05-26</td>\n",
       "      <td>66076.679690</td>\n",
       "      <td>66446.367190</td>\n",
       "      <td>66030.351560</td>\n",
       "      <td>66108.226560</td>\n",
       "      <td>66108.226560</td>\n",
       "      <td>0.0</td>\n",
       "      <td>4627.575859</td>\n",
       "    </tr>\n",
       "    <tr>\n",
       "      <th>104221</th>\n",
       "      <td>2021</td>\n",
       "      <td>5</td>\n",
       "      <td>27</td>\n",
       "      <td>J203.JO</td>\n",
       "      <td>2021-05-27</td>\n",
       "      <td>66108.226560</td>\n",
       "      <td>66940.250000</td>\n",
       "      <td>66102.546880</td>\n",
       "      <td>66940.250000</td>\n",
       "      <td>66940.250000</td>\n",
       "      <td>0.0</td>\n",
       "      <td>4685.817500</td>\n",
       "    </tr>\n",
       "    <tr>\n",
       "      <th>104222</th>\n",
       "      <td>2021</td>\n",
       "      <td>5</td>\n",
       "      <td>28</td>\n",
       "      <td>J203.JO</td>\n",
       "      <td>2021-05-28</td>\n",
       "      <td>66940.250000</td>\n",
       "      <td>67726.562500</td>\n",
       "      <td>66794.609380</td>\n",
       "      <td>67554.859380</td>\n",
       "      <td>67554.859380</td>\n",
       "      <td>0.0</td>\n",
       "      <td>4728.840157</td>\n",
       "    </tr>\n",
       "    <tr>\n",
       "      <th>104223</th>\n",
       "      <td>2021</td>\n",
       "      <td>5</td>\n",
       "      <td>31</td>\n",
       "      <td>J203.JO</td>\n",
       "      <td>2021-05-31</td>\n",
       "      <td>67554.859380</td>\n",
       "      <td>68140.851560</td>\n",
       "      <td>67554.859380</td>\n",
       "      <td>67964.039060</td>\n",
       "      <td>67964.039060</td>\n",
       "      <td>0.0</td>\n",
       "      <td>4757.482734</td>\n",
       "    </tr>\n",
       "  </tbody>\n",
       "</table>\n",
       "<p>104224 rows × 12 columns</p>\n",
       "</div>"
      ],
      "text/plain": [
       "         day  mm  year    Index        Date          Open          High  \\\n",
       "0       1986  12    31      HSI  1986-12-31   2568.300049   2568.300049   \n",
       "1       1987   1     2      HSI  1987-01-02   2540.100098   2540.100098   \n",
       "2       1987   1     5      HSI  1987-01-05   2552.399902   2552.399902   \n",
       "3       1987   1     6      HSI  1987-01-06   2583.899902   2583.899902   \n",
       "4       1987   1     7      HSI  1987-01-07   2607.100098   2607.100098   \n",
       "...      ...  ..   ...      ...         ...           ...           ...   \n",
       "104219  2021   5    25  J203.JO  2021-05-25  66054.921880  66812.453130   \n",
       "104220  2021   5    26  J203.JO  2021-05-26  66076.679690  66446.367190   \n",
       "104221  2021   5    27  J203.JO  2021-05-27  66108.226560  66940.250000   \n",
       "104222  2021   5    28  J203.JO  2021-05-28  66940.250000  67726.562500   \n",
       "104223  2021   5    31  J203.JO  2021-05-31  67554.859380  68140.851560   \n",
       "\n",
       "                 Low         Close     Adj Close  Volume     CloseUSD  \n",
       "0        2568.300049   2568.300049   2568.300049     0.0   333.879006  \n",
       "1        2540.100098   2540.100098   2540.100098     0.0   330.213013  \n",
       "2        2552.399902   2552.399902   2552.399902     0.0   331.811987  \n",
       "3        2583.899902   2583.899902   2583.899902     0.0   335.906987  \n",
       "4        2607.100098   2607.100098   2607.100098     0.0   338.923013  \n",
       "...              ...           ...           ...     ...          ...  \n",
       "104219  66022.976560  66076.679690  66076.679690     0.0  4625.367578  \n",
       "104220  66030.351560  66108.226560  66108.226560     0.0  4627.575859  \n",
       "104221  66102.546880  66940.250000  66940.250000     0.0  4685.817500  \n",
       "104222  66794.609380  67554.859380  67554.859380     0.0  4728.840157  \n",
       "104223  67554.859380  67964.039060  67964.039060     0.0  4757.482734  \n",
       "\n",
       "[104224 rows x 12 columns]"
      ]
     },
     "execution_count": 76,
     "metadata": {},
     "output_type": "execute_result"
    }
   ],
   "source": [
    "df"
   ]
  },
  {
   "cell_type": "code",
   "execution_count": 77,
   "id": "criminal-fruit",
   "metadata": {},
   "outputs": [],
   "source": [
    "from sklearn.preprocessing import LabelEncoder\n",
    "#encoding categorical feature to use it later in models\n",
    "label_encoder = LabelEncoder()\n",
    "df[\"Index\"] = label_encoder.fit_transform(df[\"Index\"])"
   ]
  },
  {
   "cell_type": "code",
   "execution_count": 78,
   "id": "general-september",
   "metadata": {},
   "outputs": [
    {
     "data": {
      "text/plain": [
       "Index(['day', 'mm', 'year', 'Index', 'Date', 'Open', 'High', 'Low', 'Close',\n",
       "       'Adj Close', 'Volume', 'CloseUSD'],\n",
       "      dtype='object')"
      ]
     },
     "execution_count": 78,
     "metadata": {},
     "output_type": "execute_result"
    }
   ],
   "source": [
    "df.columns"
   ]
  },
  {
   "cell_type": "code",
   "execution_count": 79,
   "id": "severe-chase",
   "metadata": {},
   "outputs": [
    {
     "data": {
      "text/html": [
       "<div>\n",
       "<style scoped>\n",
       "    .dataframe tbody tr th:only-of-type {\n",
       "        vertical-align: middle;\n",
       "    }\n",
       "\n",
       "    .dataframe tbody tr th {\n",
       "        vertical-align: top;\n",
       "    }\n",
       "\n",
       "    .dataframe thead th {\n",
       "        text-align: right;\n",
       "    }\n",
       "</style>\n",
       "<table border=\"1\" class=\"dataframe\">\n",
       "  <thead>\n",
       "    <tr style=\"text-align: right;\">\n",
       "      <th></th>\n",
       "      <th>day</th>\n",
       "      <th>mm</th>\n",
       "      <th>year</th>\n",
       "      <th>Index</th>\n",
       "      <th>Open</th>\n",
       "      <th>High</th>\n",
       "      <th>Low</th>\n",
       "      <th>Close</th>\n",
       "      <th>Adj Close</th>\n",
       "      <th>Volume</th>\n",
       "      <th>CloseUSD</th>\n",
       "    </tr>\n",
       "  </thead>\n",
       "  <tbody>\n",
       "    <tr>\n",
       "      <th>day</th>\n",
       "      <td>1.000000</td>\n",
       "      <td>-0.018824</td>\n",
       "      <td>0.003239</td>\n",
       "      <td>-0.115492</td>\n",
       "      <td>0.409796</td>\n",
       "      <td>0.410193</td>\n",
       "      <td>0.409216</td>\n",
       "      <td>0.409790</td>\n",
       "      <td>0.409809</td>\n",
       "      <td>0.211806</td>\n",
       "      <td>0.414584</td>\n",
       "    </tr>\n",
       "    <tr>\n",
       "      <th>mm</th>\n",
       "      <td>-0.018824</td>\n",
       "      <td>1.000000</td>\n",
       "      <td>-0.006529</td>\n",
       "      <td>-0.000709</td>\n",
       "      <td>-0.009293</td>\n",
       "      <td>-0.009363</td>\n",
       "      <td>-0.009128</td>\n",
       "      <td>-0.009254</td>\n",
       "      <td>-0.009254</td>\n",
       "      <td>-0.012161</td>\n",
       "      <td>-0.012954</td>\n",
       "    </tr>\n",
       "    <tr>\n",
       "      <th>year</th>\n",
       "      <td>0.003239</td>\n",
       "      <td>-0.006529</td>\n",
       "      <td>1.000000</td>\n",
       "      <td>-0.007672</td>\n",
       "      <td>0.001006</td>\n",
       "      <td>0.000936</td>\n",
       "      <td>0.001018</td>\n",
       "      <td>0.000925</td>\n",
       "      <td>0.000925</td>\n",
       "      <td>-0.004519</td>\n",
       "      <td>-0.003154</td>\n",
       "    </tr>\n",
       "    <tr>\n",
       "      <th>Index</th>\n",
       "      <td>-0.115492</td>\n",
       "      <td>-0.000709</td>\n",
       "      <td>-0.007672</td>\n",
       "      <td>1.000000</td>\n",
       "      <td>0.015120</td>\n",
       "      <td>0.014480</td>\n",
       "      <td>0.015750</td>\n",
       "      <td>0.014975</td>\n",
       "      <td>0.014994</td>\n",
       "      <td>-0.169248</td>\n",
       "      <td>-0.046190</td>\n",
       "    </tr>\n",
       "    <tr>\n",
       "      <th>Open</th>\n",
       "      <td>0.409796</td>\n",
       "      <td>-0.009293</td>\n",
       "      <td>0.001006</td>\n",
       "      <td>0.015120</td>\n",
       "      <td>1.000000</td>\n",
       "      <td>0.999958</td>\n",
       "      <td>0.999942</td>\n",
       "      <td>0.999904</td>\n",
       "      <td>0.999904</td>\n",
       "      <td>0.129090</td>\n",
       "      <td>0.187904</td>\n",
       "    </tr>\n",
       "    <tr>\n",
       "      <th>High</th>\n",
       "      <td>0.410193</td>\n",
       "      <td>-0.009363</td>\n",
       "      <td>0.000936</td>\n",
       "      <td>0.014480</td>\n",
       "      <td>0.999958</td>\n",
       "      <td>1.000000</td>\n",
       "      <td>0.999929</td>\n",
       "      <td>0.999954</td>\n",
       "      <td>0.999954</td>\n",
       "      <td>0.128926</td>\n",
       "      <td>0.187606</td>\n",
       "    </tr>\n",
       "    <tr>\n",
       "      <th>Low</th>\n",
       "      <td>0.409216</td>\n",
       "      <td>-0.009128</td>\n",
       "      <td>0.001018</td>\n",
       "      <td>0.015750</td>\n",
       "      <td>0.999942</td>\n",
       "      <td>0.999929</td>\n",
       "      <td>1.000000</td>\n",
       "      <td>0.999958</td>\n",
       "      <td>0.999958</td>\n",
       "      <td>0.128964</td>\n",
       "      <td>0.188190</td>\n",
       "    </tr>\n",
       "    <tr>\n",
       "      <th>Close</th>\n",
       "      <td>0.409790</td>\n",
       "      <td>-0.009254</td>\n",
       "      <td>0.000925</td>\n",
       "      <td>0.014975</td>\n",
       "      <td>0.999904</td>\n",
       "      <td>0.999954</td>\n",
       "      <td>0.999958</td>\n",
       "      <td>1.000000</td>\n",
       "      <td>1.000000</td>\n",
       "      <td>0.128971</td>\n",
       "      <td>0.187979</td>\n",
       "    </tr>\n",
       "    <tr>\n",
       "      <th>Adj Close</th>\n",
       "      <td>0.409809</td>\n",
       "      <td>-0.009254</td>\n",
       "      <td>0.000925</td>\n",
       "      <td>0.014994</td>\n",
       "      <td>0.999904</td>\n",
       "      <td>0.999954</td>\n",
       "      <td>0.999958</td>\n",
       "      <td>1.000000</td>\n",
       "      <td>1.000000</td>\n",
       "      <td>0.128976</td>\n",
       "      <td>0.187980</td>\n",
       "    </tr>\n",
       "    <tr>\n",
       "      <th>Volume</th>\n",
       "      <td>0.211806</td>\n",
       "      <td>-0.012161</td>\n",
       "      <td>-0.004519</td>\n",
       "      <td>-0.169248</td>\n",
       "      <td>0.129090</td>\n",
       "      <td>0.128926</td>\n",
       "      <td>0.128964</td>\n",
       "      <td>0.128971</td>\n",
       "      <td>0.128976</td>\n",
       "      <td>1.000000</td>\n",
       "      <td>0.506375</td>\n",
       "    </tr>\n",
       "    <tr>\n",
       "      <th>CloseUSD</th>\n",
       "      <td>0.414584</td>\n",
       "      <td>-0.012954</td>\n",
       "      <td>-0.003154</td>\n",
       "      <td>-0.046190</td>\n",
       "      <td>0.187904</td>\n",
       "      <td>0.187606</td>\n",
       "      <td>0.188190</td>\n",
       "      <td>0.187979</td>\n",
       "      <td>0.187980</td>\n",
       "      <td>0.506375</td>\n",
       "      <td>1.000000</td>\n",
       "    </tr>\n",
       "  </tbody>\n",
       "</table>\n",
       "</div>"
      ],
      "text/plain": [
       "                day        mm      year     Index      Open      High  \\\n",
       "day        1.000000 -0.018824  0.003239 -0.115492  0.409796  0.410193   \n",
       "mm        -0.018824  1.000000 -0.006529 -0.000709 -0.009293 -0.009363   \n",
       "year       0.003239 -0.006529  1.000000 -0.007672  0.001006  0.000936   \n",
       "Index     -0.115492 -0.000709 -0.007672  1.000000  0.015120  0.014480   \n",
       "Open       0.409796 -0.009293  0.001006  0.015120  1.000000  0.999958   \n",
       "High       0.410193 -0.009363  0.000936  0.014480  0.999958  1.000000   \n",
       "Low        0.409216 -0.009128  0.001018  0.015750  0.999942  0.999929   \n",
       "Close      0.409790 -0.009254  0.000925  0.014975  0.999904  0.999954   \n",
       "Adj Close  0.409809 -0.009254  0.000925  0.014994  0.999904  0.999954   \n",
       "Volume     0.211806 -0.012161 -0.004519 -0.169248  0.129090  0.128926   \n",
       "CloseUSD   0.414584 -0.012954 -0.003154 -0.046190  0.187904  0.187606   \n",
       "\n",
       "                Low     Close  Adj Close    Volume  CloseUSD  \n",
       "day        0.409216  0.409790   0.409809  0.211806  0.414584  \n",
       "mm        -0.009128 -0.009254  -0.009254 -0.012161 -0.012954  \n",
       "year       0.001018  0.000925   0.000925 -0.004519 -0.003154  \n",
       "Index      0.015750  0.014975   0.014994 -0.169248 -0.046190  \n",
       "Open       0.999942  0.999904   0.999904  0.129090  0.187904  \n",
       "High       0.999929  0.999954   0.999954  0.128926  0.187606  \n",
       "Low        1.000000  0.999958   0.999958  0.128964  0.188190  \n",
       "Close      0.999958  1.000000   1.000000  0.128971  0.187979  \n",
       "Adj Close  0.999958  1.000000   1.000000  0.128976  0.187980  \n",
       "Volume     0.128964  0.128971   0.128976  1.000000  0.506375  \n",
       "CloseUSD   0.188190  0.187979   0.187980  0.506375  1.000000  "
      ]
     },
     "execution_count": 79,
     "metadata": {},
     "output_type": "execute_result"
    }
   ],
   "source": [
    "#tester la correclation entre les variables\n",
    "df.corr()"
   ]
  },
  {
   "cell_type": "code",
   "execution_count": 80,
   "id": "entire-boutique",
   "metadata": {},
   "outputs": [],
   "source": [
    "dfReg=df"
   ]
  },
  {
   "cell_type": "code",
   "execution_count": 81,
   "id": "deadly-motion",
   "metadata": {},
   "outputs": [
    {
     "data": {
      "text/plain": [
       "(104224, 11)"
      ]
     },
     "execution_count": 81,
     "metadata": {},
     "output_type": "execute_result"
    }
   ],
   "source": [
    "dfReg=dfReg.select_dtypes(include='number')\n",
    "dfReg.shape"
   ]
  },
  {
   "cell_type": "code",
   "execution_count": 15,
   "id": "physical-psychiatry",
   "metadata": {},
   "outputs": [
    {
     "data": {
      "text/plain": [
       "day            int64\n",
       "mm             int64\n",
       "year           int64\n",
       "Index          int32\n",
       "Open         float64\n",
       "High         float64\n",
       "Low          float64\n",
       "Close        float64\n",
       "Adj Close    float64\n",
       "Volume       float64\n",
       "CloseUSD     float64\n",
       "dtype: object"
      ]
     },
     "execution_count": 15,
     "metadata": {},
     "output_type": "execute_result"
    }
   ],
   "source": [
    "#tester la correclation entre les variables avec la varibale CloseUSD\n",
    "dfReg.corr()['CloseUSD'].sort_values(ascending = False)\n",
    "dfReg.dtypes"
   ]
  },
  {
   "cell_type": "markdown",
   "id": "pointed-retailer",
   "metadata": {},
   "source": [
    "# Linear Regression"
   ]
  },
  {
   "cell_type": "markdown",
   "id": "informed-supplier",
   "metadata": {},
   "source": [
    "Objectif de Regression: predire le CloseUSD\n",
    "(Prix de clôture ajusté pour toutes les devises)"
   ]
  },
  {
   "cell_type": "code",
   "execution_count": 16,
   "id": "distinguished-closure",
   "metadata": {},
   "outputs": [],
   "source": [
    "from sklearn.model_selection import train_test_split\n",
    "\n",
    "#splitting data into training data and testing data\n",
    "X_train, X_test, y_train, y_test = train_test_split(\n",
    "    dfReg.drop(['CloseUSD'], axis=1),\n",
    "    dfReg.CloseUSD,\n",
    "    test_size= 0.2,  \n",
    "    random_state=0\n",
    ")"
   ]
  },
  {
   "cell_type": "code",
   "execution_count": 17,
   "id": "impressive-variance",
   "metadata": {},
   "outputs": [
    {
     "data": {
      "text/plain": [
       "(83379, 10)"
      ]
     },
     "execution_count": 17,
     "metadata": {},
     "output_type": "execute_result"
    }
   ],
   "source": [
    "X_train.shape"
   ]
  },
  {
   "cell_type": "code",
   "execution_count": 18,
   "id": "outstanding-restoration",
   "metadata": {},
   "outputs": [
    {
     "data": {
      "text/plain": [
       "(20845,)"
      ]
     },
     "execution_count": 18,
     "metadata": {},
     "output_type": "execute_result"
    }
   ],
   "source": [
    "y_test.shape"
   ]
  },
  {
   "cell_type": "code",
   "execution_count": 19,
   "id": "olympic-wales",
   "metadata": {},
   "outputs": [],
   "source": [
    "#scaler les donnees afin les differences d'echelles entre les variables a une echelle unique\n",
    "from sklearn.preprocessing import RobustScaler\n",
    "Scaler=RobustScaler()\n",
    "\n",
    "X_train=Scaler.fit_transform(X_train)\n",
    "X_test=Scaler.transform(X_test)\n"
   ]
  },
  {
   "cell_type": "code",
   "execution_count": 201,
   "id": "associate-perspective",
   "metadata": {},
   "outputs": [
    {
     "data": {
      "text/plain": [
       "LinearRegression()"
      ]
     },
     "execution_count": 201,
     "metadata": {},
     "output_type": "execute_result"
    }
   ],
   "source": [
    "#importation du model de regression\n",
    "from sklearn.metrics import mean_squared_error, r2_score\n",
    "import matplotlib.pyplot as plt\n",
    "from sklearn.linear_model import LinearRegression\n",
    "lr = LinearRegression()\n",
    "#entrainer le model\n",
    "lr.fit(X_train, y_train)"
   ]
  },
  {
   "cell_type": "code",
   "execution_count": 202,
   "id": "arctic-photography",
   "metadata": {},
   "outputs": [],
   "source": [
    "y_pred = lr.predict(X_test)"
   ]
  },
  {
   "cell_type": "code",
   "execution_count": 203,
   "id": "centered-roller",
   "metadata": {},
   "outputs": [
    {
     "name": "stdout",
     "output_type": "stream",
     "text": [
      "Coefficients: \n",
      " [ 4.67845422e-01 -3.27691149e-03 -1.22733705e-03  1.28860152e-01\n",
      "  6.06830086e-01 -5.54297767e+00  4.15823534e+00  4.35312933e+02\n",
      " -4.34583568e+02  1.89502287e-02]\n",
      "Mean squared error: 0.54\n",
      "Coefficient of determination: 0.37\n"
     ]
    }
   ],
   "source": [
    "# The coefficients\n",
    "print('Coefficients: \\n', lr.coef_)\n",
    "# The mean squared error\n",
    "print('Mean squared error: %.2f'\n",
    "      % mean_squared_error(y_test, y_pred))\n",
    "# The coefficient of determination: 1 is perfect prediction\n",
    "print('Coefficient of determination: %.2f'\n",
    "      % r2_score(y_test, y_pred))\n"
   ]
  },
  {
   "cell_type": "code",
   "execution_count": 204,
   "id": "united-recording",
   "metadata": {},
   "outputs": [
    {
     "data": {
      "text/plain": [
       "0.36789604493275285"
      ]
     },
     "execution_count": 204,
     "metadata": {},
     "output_type": "execute_result"
    }
   ],
   "source": [
    "#training score\n",
    "lr.score(X_train,y_train)"
   ]
  },
  {
   "cell_type": "code",
   "execution_count": 205,
   "id": "demographic-renaissance",
   "metadata": {},
   "outputs": [
    {
     "data": {
      "text/plain": [
       "0.37155782548365246"
      ]
     },
     "execution_count": 205,
     "metadata": {},
     "output_type": "execute_result"
    }
   ],
   "source": [
    "#testing score\n",
    "lr.score(X_test, y_test)"
   ]
  },
  {
   "cell_type": "code",
   "execution_count": 210,
   "id": "sacred-billion",
   "metadata": {},
   "outputs": [
    {
     "data": {
      "text/plain": [
       "<matplotlib.collections.PathCollection at 0x219e3bb91c8>"
      ]
     },
     "execution_count": 210,
     "metadata": {},
     "output_type": "execute_result"
    },
    {
     "data": {
      "image/png": "[encoded data removed]",
      "text/plain": [
       "<Figure size 432x288 with 1 Axes>"
      ]
     },
     "metadata": {
      "needs_background": "light"
     },
     "output_type": "display_data"
    }
   ],
   "source": [
    "#viasualising the error between  the predicted value and the correct one\n",
    "plt.scatter(y_test, y_pred,  color='black')\n"
   ]
  },
  {
   "cell_type": "markdown",
   "id": "acknowledged-grove",
   "metadata": {},
   "source": [
    "# Clustering\n"
   ]
  },
  {
   "cell_type": "markdown",
   "id": "responsible-scholarship",
   "metadata": {},
   "source": [
    "Objectif du clustering: diviser le CloseUSD en plusieurs clusters afin de faciliter leurs classification lors de la prediction"
   ]
  },
  {
   "cell_type": "code",
   "execution_count": 236,
   "id": "honest-paper",
   "metadata": {},
   "outputs": [],
   "source": [
    "\n",
    "from sklearn.cluster import KMeans\n",
    "from sklearn.metrics import silhouette_score\n",
    "kmeans = KMeans(\n",
    "   init=\"random\",\n",
    "    n_clusters=5,\n",
    "       n_init=10,\n",
    "       max_iter=300,\n",
    "       random_state=0\n",
    "   )"
   ]
  },
  {
   "cell_type": "code",
   "execution_count": 237,
   "id": "velvet-backing",
   "metadata": {},
   "outputs": [
    {
     "data": {
      "text/plain": [
       "KMeans(init='random', n_clusters=5, random_state=0)"
      ]
     },
     "execution_count": 237,
     "metadata": {},
     "output_type": "execute_result"
    }
   ],
   "source": [
    "dfClust=df\n",
    "dfClust=dfClust.drop(['Date'],axis=1)\n",
    "kmeans.fit(dfClust)"
   ]
  },
  {
   "cell_type": "code",
   "execution_count": 266,
   "id": "clinical-dealing",
   "metadata": {},
   "outputs": [
    {
     "data": {
      "text/plain": [
       "array([3, 3, 3, ..., 3, 3, 3])"
      ]
     },
     "execution_count": 266,
     "metadata": {},
     "output_type": "execute_result"
    }
   ],
   "source": [
    "# The lowest SSE value\n",
    "kmeans.inertia_\n",
    "identified_clusters = kmeans.fit_predict(dfClust)\n",
    "identified_clusters"
   ]
  },
  {
   "cell_type": "code",
   "execution_count": 239,
   "id": "controlling-donna",
   "metadata": {},
   "outputs": [
    {
     "data": {
      "text/plain": [
       "array([[2.00746721e+03, 6.65222672e+00, 1.59004049e+01, 3.09635628e+00,\n",
       "        1.07818613e+04, 1.08296048e+04, 1.07287572e+04, 1.07815919e+04,\n",
       "        1.07815919e+04, 1.34743262e+10, 8.96210580e+03],\n",
       "       [2.01112536e+03, 6.42816525e+00, 1.56965212e+01, 6.42799799e+00,\n",
       "        9.92408035e+03, 9.98583393e+03, 9.85209162e+03, 9.92176836e+03,\n",
       "        9.92176836e+03, 3.02224885e+09, 6.02222784e+03],\n",
       "       [2.01487179e+03, 6.54871795e+00, 1.71282051e+01, 3.00000000e+00,\n",
       "        1.35949282e+04, 1.37320328e+04, 1.34142318e+04, 1.35809041e+04,\n",
       "        1.35809041e+04, 4.15278179e+10, 1.12721504e+04],\n",
       "       [1.99966454e+03, 6.54326752e+00, 1.58594996e+01, 6.27542533e+00,\n",
       "        7.50038406e+03, 7.54563876e+03, 7.45150946e+03, 7.49973062e+03,\n",
       "        7.49948505e+03, 9.32302038e+07, 2.21729906e+03],\n",
       "       [2.01311956e+03, 6.12530813e+00, 1.54338537e+01, 3.00000000e+00,\n",
       "        1.38257383e+04, 1.38963595e+04, 1.37383783e+04, 1.38196450e+04,\n",
       "        1.38196450e+04, 2.25188569e+10, 1.14703054e+04]])"
      ]
     },
     "execution_count": 239,
     "metadata": {},
     "output_type": "execute_result"
    }
   ],
   "source": [
    "# Final locations of the centroid\n",
    "kmeans.cluster_centers_"
   ]
  },
  {
   "cell_type": "code",
   "execution_count": 240,
   "id": "infectious-finnish",
   "metadata": {},
   "outputs": [
    {
     "data": {
      "text/plain": [
       "88"
      ]
     },
     "execution_count": 240,
     "metadata": {},
     "output_type": "execute_result"
    }
   ],
   "source": [
    " # The number of iterations required to converge\n",
    "kmeans.n_iter_"
   ]
  },
  {
   "cell_type": "code",
   "execution_count": 241,
   "id": "returning-change",
   "metadata": {},
   "outputs": [
    {
     "data": {
      "text/plain": [
       "array([3, 3, 3, ..., 3, 3, 3])"
      ]
     },
     "execution_count": 241,
     "metadata": {},
     "output_type": "execute_result"
    }
   ],
   "source": [
    "kmeans.labels_"
   ]
  },
  {
   "cell_type": "code",
   "execution_count": 267,
   "id": "elementary-television",
   "metadata": {},
   "outputs": [
    {
     "data": {
      "text/plain": [
       "<matplotlib.collections.PathCollection at 0x219e7a2a4c8>"
      ]
     },
     "execution_count": 267,
     "metadata": {},
     "output_type": "execute_result"
    },
    {
     "data": {
      "image/png": "[encoded data removed]",
      "text/plain": [
       "<Figure size 432x288 with 1 Axes>"
      ]
     },
     "metadata": {},
     "output_type": "display_data"
    }
   ],
   "source": [
    "# to visualize the clusters\n",
    "data_with_clusters = dfClust.copy()\n",
    "data_with_clusters['Clusters'] = identified_clusters \n",
    "plt.scatter(data_with_clusters['CloseUSD'],data_with_clusters['Volume'],c=data_with_clusters['Clusters'],cmap='rainbow')"
   ]
  },
  {
   "cell_type": "code",
   "execution_count": 245,
   "id": "joint-withdrawal",
   "metadata": {},
   "outputs": [
    {
     "data": {
      "image/png": "[encoded data removed]",
      "text/plain": [
       "<Figure size 432x288 with 1 Axes>"
      ]
     },
     "metadata": {
      "needs_background": "light"
     },
     "output_type": "display_data"
    }
   ],
   "source": [
    "# plotting the distance of each number of clusters\n",
    "import seaborn as sns\n",
    "np.random.seed(42)\n",
    "inertia = []# Iterating the process\n",
    "for i in range(2, 10):\n",
    "  # Instantiate the model\n",
    "    model = KMeans(n_clusters=i)\n",
    "  # Fit The Model\n",
    "    model.fit(dfClust)\n",
    "  # Extract the error of the model\n",
    "    inertia.append(model.inertia_)# Visualize the model\n",
    "sns.pointplot(x=list(range(2, 10)), y=inertia)\n",
    "plt.title('SSE on K-Means based on # of clusters')\n",
    "plt.show()"
   ]
  },
  {
   "cell_type": "markdown",
   "id": "opponent-debut",
   "metadata": {},
   "source": [
    "# Classification"
   ]
  },
  {
   "cell_type": "code",
   "execution_count": 82,
   "id": "theoretical-ethernet",
   "metadata": {},
   "outputs": [
    {
     "data": {
      "text/plain": [
       "day            int64\n",
       "mm             int64\n",
       "year           int64\n",
       "Index          int32\n",
       "Open         float64\n",
       "High         float64\n",
       "Low          float64\n",
       "Close        float64\n",
       "Adj Close    float64\n",
       "Volume       float64\n",
       "CloseUSD     float64\n",
       "dtype: object"
      ]
     },
     "execution_count": 82,
     "metadata": {},
     "output_type": "execute_result"
    }
   ],
   "source": [
    "dfClass=df\n",
    "dfClass=dfClass.drop(['Date'],axis=1)\n",
    "dfClass.dtypes"
   ]
  },
  {
   "cell_type": "code",
   "execution_count": 83,
   "id": "instant-leave",
   "metadata": {},
   "outputs": [
    {
     "data": {
      "text/plain": [
       "(104224,)"
      ]
     },
     "execution_count": 83,
     "metadata": {},
     "output_type": "execute_result"
    }
   ],
   "source": [
    "dfClass[\"CloseUSD\"][1]\n",
    "dfClass[\"CloseUSD\"].shape"
   ]
  },
  {
   "cell_type": "code",
   "execution_count": 84,
   "id": "authentic-dryer",
   "metadata": {},
   "outputs": [
    {
     "data": {
      "text/plain": [
       "(104224, 1)"
      ]
     },
     "execution_count": 84,
     "metadata": {},
     "output_type": "execute_result"
    }
   ],
   "source": [
    "dfff=pd.DataFrame(dfClass,columns=[\"CloseClass\"])\n",
    "dfff.shape"
   ]
  },
  {
   "cell_type": "code",
   "execution_count": 85,
   "id": "unlikely-edward",
   "metadata": {},
   "outputs": [],
   "source": [
    "for k in range(104224) :\n",
    "    if(dfClass[\"CloseUSD\"][k]<=dfClass[\"CloseUSD\"].quantile(0.2)):\n",
    "        dfff[\"CloseClass\"][k]=1\n",
    "    elif(dfClass[\"CloseUSD\"][k]<=dfClass[\"CloseUSD\"].quantile(0.4)):\n",
    "        dfff[\"CloseClass\"][k]=2\n",
    "    elif(dfClass[\"CloseUSD\"][k]<=dfClass[\"CloseUSD\"].quantile(0.6)):\n",
    "        dfff[\"CloseClass\"][k]=3\n",
    "    elif(dfClass[\"CloseUSD\"][k]<=dfClass[\"CloseUSD\"].quantile(0.8)):\n",
    "        dfff[\"CloseClass\"][k]=4\n",
    "    else :\n",
    "        dfff[\"CloseClass\"][k]=5\n",
    "    "
   ]
  },
  {
   "cell_type": "code",
   "execution_count": 86,
   "id": "respective-marble",
   "metadata": {},
   "outputs": [
    {
     "data": {
      "text/plain": [
       "Index(['day', 'mm', 'year', 'Index', 'Open', 'High', 'Low', 'Close',\n",
       "       'Adj Close', 'Volume', 'CloseUSD', 'CloseClass'],\n",
       "      dtype='object')"
      ]
     },
     "execution_count": 86,
     "metadata": {},
     "output_type": "execute_result"
    }
   ],
   "source": [
    "dfff[\"CloseClass\"] = pd.to_numeric(dfff[\"CloseClass\"])\n",
    "df = pd.concat([dfClass,  dfff], axis=1)\n",
    "df.columns"
   ]
  },
  {
   "cell_type": "code",
   "execution_count": 87,
   "id": "virgin-difference",
   "metadata": {},
   "outputs": [
    {
     "data": {
      "text/plain": [
       "Index(['day', 'mm', 'year', 'Index', 'Open', 'High', 'Low', 'Close',\n",
       "       'Adj Close', 'Volume', 'CloseClass'],\n",
       "      dtype='object')"
      ]
     },
     "execution_count": 87,
     "metadata": {},
     "output_type": "execute_result"
    }
   ],
   "source": [
    "df=df.drop(['CloseUSD'],axis=1)\n",
    "df.columns"
   ]
  },
  {
   "cell_type": "code",
   "execution_count": 93,
   "id": "quality-checklist",
   "metadata": {},
   "outputs": [
    {
     "data": {
      "text/plain": [
       "CloseClass    1.000000\n",
       "day           0.396773\n",
       "Volume        0.374793\n",
       "Close         0.158480\n",
       "Adj Close     0.158468\n",
       "Low           0.158398\n",
       "Open          0.158374\n",
       "High          0.158354\n",
       "year         -0.004002\n",
       "mm           -0.011251\n",
       "Index        -0.113701\n",
       "Name: CloseClass, dtype: float64"
      ]
     },
     "execution_count": 93,
     "metadata": {},
     "output_type": "execute_result"
    }
   ],
   "source": [
    "df.corr()['CloseClass'].sort_values(ascending = False)"
   ]
  },
  {
   "cell_type": "code",
   "execution_count": 88,
   "id": "fossil-raising",
   "metadata": {},
   "outputs": [],
   "source": [
    "X_train, X_test, y_train, y_test = train_test_split(\n",
    "    df.drop(['CloseClass'], axis=1),\n",
    "    df[\"CloseClass\"],\n",
    "    test_size= 0.3,  \n",
    "    random_state=0\n",
    ")\n",
    "Scaler=RobustScaler()\n",
    "\n",
    "X_train=Scaler.fit_transform(X_train)\n",
    "X_test=Scaler.transform(X_test)"
   ]
  },
  {
   "cell_type": "markdown",
   "id": "silent-upper",
   "metadata": {},
   "source": [
    "## methode 1 : Random forest"
   ]
  },
  {
   "cell_type": "code",
   "execution_count": 89,
   "id": "sporting-somalia",
   "metadata": {},
   "outputs": [
    {
     "data": {
      "text/plain": [
       "GridSearchCV(cv=5, estimator=RandomForestClassifier(),\n",
       "             param_grid={'criterion': ['gini', 'entropy'],\n",
       "                         'max_depth': array([ 1,  2,  3,  4,  5,  6,  7,  8,  9, 10, 11, 12, 13, 14])})"
      ]
     },
     "execution_count": 89,
     "metadata": {},
     "output_type": "execute_result"
    }
   ],
   "source": [
    "from sklearn.model_selection import GridSearchCV\n",
    "from sklearn.ensemble import RandomForestClassifier\n",
    "#grid search helps us get the best parameters for our model\n",
    "RF = RandomForestClassifier()\n",
    "param_grid = {\n",
    "              'criterion' : ['gini', 'entropy'],             \n",
    "              'max_depth' : np.arange(1,15),      \n",
    "             }\n",
    "grid = GridSearchCV(RF, param_grid=param_grid , cv=5)\n",
    "grid"
   ]
  },
  {
   "cell_type": "code",
   "execution_count": 90,
   "id": "assisted-juice",
   "metadata": {},
   "outputs": [
    {
     "name": "stdout",
     "output_type": "stream",
     "text": [
      "best parameters {'criterion': 'entropy', 'max_depth': 13}\n",
      "grid score  0.9995202559676898\n"
     ]
    }
   ],
   "source": [
    "grid.fit(X_train, y_train)\n",
    "print('best parameters',grid.best_params_)\n",
    "print('grid score ',grid.best_score_)"
   ]
  },
  {
   "cell_type": "code",
   "execution_count": 91,
   "id": "surrounded-overview",
   "metadata": {},
   "outputs": [
    {
     "name": "stdout",
     "output_type": "stream",
     "text": [
      "Le train score est : 1.0\n",
      "Le test score est : 0.9997441473711143\n"
     ]
    }
   ],
   "source": [
    "T=grid.best_params_\n",
    "RF = RandomForestClassifier(random_state=0,max_depth=T['max_depth'],criterion=T['criterion'])\n",
    "RF.fit(X_train, y_train)\n",
    "print('Le train score est :', RF.score(X_train, y_train))\n",
    "print('Le test score est :', RF.score(X_test, y_test))"
   ]
  },
  {
   "cell_type": "markdown",
   "id": "lasting-policy",
   "metadata": {},
   "source": [
    "## methode2 : XGBOOST"
   ]
  },
  {
   "cell_type": "code",
   "execution_count": 94,
   "id": "apart-aaron",
   "metadata": {},
   "outputs": [
    {
     "name": "stderr",
     "output_type": "stream",
     "text": [
      "C:\\Users\\khalil\\anaconda3\\lib\\site-packages\\xgboost\\sklearn.py:888: UserWarning: The use of label encoder in XGBClassifier is deprecated and will be removed in a future release. To remove this warning, do the following: 1) Pass option use_label_encoder=False when constructing XGBClassifier object; and 2) Encode your labels (y) as integers starting with 0, i.e. 0, 1, 2, ..., [num_class - 1].\n",
      "  warnings.warn(label_encoder_deprecation_msg, UserWarning)\n"
     ]
    },
    {
     "name": "stdout",
     "output_type": "stream",
     "text": [
      "[00:58:58] WARNING: C:/Users/Administrator/workspace/xgboost-win64_release_1.3.0/src/learner.cc:1061: Starting in XGBoost 1.3.0, the default evaluation metric used with the objective 'multi:softprob' was changed from 'merror' to 'mlogloss'. Explicitly set eval_metric if you'd like to restore the old behavior.\n"
     ]
    },
    {
     "data": {
      "text/plain": [
       "0.9996299116659874"
      ]
     },
     "execution_count": 94,
     "metadata": {},
     "output_type": "execute_result"
    }
   ],
   "source": [
    "import xgboost as xgb\n",
    "param_grid=  { 'max_depth' : [3,4,5] , \n",
    "               'learning_rate': [0.1,0.01,0.05],\n",
    "               'gamma' : [0,0.25,1.0]  \n",
    "               }\n",
    "\n",
    "grid = GridSearchCV(xgb.XGBClassifier(), param_grid=param_grid , cv=5,n_jobs=-1)\n",
    "grid.fit(X_train,y_train)\n",
    "\n",
    "grid.best_params_\n",
    "grid.best_score_"
   ]
  },
  {
   "cell_type": "code",
   "execution_count": 96,
   "id": "manual-isolation",
   "metadata": {},
   "outputs": [
    {
     "name": "stdout",
     "output_type": "stream",
     "text": [
      "[00:59:28] WARNING: C:/Users/Administrator/workspace/xgboost-win64_release_1.3.0/src/learner.cc:1061: Starting in XGBoost 1.3.0, the default evaluation metric used with the objective 'multi:softprob' was changed from 'merror' to 'mlogloss'. Explicitly set eval_metric if you'd like to restore the old behavior.\n",
      "Le train score est : 0.999931465540874\n",
      "Le test score est : 0.9996801842138928\n"
     ]
    }
   ],
   "source": [
    "T=grid.best_params_\n",
    "xgboost= xgb.XGBClassifier(objective='binary:logistic',max_depth=T['max_depth'],learning_rate=T['learning_rate'],gamma=T['gamma'])\n",
    "xgboost.fit( X_train, y_train)\n",
    "print('Le train score est :', xgboost.score(X_train, y_train))\n",
    "print('Le test score est :', xgboost.score(X_test, y_test))"
   ]
  },
  {
   "cell_type": "markdown",
   "id": "nuclear-rogers",
   "metadata": {},
   "source": [
    "## Modele 3 : KNN\n"
   ]
  },
  {
   "cell_type": "code",
   "execution_count": 97,
   "id": "black-island",
   "metadata": {},
   "outputs": [
    {
     "data": {
      "text/plain": [
       "{'algorithm': 'auto', 'metric': 'manhattan', 'n_neighbors': 11}"
      ]
     },
     "execution_count": 97,
     "metadata": {},
     "output_type": "execute_result"
    }
   ],
   "source": [
    "from sklearn.neighbors import KNeighborsClassifier\n",
    "\n",
    "param_grid = {'n_neighbors' : np.arange(10,20),\n",
    "              'metric' : ['euclidean', 'manhattan','minkowski'],\n",
    "             'algorithm' : ['auto', 'ball_tree', 'kd_tree', 'brute']}\n",
    "\n",
    "grid = GridSearchCV(KNeighborsClassifier(), param_grid=param_grid , cv=5,n_jobs=-1)\n",
    "\n",
    "grid.fit(X_train, y_train)\n",
    "grid.best_params_"
   ]
  },
  {
   "cell_type": "code",
   "execution_count": 98,
   "id": "extensive-transmission",
   "metadata": {},
   "outputs": [
    {
     "name": "stdout",
     "output_type": "stream",
     "text": [
      "Le train score est : 0.9854432808816272\n",
      "Le test score est : 0.9799795317896891\n"
     ]
    }
   ],
   "source": [
    "T=grid.best_params_\n",
    "KNN = KNeighborsClassifier(n_neighbors=T['n_neighbors']  ,metric=T['metric'] ,algorithm=T['algorithm'])\n",
    "KNN.fit( X_train, y_train)\n",
    "print('Le train score est :', KNN.score(X_train, y_train))\n",
    "print('Le test score est :', KNN.score(X_test, y_test))"
   ]
  },
  {
   "cell_type": "code",
   "execution_count": 109,
   "id": "previous-colorado",
   "metadata": {},
   "outputs": [
    {
     "name": "stdout",
     "output_type": "stream",
     "text": [
      "KNN accuracy 0.9799795317896891\n",
      "xgboost accuracy 0.9996801842138928\n",
      "random forest accuracy 0.9997441473711143\n"
     ]
    }
   ],
   "source": [
    "from sklearn.metrics import roc_auc_score, auc,accuracy_score\n",
    "\n",
    "y_pred = KNN.predict(X_test)\n",
    "\n",
    "print('KNN accuracy %s' % accuracy_score(y_pred, y_test))\n",
    "y_pred = xgboost.predict(X_test)\n",
    "\n",
    "print('xgboost accuracy %s' % accuracy_score(y_pred, y_test))\n",
    "y_pred = RF.predict(X_test)\n",
    "\n",
    "print('random forest accuracy %s' % accuracy_score(y_pred, y_test))\n"
   ]
  },
  {
   "cell_type": "code",
   "execution_count": null,
   "id": "apart-market",
   "metadata": {},
   "outputs": [],
   "source": []
  },
  {
   "cell_type": "code",
   "execution_count": null,
   "id": "shared-austin",
   "metadata": {},
   "outputs": [],
   "source": []
  }
 ],
 "metadata": {
  "kernelspec": {
   "display_name": "Python 3",
   "language": "python",
   "name": "python3"
  },
  "language_info": {
   "codemirror_mode": {
    "name": "ipython",
    "version": 3
   },
   "file_extension": ".py",
   "mimetype": "text/x-python",
   "name": "python",
   "nbconvert_exporter": "python",
   "pygments_lexer": "ipython3",
   "version": "3.7.10"
  }
 },
 "nbformat": 4,
 "nbformat_minor": 5
}

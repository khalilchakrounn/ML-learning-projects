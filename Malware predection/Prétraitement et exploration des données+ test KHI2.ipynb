{
 "cells": [
  {
   "cell_type": "markdown",
   "metadata": {},
   "source": [
    "# 1.Prétraitement et exploration des données\n"
   ]
  },
  {
   "cell_type": "markdown",
   "metadata": {},
   "source": [
    "# **1.1. Importation de bibliothèques et de jeux de données**\n"
   ]
  },
  {
   "cell_type": "code",
   "execution_count": 5,
   "metadata": {},
   "outputs": [],
   "source": [
    "import pandas as pd\n",
    "import numpy as np\n",
    "import matplotlib.pyplot as plt\n",
    "import seaborn as sns"
   ]
  },
  {
   "cell_type": "code",
   "execution_count": 6,
   "metadata": {},
   "outputs": [
    {
     "name": "stdout",
     "output_type": "stream",
     "text": [
      "                          Operating System  Client Version    Status  \\\n",
      "0            Windows 10 Enterprise Edition  14.3.1169.0100   Enabled   \n",
      "1             Windows 10 Education Edition  14.3.1169.0100   Enabled   \n",
      "2     Windows Server 2016 Standard Edition  14.3.1169.0100   Enabled   \n",
      "3            Windows 10 Enterprise Edition  14.3.1169.0100   Enabled   \n",
      "4            Windows 10 Enterprise Edition  14.3.1169.0100   Enabled   \n",
      "...                                    ...             ...       ...   \n",
      "3096         Windows 10 Enterprise Edition  14.3.1169.0100  Disabled   \n",
      "3097         Windows 10 Enterprise Edition  14.3.1169.0100  Disabled   \n",
      "3098          Windows 7 Enterprise Edition  14.3.1169.0100  Disabled   \n",
      "3099          Windows 7 Enterprise Edition  14.3.1169.0100  Disabled   \n",
      "3100         Windows 10 Enterprise Edition  14.3.1169.0100  Disabled   \n",
      "\n",
      "     Auto-Protect On Endpoint Detection and Response Status  \\\n",
      "0            Enabled                              Connected   \n",
      "1            Enabled                              Connected   \n",
      "2            Enabled                           Disconnected   \n",
      "3            Enabled                              Connected   \n",
      "4            Enabled                              Connected   \n",
      "...              ...                                    ...   \n",
      "3096         Enabled                              Connected   \n",
      "3097         Enabled                              Connected   \n",
      "3098         Enabled                              Connected   \n",
      "3099         Enabled                              Connected   \n",
      "3100         Enabled                              Connected   \n",
      "\n",
      "           Last Scan Time Last Virus Time            Download Insight On  \\\n",
      "0     04/17/2022 18:00:04           Never  Enabled - Advanced protection   \n",
      "1     04/17/2022 18:00:00           Never  Enabled - Advanced protection   \n",
      "2     04/17/2022 18:00:02           Never  Enabled - Advanced protection   \n",
      "3     04/18/2022 08:53:03           Never  Enabled - Advanced protection   \n",
      "4     04/17/2022 18:00:00           Never  Enabled - Advanced protection   \n",
      "...                   ...             ...                            ...   \n",
      "3096  2022-03-04 17:34:26           Never  Enabled - Advanced protection   \n",
      "3097  2022-03-04 18:00:04           Never  Enabled - Advanced protection   \n",
      "3098  2022-03-04 18:00:03           Never  Enabled - Advanced protection   \n",
      "3099  2022-03-04 18:00:00           Never  Enabled - Advanced protection   \n",
      "3100  2022-03-04 18:00:03           Never  Enabled - Advanced protection   \n",
      "\n",
      "     Intrusion Prevention On Early Launch Antimalware On Restart Required  \\\n",
      "0                    Enabled                     Enabled               No   \n",
      "1                    Enabled                     Enabled               No   \n",
      "2                    Enabled                     Enabled               No   \n",
      "3                    Enabled                     Enabled               No   \n",
      "4                    Enabled                     Enabled               No   \n",
      "...                      ...                         ...              ...   \n",
      "3096                 Enabled                     Enabled               No   \n",
      "3097                 Enabled                     Enabled               No   \n",
      "3098                 Enabled               Not installed               No   \n",
      "3099                 Enabled               Not installed               No   \n",
      "3100                 Enabled                     Enabled               No   \n",
      "\n",
      "        Computer Name  Number Of Processors Server Name    Current User  \\\n",
      "0          TNP7CPS-21                   8.0  SEC-SrvAV1        AGENCEP7   \n",
      "1          TNL2RPV-21                   8.0  SEC-SrvAV1            2023   \n",
      "2     WIN-TQ1A3BV435R                   8.0  SEC-SrvAV1   Administrator   \n",
      "3              GE-548                  12.0  SEC-SrvAV1            9145   \n",
      "4           TNAGR4GUI                   8.0  SEC-SrvAV1            4837   \n",
      "...               ...                   ...         ...             ...   \n",
      "3096          TNBOX71                   8.0  SEC-SrvAV1            4280   \n",
      "3097       28accueil2                   8.0  SEC-SrvAV1            5525   \n",
      "3098           73ATC2                   8.0  SEC-SrvAV1  Administrateur   \n",
      "3099             G2G2                   8.0  SEC-SrvAV1            1762   \n",
      "3100    BOUGHERRAKAIS                   8.0  SEC-SrvAV1            2769   \n",
      "\n",
      "                         Worst Detection  \n",
      "0     (Severity 3) Antivirus - Heuristic  \n",
      "1                          No detections  \n",
      "2                          No detections  \n",
      "3                          No detections  \n",
      "4                          No detections  \n",
      "...                                  ...  \n",
      "3096                       No detections  \n",
      "3097                       No detections  \n",
      "3098                  (Severity 0) Viral  \n",
      "3099                       No detections  \n",
      "3100                  (Severity 0) Viral  \n",
      "\n",
      "[3101 rows x 16 columns]\n"
     ]
    }
   ],
   "source": [
    "dataframe = pd.read_excel(\"Projet.xlsx\")\n",
    "print(dataframe)"
   ]
  },
  {
   "cell_type": "code",
   "execution_count": 7,
   "metadata": {},
   "outputs": [
    {
     "data": {
      "text/html": [
       "<div>\n",
       "<style scoped>\n",
       "    .dataframe tbody tr th:only-of-type {\n",
       "        vertical-align: middle;\n",
       "    }\n",
       "\n",
       "    .dataframe tbody tr th {\n",
       "        vertical-align: top;\n",
       "    }\n",
       "\n",
       "    .dataframe thead th {\n",
       "        text-align: right;\n",
       "    }\n",
       "</style>\n",
       "<table border=\"1\" class=\"dataframe\">\n",
       "  <thead>\n",
       "    <tr style=\"text-align: right;\">\n",
       "      <th></th>\n",
       "      <th>Operating System</th>\n",
       "      <th>Client Version</th>\n",
       "      <th>Status</th>\n",
       "      <th>Auto-Protect On</th>\n",
       "      <th>Endpoint Detection and Response Status</th>\n",
       "      <th>Last Scan Time</th>\n",
       "      <th>Last Virus Time</th>\n",
       "      <th>Download Insight On</th>\n",
       "      <th>Intrusion Prevention On</th>\n",
       "      <th>Early Launch Antimalware On</th>\n",
       "      <th>Restart Required</th>\n",
       "      <th>Computer Name</th>\n",
       "      <th>Number Of Processors</th>\n",
       "      <th>Server Name</th>\n",
       "      <th>Current User</th>\n",
       "      <th>Worst Detection</th>\n",
       "    </tr>\n",
       "  </thead>\n",
       "  <tbody>\n",
       "    <tr>\n",
       "      <th>0</th>\n",
       "      <td>Windows 10 Enterprise Edition</td>\n",
       "      <td>14.3.1169.0100</td>\n",
       "      <td>Enabled</td>\n",
       "      <td>Enabled</td>\n",
       "      <td>Connected</td>\n",
       "      <td>04/17/2022 18:00:04</td>\n",
       "      <td>Never</td>\n",
       "      <td>Enabled - Advanced protection</td>\n",
       "      <td>Enabled</td>\n",
       "      <td>Enabled</td>\n",
       "      <td>No</td>\n",
       "      <td>TNP7CPS-21</td>\n",
       "      <td>8.0</td>\n",
       "      <td>SEC-SrvAV1</td>\n",
       "      <td>AGENCEP7</td>\n",
       "      <td>(Severity 3) Antivirus - Heuristic</td>\n",
       "    </tr>\n",
       "    <tr>\n",
       "      <th>1</th>\n",
       "      <td>Windows 10 Education Edition</td>\n",
       "      <td>14.3.1169.0100</td>\n",
       "      <td>Enabled</td>\n",
       "      <td>Enabled</td>\n",
       "      <td>Connected</td>\n",
       "      <td>04/17/2022 18:00:00</td>\n",
       "      <td>Never</td>\n",
       "      <td>Enabled - Advanced protection</td>\n",
       "      <td>Enabled</td>\n",
       "      <td>Enabled</td>\n",
       "      <td>No</td>\n",
       "      <td>TNL2RPV-21</td>\n",
       "      <td>8.0</td>\n",
       "      <td>SEC-SrvAV1</td>\n",
       "      <td>2023</td>\n",
       "      <td>No detections</td>\n",
       "    </tr>\n",
       "    <tr>\n",
       "      <th>2</th>\n",
       "      <td>Windows Server 2016 Standard Edition</td>\n",
       "      <td>14.3.1169.0100</td>\n",
       "      <td>Enabled</td>\n",
       "      <td>Enabled</td>\n",
       "      <td>Disconnected</td>\n",
       "      <td>04/17/2022 18:00:02</td>\n",
       "      <td>Never</td>\n",
       "      <td>Enabled - Advanced protection</td>\n",
       "      <td>Enabled</td>\n",
       "      <td>Enabled</td>\n",
       "      <td>No</td>\n",
       "      <td>WIN-TQ1A3BV435R</td>\n",
       "      <td>8.0</td>\n",
       "      <td>SEC-SrvAV1</td>\n",
       "      <td>Administrator</td>\n",
       "      <td>No detections</td>\n",
       "    </tr>\n",
       "    <tr>\n",
       "      <th>3</th>\n",
       "      <td>Windows 10 Enterprise Edition</td>\n",
       "      <td>14.3.1169.0100</td>\n",
       "      <td>Enabled</td>\n",
       "      <td>Enabled</td>\n",
       "      <td>Connected</td>\n",
       "      <td>04/18/2022 08:53:03</td>\n",
       "      <td>Never</td>\n",
       "      <td>Enabled - Advanced protection</td>\n",
       "      <td>Enabled</td>\n",
       "      <td>Enabled</td>\n",
       "      <td>No</td>\n",
       "      <td>GE-548</td>\n",
       "      <td>12.0</td>\n",
       "      <td>SEC-SrvAV1</td>\n",
       "      <td>9145</td>\n",
       "      <td>No detections</td>\n",
       "    </tr>\n",
       "    <tr>\n",
       "      <th>4</th>\n",
       "      <td>Windows 10 Enterprise Edition</td>\n",
       "      <td>14.3.1169.0100</td>\n",
       "      <td>Enabled</td>\n",
       "      <td>Enabled</td>\n",
       "      <td>Connected</td>\n",
       "      <td>04/17/2022 18:00:00</td>\n",
       "      <td>Never</td>\n",
       "      <td>Enabled - Advanced protection</td>\n",
       "      <td>Enabled</td>\n",
       "      <td>Enabled</td>\n",
       "      <td>No</td>\n",
       "      <td>TNAGR4GUI</td>\n",
       "      <td>8.0</td>\n",
       "      <td>SEC-SrvAV1</td>\n",
       "      <td>4837</td>\n",
       "      <td>No detections</td>\n",
       "    </tr>\n",
       "  </tbody>\n",
       "</table>\n",
       "</div>"
      ],
      "text/plain": [
       "                       Operating System  Client Version   Status  \\\n",
       "0         Windows 10 Enterprise Edition  14.3.1169.0100  Enabled   \n",
       "1          Windows 10 Education Edition  14.3.1169.0100  Enabled   \n",
       "2  Windows Server 2016 Standard Edition  14.3.1169.0100  Enabled   \n",
       "3         Windows 10 Enterprise Edition  14.3.1169.0100  Enabled   \n",
       "4         Windows 10 Enterprise Edition  14.3.1169.0100  Enabled   \n",
       "\n",
       "  Auto-Protect On Endpoint Detection and Response Status       Last Scan Time  \\\n",
       "0         Enabled                              Connected  04/17/2022 18:00:04   \n",
       "1         Enabled                              Connected  04/17/2022 18:00:00   \n",
       "2         Enabled                           Disconnected  04/17/2022 18:00:02   \n",
       "3         Enabled                              Connected  04/18/2022 08:53:03   \n",
       "4         Enabled                              Connected  04/17/2022 18:00:00   \n",
       "\n",
       "  Last Virus Time            Download Insight On Intrusion Prevention On  \\\n",
       "0           Never  Enabled - Advanced protection                 Enabled   \n",
       "1           Never  Enabled - Advanced protection                 Enabled   \n",
       "2           Never  Enabled - Advanced protection                 Enabled   \n",
       "3           Never  Enabled - Advanced protection                 Enabled   \n",
       "4           Never  Enabled - Advanced protection                 Enabled   \n",
       "\n",
       "  Early Launch Antimalware On Restart Required    Computer Name  \\\n",
       "0                     Enabled               No       TNP7CPS-21   \n",
       "1                     Enabled               No       TNL2RPV-21   \n",
       "2                     Enabled               No  WIN-TQ1A3BV435R   \n",
       "3                     Enabled               No           GE-548   \n",
       "4                     Enabled               No        TNAGR4GUI   \n",
       "\n",
       "   Number Of Processors Server Name   Current User  \\\n",
       "0                   8.0  SEC-SrvAV1       AGENCEP7   \n",
       "1                   8.0  SEC-SrvAV1           2023   \n",
       "2                   8.0  SEC-SrvAV1  Administrator   \n",
       "3                  12.0  SEC-SrvAV1           9145   \n",
       "4                   8.0  SEC-SrvAV1           4837   \n",
       "\n",
       "                      Worst Detection  \n",
       "0  (Severity 3) Antivirus - Heuristic  \n",
       "1                       No detections  \n",
       "2                       No detections  \n",
       "3                       No detections  \n",
       "4                       No detections  "
      ]
     },
     "execution_count": 7,
     "metadata": {},
     "output_type": "execute_result"
    }
   ],
   "source": [
    "dataframe.head()"
   ]
  },
  {
   "cell_type": "code",
   "execution_count": 8,
   "metadata": {},
   "outputs": [
    {
     "data": {
      "text/plain": [
       "Operating System                           0\n",
       "Client Version                             0\n",
       "Status                                     0\n",
       "Auto-Protect On                            0\n",
       "Endpoint Detection and Response Status    11\n",
       "Last Scan Time                             0\n",
       "Last Virus Time                            0\n",
       "Download Insight On                        0\n",
       "Intrusion Prevention On                    0\n",
       "Early Launch Antimalware On                0\n",
       "Restart Required                           0\n",
       "Computer Name                             11\n",
       "Number Of Processors                      11\n",
       "Server Name                               11\n",
       "Current User                              11\n",
       "Worst Detection                            0\n",
       "dtype: int64"
      ]
     },
     "execution_count": 8,
     "metadata": {},
     "output_type": "execute_result"
    }
   ],
   "source": [
    "dataframe.isnull().sum()"
   ]
  },
  {
   "cell_type": "code",
   "execution_count": 9,
   "metadata": {},
   "outputs": [
    {
     "data": {
      "text/plain": [
       "(3101, 16)"
      ]
     },
     "execution_count": 9,
     "metadata": {},
     "output_type": "execute_result"
    }
   ],
   "source": [
    "dataframe.shape"
   ]
  },
  {
   "cell_type": "markdown",
   "metadata": {},
   "source": [
    "# 1.2. Description statistique"
   ]
  },
  {
   "cell_type": "code",
   "execution_count": 10,
   "metadata": {},
   "outputs": [
    {
     "name": "stdout",
     "output_type": "stream",
     "text": [
      "<class 'pandas.core.frame.DataFrame'>\n",
      "RangeIndex: 3101 entries, 0 to 3100\n",
      "Data columns (total 16 columns):\n",
      " #   Column                                  Non-Null Count  Dtype  \n",
      "---  ------                                  --------------  -----  \n",
      " 0   Operating System                        3101 non-null   object \n",
      " 1   Client Version                          3101 non-null   object \n",
      " 2   Status                                  3101 non-null   object \n",
      " 3   Auto-Protect On                         3101 non-null   object \n",
      " 4   Endpoint Detection and Response Status  3090 non-null   object \n",
      " 5   Last Scan Time                          3101 non-null   object \n",
      " 6   Last Virus Time                         3101 non-null   object \n",
      " 7   Download Insight On                     3101 non-null   object \n",
      " 8   Intrusion Prevention On                 3101 non-null   object \n",
      " 9   Early Launch Antimalware On             3101 non-null   object \n",
      " 10  Restart Required                        3101 non-null   object \n",
      " 11  Computer Name                           3090 non-null   object \n",
      " 12  Number Of Processors                    3090 non-null   float64\n",
      " 13  Server Name                             3090 non-null   object \n",
      " 14  Current User                            3090 non-null   object \n",
      " 15  Worst Detection                         3101 non-null   object \n",
      "dtypes: float64(1), object(15)\n",
      "memory usage: 387.8+ KB\n"
     ]
    }
   ],
   "source": [
    "dataframe.info()"
   ]
  },
  {
   "cell_type": "code",
   "execution_count": 11,
   "metadata": {},
   "outputs": [
    {
     "data": {
      "text/html": [
       "<div>\n",
       "<style scoped>\n",
       "    .dataframe tbody tr th:only-of-type {\n",
       "        vertical-align: middle;\n",
       "    }\n",
       "\n",
       "    .dataframe tbody tr th {\n",
       "        vertical-align: top;\n",
       "    }\n",
       "\n",
       "    .dataframe thead th {\n",
       "        text-align: right;\n",
       "    }\n",
       "</style>\n",
       "<table border=\"1\" class=\"dataframe\">\n",
       "  <thead>\n",
       "    <tr style=\"text-align: right;\">\n",
       "      <th></th>\n",
       "      <th>Operating System</th>\n",
       "      <th>Client Version</th>\n",
       "      <th>Status</th>\n",
       "      <th>Auto-Protect On</th>\n",
       "      <th>Endpoint Detection and Response Status</th>\n",
       "      <th>Last Scan Time</th>\n",
       "      <th>Last Virus Time</th>\n",
       "      <th>Download Insight On</th>\n",
       "      <th>Intrusion Prevention On</th>\n",
       "      <th>Early Launch Antimalware On</th>\n",
       "      <th>Restart Required</th>\n",
       "      <th>Computer Name</th>\n",
       "      <th>Server Name</th>\n",
       "      <th>Current User</th>\n",
       "      <th>Worst Detection</th>\n",
       "    </tr>\n",
       "  </thead>\n",
       "  <tbody>\n",
       "    <tr>\n",
       "      <th>count</th>\n",
       "      <td>3101</td>\n",
       "      <td>3101</td>\n",
       "      <td>3101</td>\n",
       "      <td>3101</td>\n",
       "      <td>3090</td>\n",
       "      <td>3101</td>\n",
       "      <td>3101</td>\n",
       "      <td>3101</td>\n",
       "      <td>3101</td>\n",
       "      <td>3101</td>\n",
       "      <td>3101</td>\n",
       "      <td>3090</td>\n",
       "      <td>3090</td>\n",
       "      <td>3090</td>\n",
       "      <td>3101</td>\n",
       "    </tr>\n",
       "    <tr>\n",
       "      <th>unique</th>\n",
       "      <td>12</td>\n",
       "      <td>5</td>\n",
       "      <td>2</td>\n",
       "      <td>2</td>\n",
       "      <td>4</td>\n",
       "      <td>658</td>\n",
       "      <td>208</td>\n",
       "      <td>4</td>\n",
       "      <td>3</td>\n",
       "      <td>3</td>\n",
       "      <td>2</td>\n",
       "      <td>3088</td>\n",
       "      <td>2</td>\n",
       "      <td>2540</td>\n",
       "      <td>8</td>\n",
       "    </tr>\n",
       "    <tr>\n",
       "      <th>top</th>\n",
       "      <td>Windows 10 Enterprise Edition</td>\n",
       "      <td>14.3.1169.0100</td>\n",
       "      <td>Enabled</td>\n",
       "      <td>Enabled</td>\n",
       "      <td>Connected</td>\n",
       "      <td>04/17/2022 18:00:02</td>\n",
       "      <td>Never</td>\n",
       "      <td>Enabled - Advanced protection</td>\n",
       "      <td>Enabled</td>\n",
       "      <td>Enabled</td>\n",
       "      <td>No</td>\n",
       "      <td>TNM8CC-21</td>\n",
       "      <td>SEC-SrvAV1</td>\n",
       "      <td>Administrator</td>\n",
       "      <td>No detections</td>\n",
       "    </tr>\n",
       "    <tr>\n",
       "      <th>freq</th>\n",
       "      <td>2031</td>\n",
       "      <td>3096</td>\n",
       "      <td>2900</td>\n",
       "      <td>3094</td>\n",
       "      <td>3034</td>\n",
       "      <td>497</td>\n",
       "      <td>2894</td>\n",
       "      <td>3087</td>\n",
       "      <td>3086</td>\n",
       "      <td>2671</td>\n",
       "      <td>3084</td>\n",
       "      <td>2</td>\n",
       "      <td>3087</td>\n",
       "      <td>73</td>\n",
       "      <td>2342</td>\n",
       "    </tr>\n",
       "  </tbody>\n",
       "</table>\n",
       "</div>"
      ],
      "text/plain": [
       "                     Operating System  Client Version   Status  \\\n",
       "count                            3101            3101     3101   \n",
       "unique                             12               5        2   \n",
       "top     Windows 10 Enterprise Edition  14.3.1169.0100  Enabled   \n",
       "freq                             2031            3096     2900   \n",
       "\n",
       "       Auto-Protect On Endpoint Detection and Response Status  \\\n",
       "count             3101                                   3090   \n",
       "unique               2                                      4   \n",
       "top            Enabled                              Connected   \n",
       "freq              3094                                   3034   \n",
       "\n",
       "             Last Scan Time Last Virus Time            Download Insight On  \\\n",
       "count                  3101            3101                           3101   \n",
       "unique                  658             208                              4   \n",
       "top     04/17/2022 18:00:02           Never  Enabled - Advanced protection   \n",
       "freq                    497            2894                           3087   \n",
       "\n",
       "       Intrusion Prevention On Early Launch Antimalware On Restart Required  \\\n",
       "count                     3101                        3101             3101   \n",
       "unique                       3                           3                2   \n",
       "top                    Enabled                     Enabled               No   \n",
       "freq                      3086                        2671             3084   \n",
       "\n",
       "       Computer Name Server Name   Current User Worst Detection  \n",
       "count           3090        3090           3090            3101  \n",
       "unique          3088           2           2540               8  \n",
       "top        TNM8CC-21  SEC-SrvAV1  Administrator   No detections  \n",
       "freq               2        3087             73            2342  "
      ]
     },
     "execution_count": 11,
     "metadata": {},
     "output_type": "execute_result"
    }
   ],
   "source": [
    "dataframe.describe(include=['object'])"
   ]
  },
  {
   "cell_type": "code",
   "execution_count": 12,
   "metadata": {},
   "outputs": [
    {
     "data": {
      "text/plain": [
       "14.3.1169.0100    3096\n",
       "14.3.5413.3000       2\n",
       "14.3.3452.1000       1\n",
       "12.1.4013.4013       1\n",
       "12.1.5337.5000       1\n",
       "Name: Client Version, dtype: int64"
      ]
     },
     "execution_count": 12,
     "metadata": {},
     "output_type": "execute_result"
    }
   ],
   "source": [
    "dataframe[\"Client Version\"].value_counts()"
   ]
  },
  {
   "cell_type": "code",
   "execution_count": 13,
   "metadata": {},
   "outputs": [
    {
     "data": {
      "text/plain": [
       "No detections                                2342\n",
       "(Severity 0) Viral                            496\n",
       "(Severity 3) Antivirus - Heuristic            208\n",
       "(Severity 4) Other                             49\n",
       "(Severity 14) SONAR Proactive Threat Scan       2\n",
       "(Severity 7) Trackware                          2\n",
       "(Severity 6) Spyware                            1\n",
       "(Severity 10) Adware                            1\n",
       "Name: Worst Detection, dtype: int64"
      ]
     },
     "execution_count": 13,
     "metadata": {},
     "output_type": "execute_result"
    }
   ],
   "source": [
    "dataframe[\"Worst Detection\"].value_counts()"
   ]
  },
  {
   "cell_type": "code",
   "execution_count": 14,
   "metadata": {},
   "outputs": [
    {
     "data": {
      "text/plain": [
       "Windows 10 Enterprise Edition                2031\n",
       "Windows 10 Education Edition                  512\n",
       "Windows 7 Enterprise Edition                  381\n",
       "Windows Server 2019 Standard Edition           51\n",
       "Windows Server 2012 R2 Standard Edition        37\n",
       "Windows Server 2008 R2 Enterprise Edition      23\n",
       "Windows 7 Professional Edition                 20\n",
       "Windows Server 2016 Standard Edition           19\n",
       "Windows 10 Professional Edition                16\n",
       "Windows 10 Enterprise LTSB                      5\n",
       "Windows Server 2012 R2 Datacenter Edition       4\n",
       "Windows 10 Pro for Workstations                 2\n",
       "Name: Operating System, dtype: int64"
      ]
     },
     "execution_count": 14,
     "metadata": {},
     "output_type": "execute_result"
    }
   ],
   "source": [
    "dataframe[\"Operating System\"].value_counts()"
   ]
  },
  {
   "cell_type": "code",
   "execution_count": 15,
   "metadata": {},
   "outputs": [
    {
     "data": {
      "text/plain": [
       "Never                  2894\n",
       "06/22/2021 11:00:37       1\n",
       "03/14/2022 10:19:18       1\n",
       "2021-10-11 14:40:48       1\n",
       "2021-04-11 10:22:24       1\n",
       "                       ... \n",
       "11/30/2021 18:18:56       1\n",
       "2022-02-01 18:16:25       1\n",
       "2022-05-04 19:37:57       1\n",
       "2021-03-06 16:31:44       1\n",
       "2022-06-03 22:53:19       1\n",
       "Name: Last Virus Time, Length: 208, dtype: int64"
      ]
     },
     "execution_count": 15,
     "metadata": {},
     "output_type": "execute_result"
    }
   ],
   "source": [
    "dataframe[\"Last Virus Time\"].value_counts()"
   ]
  },
  {
   "cell_type": "code",
   "execution_count": 16,
   "metadata": {},
   "outputs": [
    {
     "data": {
      "text/plain": [
       "Administrator     73\n",
       "Administrateur    70\n",
       "stagiaire         13\n",
       "03708-admin       10\n",
       "pcssiege           9\n",
       "                  ..\n",
       "2706               1\n",
       "2705               1\n",
       "2704               1\n",
       "2702               1\n",
       "4096               1\n",
       "Name: Current User, Length: 2540, dtype: int64"
      ]
     },
     "execution_count": 16,
     "metadata": {},
     "output_type": "execute_result"
    }
   ],
   "source": [
    "dataframe[\"Current User\"].value_counts()"
   ]
  },
  {
   "cell_type": "code",
   "execution_count": 17,
   "metadata": {},
   "outputs": [
    {
     "data": {
      "text/plain": [
       "array(['SEC-SrvAV1', nan, 'SRV-Repli-AV'], dtype=object)"
      ]
     },
     "execution_count": 17,
     "metadata": {},
     "output_type": "execute_result"
    }
   ],
   "source": [
    "dataframe['Server Name'].unique()"
   ]
  },
  {
   "cell_type": "code",
   "execution_count": 18,
   "metadata": {},
   "outputs": [
    {
     "data": {
      "text/plain": [
       "SEC-SrvAV1      3087\n",
       "SRV-Repli-AV       3\n",
       "Name: Server Name, dtype: int64"
      ]
     },
     "execution_count": 18,
     "metadata": {},
     "output_type": "execute_result"
    }
   ],
   "source": [
    "dataframe['Server Name'].value_counts()"
   ]
  },
  {
   "cell_type": "code",
   "execution_count": 19,
   "metadata": {},
   "outputs": [
    {
     "name": "stdout",
     "output_type": "stream",
     "text": [
      "1\n"
     ]
    },
    {
     "data": {
      "text/html": [
       "<div>\n",
       "<style scoped>\n",
       "    .dataframe tbody tr th:only-of-type {\n",
       "        vertical-align: middle;\n",
       "    }\n",
       "\n",
       "    .dataframe tbody tr th {\n",
       "        vertical-align: top;\n",
       "    }\n",
       "\n",
       "    .dataframe thead th {\n",
       "        text-align: right;\n",
       "    }\n",
       "</style>\n",
       "<table border=\"1\" class=\"dataframe\">\n",
       "  <thead>\n",
       "    <tr style=\"text-align: right;\">\n",
       "      <th></th>\n",
       "      <th>Operating System</th>\n",
       "      <th>Client Version</th>\n",
       "      <th>Status</th>\n",
       "      <th>Auto-Protect On</th>\n",
       "      <th>Endpoint Detection and Response Status</th>\n",
       "      <th>Last Scan Time</th>\n",
       "      <th>Last Virus Time</th>\n",
       "      <th>Download Insight On</th>\n",
       "      <th>Intrusion Prevention On</th>\n",
       "      <th>Early Launch Antimalware On</th>\n",
       "      <th>Restart Required</th>\n",
       "      <th>Computer Name</th>\n",
       "      <th>Number Of Processors</th>\n",
       "      <th>Server Name</th>\n",
       "      <th>Current User</th>\n",
       "      <th>Worst Detection</th>\n",
       "    </tr>\n",
       "  </thead>\n",
       "  <tbody>\n",
       "    <tr>\n",
       "      <th>1555</th>\n",
       "      <td>Windows Server 2019 Standard Edition</td>\n",
       "      <td>14.3.1169.0100</td>\n",
       "      <td>Enabled</td>\n",
       "      <td>Enabled</td>\n",
       "      <td>NaN</td>\n",
       "      <td>04/17/2022 18:00:00</td>\n",
       "      <td>Never</td>\n",
       "      <td>Enabled - Advanced protection</td>\n",
       "      <td>Enabled</td>\n",
       "      <td>Enabled</td>\n",
       "      <td>Yes</td>\n",
       "      <td>NaN</td>\n",
       "      <td>NaN</td>\n",
       "      <td>NaN</td>\n",
       "      <td>NaN</td>\n",
       "      <td>No detections</td>\n",
       "    </tr>\n",
       "  </tbody>\n",
       "</table>\n",
       "</div>"
      ],
      "text/plain": [
       "                          Operating System  Client Version   Status  \\\n",
       "1555  Windows Server 2019 Standard Edition  14.3.1169.0100  Enabled   \n",
       "\n",
       "     Auto-Protect On Endpoint Detection and Response Status  \\\n",
       "1555         Enabled                                    NaN   \n",
       "\n",
       "           Last Scan Time Last Virus Time            Download Insight On  \\\n",
       "1555  04/17/2022 18:00:00           Never  Enabled - Advanced protection   \n",
       "\n",
       "     Intrusion Prevention On Early Launch Antimalware On Restart Required  \\\n",
       "1555                 Enabled                     Enabled              Yes   \n",
       "\n",
       "     Computer Name  Number Of Processors Server Name Current User  \\\n",
       "1555           NaN                   NaN         NaN          NaN   \n",
       "\n",
       "     Worst Detection  \n",
       "1555   No detections  "
      ]
     },
     "execution_count": 19,
     "metadata": {},
     "output_type": "execute_result"
    }
   ],
   "source": [
    "duplicate = dataframe.duplicated()\n",
    "print(duplicate.sum())\n",
    "dataframe[duplicate]"
   ]
  },
  {
   "cell_type": "code",
   "execution_count": 20,
   "metadata": {},
   "outputs": [],
   "source": [
    "dataframe.drop_duplicates(inplace=True) "
   ]
  },
  {
   "cell_type": "code",
   "execution_count": 21,
   "metadata": {},
   "outputs": [
    {
     "data": {
      "text/plain": [
       "0"
      ]
     },
     "execution_count": 21,
     "metadata": {},
     "output_type": "execute_result"
    }
   ],
   "source": [
    "duplicate = dataframe.duplicated()\n",
    "duplicate.sum()"
   ]
  },
  {
   "cell_type": "code",
   "execution_count": 22,
   "metadata": {},
   "outputs": [
    {
     "data": {
      "text/html": [
       "<div>\n",
       "<style scoped>\n",
       "    .dataframe tbody tr th:only-of-type {\n",
       "        vertical-align: middle;\n",
       "    }\n",
       "\n",
       "    .dataframe tbody tr th {\n",
       "        vertical-align: top;\n",
       "    }\n",
       "\n",
       "    .dataframe thead th {\n",
       "        text-align: right;\n",
       "    }\n",
       "</style>\n",
       "<table border=\"1\" class=\"dataframe\">\n",
       "  <thead>\n",
       "    <tr style=\"text-align: right;\">\n",
       "      <th></th>\n",
       "      <th>Operating System</th>\n",
       "      <th>Client Version</th>\n",
       "      <th>Auto-Protect On</th>\n",
       "      <th>Endpoint Detection and Response Status</th>\n",
       "      <th>Last Scan Time</th>\n",
       "      <th>Last Virus Time</th>\n",
       "      <th>Download Insight On</th>\n",
       "      <th>Intrusion Prevention On</th>\n",
       "      <th>Early Launch Antimalware On</th>\n",
       "      <th>Restart Required</th>\n",
       "      <th>Computer Name</th>\n",
       "      <th>Number Of Processors</th>\n",
       "      <th>Server Name</th>\n",
       "      <th>Current User</th>\n",
       "      <th>Worst Detection</th>\n",
       "      <th>Status_Disabled</th>\n",
       "      <th>Status_Enabled</th>\n",
       "    </tr>\n",
       "  </thead>\n",
       "  <tbody>\n",
       "    <tr>\n",
       "      <th>0</th>\n",
       "      <td>Windows 10 Enterprise Edition</td>\n",
       "      <td>14.3.1169.0100</td>\n",
       "      <td>Enabled</td>\n",
       "      <td>Connected</td>\n",
       "      <td>04/17/2022 18:00:04</td>\n",
       "      <td>Never</td>\n",
       "      <td>Enabled - Advanced protection</td>\n",
       "      <td>Enabled</td>\n",
       "      <td>Enabled</td>\n",
       "      <td>No</td>\n",
       "      <td>TNP7CPS-21</td>\n",
       "      <td>8.0</td>\n",
       "      <td>SEC-SrvAV1</td>\n",
       "      <td>AGENCEP7</td>\n",
       "      <td>(Severity 3) Antivirus - Heuristic</td>\n",
       "      <td>0</td>\n",
       "      <td>1</td>\n",
       "    </tr>\n",
       "    <tr>\n",
       "      <th>1</th>\n",
       "      <td>Windows 10 Education Edition</td>\n",
       "      <td>14.3.1169.0100</td>\n",
       "      <td>Enabled</td>\n",
       "      <td>Connected</td>\n",
       "      <td>04/17/2022 18:00:00</td>\n",
       "      <td>Never</td>\n",
       "      <td>Enabled - Advanced protection</td>\n",
       "      <td>Enabled</td>\n",
       "      <td>Enabled</td>\n",
       "      <td>No</td>\n",
       "      <td>TNL2RPV-21</td>\n",
       "      <td>8.0</td>\n",
       "      <td>SEC-SrvAV1</td>\n",
       "      <td>2023</td>\n",
       "      <td>No detections</td>\n",
       "      <td>0</td>\n",
       "      <td>1</td>\n",
       "    </tr>\n",
       "    <tr>\n",
       "      <th>2</th>\n",
       "      <td>Windows Server 2016 Standard Edition</td>\n",
       "      <td>14.3.1169.0100</td>\n",
       "      <td>Enabled</td>\n",
       "      <td>Disconnected</td>\n",
       "      <td>04/17/2022 18:00:02</td>\n",
       "      <td>Never</td>\n",
       "      <td>Enabled - Advanced protection</td>\n",
       "      <td>Enabled</td>\n",
       "      <td>Enabled</td>\n",
       "      <td>No</td>\n",
       "      <td>WIN-TQ1A3BV435R</td>\n",
       "      <td>8.0</td>\n",
       "      <td>SEC-SrvAV1</td>\n",
       "      <td>Administrator</td>\n",
       "      <td>No detections</td>\n",
       "      <td>0</td>\n",
       "      <td>1</td>\n",
       "    </tr>\n",
       "    <tr>\n",
       "      <th>3</th>\n",
       "      <td>Windows 10 Enterprise Edition</td>\n",
       "      <td>14.3.1169.0100</td>\n",
       "      <td>Enabled</td>\n",
       "      <td>Connected</td>\n",
       "      <td>04/18/2022 08:53:03</td>\n",
       "      <td>Never</td>\n",
       "      <td>Enabled - Advanced protection</td>\n",
       "      <td>Enabled</td>\n",
       "      <td>Enabled</td>\n",
       "      <td>No</td>\n",
       "      <td>GE-548</td>\n",
       "      <td>12.0</td>\n",
       "      <td>SEC-SrvAV1</td>\n",
       "      <td>9145</td>\n",
       "      <td>No detections</td>\n",
       "      <td>0</td>\n",
       "      <td>1</td>\n",
       "    </tr>\n",
       "    <tr>\n",
       "      <th>4</th>\n",
       "      <td>Windows 10 Enterprise Edition</td>\n",
       "      <td>14.3.1169.0100</td>\n",
       "      <td>Enabled</td>\n",
       "      <td>Connected</td>\n",
       "      <td>04/17/2022 18:00:00</td>\n",
       "      <td>Never</td>\n",
       "      <td>Enabled - Advanced protection</td>\n",
       "      <td>Enabled</td>\n",
       "      <td>Enabled</td>\n",
       "      <td>No</td>\n",
       "      <td>TNAGR4GUI</td>\n",
       "      <td>8.0</td>\n",
       "      <td>SEC-SrvAV1</td>\n",
       "      <td>4837</td>\n",
       "      <td>No detections</td>\n",
       "      <td>0</td>\n",
       "      <td>1</td>\n",
       "    </tr>\n",
       "  </tbody>\n",
       "</table>\n",
       "</div>"
      ],
      "text/plain": [
       "                       Operating System  Client Version Auto-Protect On  \\\n",
       "0         Windows 10 Enterprise Edition  14.3.1169.0100         Enabled   \n",
       "1          Windows 10 Education Edition  14.3.1169.0100         Enabled   \n",
       "2  Windows Server 2016 Standard Edition  14.3.1169.0100         Enabled   \n",
       "3         Windows 10 Enterprise Edition  14.3.1169.0100         Enabled   \n",
       "4         Windows 10 Enterprise Edition  14.3.1169.0100         Enabled   \n",
       "\n",
       "  Endpoint Detection and Response Status       Last Scan Time Last Virus Time  \\\n",
       "0                              Connected  04/17/2022 18:00:04           Never   \n",
       "1                              Connected  04/17/2022 18:00:00           Never   \n",
       "2                           Disconnected  04/17/2022 18:00:02           Never   \n",
       "3                              Connected  04/18/2022 08:53:03           Never   \n",
       "4                              Connected  04/17/2022 18:00:00           Never   \n",
       "\n",
       "             Download Insight On Intrusion Prevention On  \\\n",
       "0  Enabled - Advanced protection                 Enabled   \n",
       "1  Enabled - Advanced protection                 Enabled   \n",
       "2  Enabled - Advanced protection                 Enabled   \n",
       "3  Enabled - Advanced protection                 Enabled   \n",
       "4  Enabled - Advanced protection                 Enabled   \n",
       "\n",
       "  Early Launch Antimalware On Restart Required    Computer Name  \\\n",
       "0                     Enabled               No       TNP7CPS-21   \n",
       "1                     Enabled               No       TNL2RPV-21   \n",
       "2                     Enabled               No  WIN-TQ1A3BV435R   \n",
       "3                     Enabled               No           GE-548   \n",
       "4                     Enabled               No        TNAGR4GUI   \n",
       "\n",
       "   Number Of Processors Server Name   Current User  \\\n",
       "0                   8.0  SEC-SrvAV1       AGENCEP7   \n",
       "1                   8.0  SEC-SrvAV1           2023   \n",
       "2                   8.0  SEC-SrvAV1  Administrator   \n",
       "3                  12.0  SEC-SrvAV1           9145   \n",
       "4                   8.0  SEC-SrvAV1           4837   \n",
       "\n",
       "                      Worst Detection  Status_Disabled  Status_Enabled  \n",
       "0  (Severity 3) Antivirus - Heuristic                0               1  \n",
       "1                       No detections                0               1  \n",
       "2                       No detections                0               1  \n",
       "3                       No detections                0               1  \n",
       "4                       No detections                0               1  "
      ]
     },
     "execution_count": 22,
     "metadata": {},
     "output_type": "execute_result"
    }
   ],
   "source": [
    "pd.get_dummies(dataframe, columns=['Status']) .head()"
   ]
  },
  {
   "cell_type": "code",
   "execution_count": 23,
   "metadata": {},
   "outputs": [
    {
     "name": "stdout",
     "output_type": "stream",
     "text": [
      "<class 'pandas.core.frame.DataFrame'>\n",
      "Int64Index: 3100 entries, 0 to 3100\n",
      "Data columns (total 16 columns):\n",
      " #   Column                                  Non-Null Count  Dtype  \n",
      "---  ------                                  --------------  -----  \n",
      " 0   Operating System                        3100 non-null   object \n",
      " 1   Client Version                          3100 non-null   object \n",
      " 2   Status                                  3100 non-null   object \n",
      " 3   Auto-Protect On                         3100 non-null   object \n",
      " 4   Endpoint Detection and Response Status  3090 non-null   object \n",
      " 5   Last Scan Time                          3100 non-null   object \n",
      " 6   Last Virus Time                         3100 non-null   object \n",
      " 7   Download Insight On                     3100 non-null   object \n",
      " 8   Intrusion Prevention On                 3100 non-null   object \n",
      " 9   Early Launch Antimalware On             3100 non-null   object \n",
      " 10  Restart Required                        3100 non-null   object \n",
      " 11  Computer Name                           3090 non-null   object \n",
      " 12  Number Of Processors                    3090 non-null   float64\n",
      " 13  Server Name                             3090 non-null   object \n",
      " 14  Current User                            3090 non-null   object \n",
      " 15  Worst Detection                         3100 non-null   object \n",
      "dtypes: float64(1), object(15)\n",
      "memory usage: 411.7+ KB\n"
     ]
    }
   ],
   "source": [
    "dataframe.info()\n"
   ]
  },
  {
   "cell_type": "code",
   "execution_count": 24,
   "metadata": {},
   "outputs": [
    {
     "data": {
      "text/plain": [
       "<AxesSubplot:xlabel='Number Of Processors', ylabel='Number Of Processors'>"
      ]
     },
     "execution_count": 24,
     "metadata": {},
     "output_type": "execute_result"
    },
    {
     "data": {
      "image/png": "[encoded data removed]",
      "text/plain": [
       "<Figure size 432x288 with 1 Axes>"
      ]
     },
     "metadata": {
      "needs_background": "light"
     },
     "output_type": "display_data"
    }
   ],
   "source": [
    "#Box plot\n",
    "\n",
    "sns.boxplot(x='Number Of Processors',y='Number Of Processors',data=dataframe)"
   ]
  },
  {
   "cell_type": "code",
   "execution_count": 25,
   "metadata": {},
   "outputs": [
    {
     "data": {
      "image/png": "[encoded data removed]",
      "text/plain": [
       "<Figure size 432x288 with 1 Axes>"
      ]
     },
     "metadata": {
      "needs_background": "light"
     },
     "output_type": "display_data"
    }
   ],
   "source": [
    "\n",
    "#scatter plot\n",
    "plt.scatter(dataframe['Number Of Processors'],dataframe['Number Of Processors'])\n",
    "plt.xlabel('Number Of Processors')\n",
    "plt.ylabel('Number Of Processors')\n",
    "plt.show()"
   ]
  },
  {
   "cell_type": "code",
   "execution_count": 26,
   "metadata": {},
   "outputs": [
    {
     "ename": "KeyError",
     "evalue": "'peak-rpm'",
     "output_type": "error",
     "traceback": [
      "\u001b[1;31m---------------------------------------------------------------------------\u001b[0m",
      "\u001b[1;31mKeyError\u001b[0m                                  Traceback (most recent call last)",
      "\u001b[1;32m~\\anaconda3\\lib\\site-packages\\pandas\\core\\indexes\\base.py\u001b[0m in \u001b[0;36mget_loc\u001b[1;34m(self, key, method, tolerance)\u001b[0m\n\u001b[0;32m   2894\u001b[0m             \u001b[1;32mtry\u001b[0m\u001b[1;33m:\u001b[0m\u001b[1;33m\u001b[0m\u001b[1;33m\u001b[0m\u001b[0m\n\u001b[1;32m-> 2895\u001b[1;33m                 \u001b[1;32mreturn\u001b[0m \u001b[0mself\u001b[0m\u001b[1;33m.\u001b[0m\u001b[0m_engine\u001b[0m\u001b[1;33m.\u001b[0m\u001b[0mget_loc\u001b[0m\u001b[1;33m(\u001b[0m\u001b[0mcasted_key\u001b[0m\u001b[1;33m)\u001b[0m\u001b[1;33m\u001b[0m\u001b[1;33m\u001b[0m\u001b[0m\n\u001b[0m\u001b[0;32m   2896\u001b[0m             \u001b[1;32mexcept\u001b[0m \u001b[0mKeyError\u001b[0m \u001b[1;32mas\u001b[0m \u001b[0merr\u001b[0m\u001b[1;33m:\u001b[0m\u001b[1;33m\u001b[0m\u001b[1;33m\u001b[0m\u001b[0m\n",
      "\u001b[1;32mpandas\\_libs\\index.pyx\u001b[0m in \u001b[0;36mpandas._libs.index.IndexEngine.get_loc\u001b[1;34m()\u001b[0m\n",
      "\u001b[1;32mpandas\\_libs\\index.pyx\u001b[0m in \u001b[0;36mpandas._libs.index.IndexEngine.get_loc\u001b[1;34m()\u001b[0m\n",
      "\u001b[1;32mpandas\\_libs\\hashtable_class_helper.pxi\u001b[0m in \u001b[0;36mpandas._libs.hashtable.PyObjectHashTable.get_item\u001b[1;34m()\u001b[0m\n",
      "\u001b[1;32mpandas\\_libs\\hashtable_class_helper.pxi\u001b[0m in \u001b[0;36mpandas._libs.hashtable.PyObjectHashTable.get_item\u001b[1;34m()\u001b[0m\n",
      "\u001b[1;31mKeyError\u001b[0m: 'peak-rpm'",
      "\nThe above exception was the direct cause of the following exception:\n",
      "\u001b[1;31mKeyError\u001b[0m                                  Traceback (most recent call last)",
      "\u001b[1;32m<ipython-input-26-8887dbb15e7b>\u001b[0m in \u001b[0;36m<module>\u001b[1;34m\u001b[0m\n\u001b[1;32m----> 1\u001b[1;33m \u001b[0mcount\u001b[0m\u001b[1;33m,\u001b[0m\u001b[0mbin_edges\u001b[0m \u001b[1;33m=\u001b[0m \u001b[0mnp\u001b[0m\u001b[1;33m.\u001b[0m\u001b[0mhistogram\u001b[0m\u001b[1;33m(\u001b[0m\u001b[0mdataframe\u001b[0m\u001b[1;33m[\u001b[0m\u001b[1;34m'peak-rpm'\u001b[0m\u001b[1;33m]\u001b[0m\u001b[1;33m)\u001b[0m\u001b[1;33m\u001b[0m\u001b[1;33m\u001b[0m\u001b[0m\n\u001b[0m\u001b[0;32m      2\u001b[0m \u001b[0mdf\u001b[0m\u001b[1;33m[\u001b[0m\u001b[1;34m'peak-rpm'\u001b[0m\u001b[1;33m]\u001b[0m\u001b[1;33m.\u001b[0m\u001b[0mplot\u001b[0m\u001b[1;33m(\u001b[0m\u001b[0mkind\u001b[0m\u001b[1;33m=\u001b[0m\u001b[1;34m'hist'\u001b[0m\u001b[1;33m,\u001b[0m\u001b[0mxticks\u001b[0m\u001b[1;33m=\u001b[0m\u001b[0mbin_edges\u001b[0m\u001b[1;33m)\u001b[0m\u001b[1;33m\u001b[0m\u001b[1;33m\u001b[0m\u001b[0m\n\u001b[0;32m      3\u001b[0m \u001b[0mplt\u001b[0m\u001b[1;33m.\u001b[0m\u001b[0mxlabel\u001b[0m\u001b[1;33m(\u001b[0m\u001b[1;34m'Number Of Processors'\u001b[0m\u001b[1;33m)\u001b[0m\u001b[1;33m\u001b[0m\u001b[1;33m\u001b[0m\u001b[0m\n\u001b[0;32m      4\u001b[0m \u001b[0mplt\u001b[0m\u001b[1;33m.\u001b[0m\u001b[0mylabel\u001b[0m\u001b[1;33m(\u001b[0m\u001b[1;34m'Number Of Processors'\u001b[0m\u001b[1;33m)\u001b[0m\u001b[1;33m\u001b[0m\u001b[1;33m\u001b[0m\u001b[0m\n\u001b[0;32m      5\u001b[0m \u001b[0mplt\u001b[0m\u001b[1;33m.\u001b[0m\u001b[0mgrille\u001b[0m\u001b[1;33m(\u001b[0m\u001b[1;33m)\u001b[0m\u001b[1;33m\u001b[0m\u001b[1;33m\u001b[0m\u001b[0m\n",
      "\u001b[1;32m~\\anaconda3\\lib\\site-packages\\pandas\\core\\frame.py\u001b[0m in \u001b[0;36m__getitem__\u001b[1;34m(self, key)\u001b[0m\n\u001b[0;32m   2900\u001b[0m             \u001b[1;32mif\u001b[0m \u001b[0mself\u001b[0m\u001b[1;33m.\u001b[0m\u001b[0mcolumns\u001b[0m\u001b[1;33m.\u001b[0m\u001b[0mnlevels\u001b[0m \u001b[1;33m>\u001b[0m \u001b[1;36m1\u001b[0m\u001b[1;33m:\u001b[0m\u001b[1;33m\u001b[0m\u001b[1;33m\u001b[0m\u001b[0m\n\u001b[0;32m   2901\u001b[0m                 \u001b[1;32mreturn\u001b[0m \u001b[0mself\u001b[0m\u001b[1;33m.\u001b[0m\u001b[0m_getitem_multilevel\u001b[0m\u001b[1;33m(\u001b[0m\u001b[0mkey\u001b[0m\u001b[1;33m)\u001b[0m\u001b[1;33m\u001b[0m\u001b[1;33m\u001b[0m\u001b[0m\n\u001b[1;32m-> 2902\u001b[1;33m             \u001b[0mindexer\u001b[0m \u001b[1;33m=\u001b[0m \u001b[0mself\u001b[0m\u001b[1;33m.\u001b[0m\u001b[0mcolumns\u001b[0m\u001b[1;33m.\u001b[0m\u001b[0mget_loc\u001b[0m\u001b[1;33m(\u001b[0m\u001b[0mkey\u001b[0m\u001b[1;33m)\u001b[0m\u001b[1;33m\u001b[0m\u001b[1;33m\u001b[0m\u001b[0m\n\u001b[0m\u001b[0;32m   2903\u001b[0m             \u001b[1;32mif\u001b[0m \u001b[0mis_integer\u001b[0m\u001b[1;33m(\u001b[0m\u001b[0mindexer\u001b[0m\u001b[1;33m)\u001b[0m\u001b[1;33m:\u001b[0m\u001b[1;33m\u001b[0m\u001b[1;33m\u001b[0m\u001b[0m\n\u001b[0;32m   2904\u001b[0m                 \u001b[0mindexer\u001b[0m \u001b[1;33m=\u001b[0m \u001b[1;33m[\u001b[0m\u001b[0mindexer\u001b[0m\u001b[1;33m]\u001b[0m\u001b[1;33m\u001b[0m\u001b[1;33m\u001b[0m\u001b[0m\n",
      "\u001b[1;32m~\\anaconda3\\lib\\site-packages\\pandas\\core\\indexes\\base.py\u001b[0m in \u001b[0;36mget_loc\u001b[1;34m(self, key, method, tolerance)\u001b[0m\n\u001b[0;32m   2895\u001b[0m                 \u001b[1;32mreturn\u001b[0m \u001b[0mself\u001b[0m\u001b[1;33m.\u001b[0m\u001b[0m_engine\u001b[0m\u001b[1;33m.\u001b[0m\u001b[0mget_loc\u001b[0m\u001b[1;33m(\u001b[0m\u001b[0mcasted_key\u001b[0m\u001b[1;33m)\u001b[0m\u001b[1;33m\u001b[0m\u001b[1;33m\u001b[0m\u001b[0m\n\u001b[0;32m   2896\u001b[0m             \u001b[1;32mexcept\u001b[0m \u001b[0mKeyError\u001b[0m \u001b[1;32mas\u001b[0m \u001b[0merr\u001b[0m\u001b[1;33m:\u001b[0m\u001b[1;33m\u001b[0m\u001b[1;33m\u001b[0m\u001b[0m\n\u001b[1;32m-> 2897\u001b[1;33m                 \u001b[1;32mraise\u001b[0m \u001b[0mKeyError\u001b[0m\u001b[1;33m(\u001b[0m\u001b[0mkey\u001b[0m\u001b[1;33m)\u001b[0m \u001b[1;32mfrom\u001b[0m \u001b[0merr\u001b[0m\u001b[1;33m\u001b[0m\u001b[1;33m\u001b[0m\u001b[0m\n\u001b[0m\u001b[0;32m   2898\u001b[0m \u001b[1;33m\u001b[0m\u001b[0m\n\u001b[0;32m   2899\u001b[0m         \u001b[1;32mif\u001b[0m \u001b[0mtolerance\u001b[0m \u001b[1;32mis\u001b[0m \u001b[1;32mnot\u001b[0m \u001b[1;32mNone\u001b[0m\u001b[1;33m:\u001b[0m\u001b[1;33m\u001b[0m\u001b[1;33m\u001b[0m\u001b[0m\n",
      "\u001b[1;31mKeyError\u001b[0m: 'peak-rpm'"
     ]
    }
   ],
   "source": [
    "count,bin_edges = np.histogram(dataframe['peak-rpm'])\n",
    "df['peak-rpm'].plot(kind='hist',xticks=bin_edges)\n",
    "plt.xlabel('Number Of Processors')\n",
    "plt.ylabel('Number Of Processors')\n",
    "plt.grille()\n",
    "plt.show()"
   ]
  },
  {
   "cell_type": "code",
   "execution_count": null,
   "metadata": {},
   "outputs": [],
   "source": [
    "pd.plotting.scatter_matrix(dataframe,figsize=(20,10),c=dataframe['Worst Detection']);"
   ]
  },
  {
   "cell_type": "code",
   "execution_count": null,
   "metadata": {},
   "outputs": [],
   "source": [
    "def without_hue(plot, feature):\n",
    "    total = len(feature)\n",
    "    for p in ax.patches:\n",
    "        percentage = '{:.4f}%'.format(100 * p.get_height()/total)\n",
    "        x = p.get_x() + p.get_width() / 2 - 0.05\n",
    "        y = p.get_y() + p.get_height()\n",
    "        ax.annotate(percentage, (x, y), size = 12)\n",
    "    plt.show()"
   ]
  },
  {
   "cell_type": "code",
   "execution_count": null,
   "metadata": {},
   "outputs": [],
   "source": [
    "plt.figure(figsize=(14,8))\n",
    "ax = sns.countplot(\"Worst Detection\", data=dataframe)\n",
    "plt.xticks(rotation=90, size=12)\n",
    "without_hue(ax, dataframe['Worst Detection'])\n",
    "#dataframe[\"Worst Detection\"].value_counts(normalize=True).plot(kind='bar')"
   ]
  },
  {
   "cell_type": "code",
   "execution_count": null,
   "metadata": {},
   "outputs": [],
   "source": [
    "dataframe[\"Status\"].value_counts(normalize=True).plot(kind='pie')"
   ]
  },
  {
   "cell_type": "code",
   "execution_count": null,
   "metadata": {},
   "outputs": [],
   "source": [
    "plt.figure(figsize=(14,6))\n",
    "dataframe[\"Worst Detection\"].value_counts(normalize=True).plot(kind='pie')"
   ]
  },
  {
   "cell_type": "code",
   "execution_count": null,
   "metadata": {},
   "outputs": [],
   "source": [
    "dataframe[\"Restart Required\"].value_counts(normalize=True).plot(kind='bar')\n",
    "plt.show()"
   ]
  },
  {
   "cell_type": "code",
   "execution_count": null,
   "metadata": {},
   "outputs": [],
   "source": [
    "dataframe[\"Server Name\"].value_counts(normalize=True).plot(kind='bar')"
   ]
  },
  {
   "cell_type": "code",
   "execution_count": null,
   "metadata": {},
   "outputs": [],
   "source": [
    "dataframe[\"Restart Required\"].hist()"
   ]
  },
  {
   "cell_type": "markdown",
   "metadata": {},
   "source": [
    "# 1.3. Test KHI2"
   ]
  },
  {
   "cell_type": "code",
   "execution_count": 35,
   "metadata": {},
   "outputs": [
    {
     "data": {
      "text/html": [
       "<div>\n",
       "<style scoped>\n",
       "    .dataframe tbody tr th:only-of-type {\n",
       "        vertical-align: middle;\n",
       "    }\n",
       "\n",
       "    .dataframe tbody tr th {\n",
       "        vertical-align: top;\n",
       "    }\n",
       "\n",
       "    .dataframe thead th {\n",
       "        text-align: right;\n",
       "    }\n",
       "</style>\n",
       "<table border=\"1\" class=\"dataframe\">\n",
       "  <thead>\n",
       "    <tr style=\"text-align: right;\">\n",
       "      <th>Worst Detection</th>\n",
       "      <th>(Severity 0) Viral</th>\n",
       "      <th>(Severity 10) Adware</th>\n",
       "      <th>(Severity 14) SONAR Proactive Threat Scan</th>\n",
       "      <th>(Severity 3) Antivirus - Heuristic</th>\n",
       "      <th>(Severity 4) Other</th>\n",
       "      <th>(Severity 6) Spyware</th>\n",
       "      <th>(Severity 7) Trackware</th>\n",
       "      <th>No detections</th>\n",
       "    </tr>\n",
       "    <tr>\n",
       "      <th>Operating System</th>\n",
       "      <th></th>\n",
       "      <th></th>\n",
       "      <th></th>\n",
       "      <th></th>\n",
       "      <th></th>\n",
       "      <th></th>\n",
       "      <th></th>\n",
       "      <th></th>\n",
       "    </tr>\n",
       "  </thead>\n",
       "  <tbody>\n",
       "    <tr>\n",
       "      <th>Windows 10 Education Edition</th>\n",
       "      <td>48</td>\n",
       "      <td>0</td>\n",
       "      <td>0</td>\n",
       "      <td>14</td>\n",
       "      <td>4</td>\n",
       "      <td>0</td>\n",
       "      <td>0</td>\n",
       "      <td>446</td>\n",
       "    </tr>\n",
       "    <tr>\n",
       "      <th>Windows 10 Enterprise Edition</th>\n",
       "      <td>271</td>\n",
       "      <td>0</td>\n",
       "      <td>2</td>\n",
       "      <td>176</td>\n",
       "      <td>24</td>\n",
       "      <td>1</td>\n",
       "      <td>2</td>\n",
       "      <td>1555</td>\n",
       "    </tr>\n",
       "    <tr>\n",
       "      <th>Windows 10 Enterprise LTSB</th>\n",
       "      <td>2</td>\n",
       "      <td>0</td>\n",
       "      <td>0</td>\n",
       "      <td>0</td>\n",
       "      <td>0</td>\n",
       "      <td>0</td>\n",
       "      <td>0</td>\n",
       "      <td>3</td>\n",
       "    </tr>\n",
       "    <tr>\n",
       "      <th>Windows 10 Pro for Workstations</th>\n",
       "      <td>0</td>\n",
       "      <td>0</td>\n",
       "      <td>0</td>\n",
       "      <td>0</td>\n",
       "      <td>0</td>\n",
       "      <td>0</td>\n",
       "      <td>0</td>\n",
       "      <td>2</td>\n",
       "    </tr>\n",
       "    <tr>\n",
       "      <th>Windows 10 Professional Edition</th>\n",
       "      <td>1</td>\n",
       "      <td>0</td>\n",
       "      <td>0</td>\n",
       "      <td>0</td>\n",
       "      <td>0</td>\n",
       "      <td>0</td>\n",
       "      <td>0</td>\n",
       "      <td>15</td>\n",
       "    </tr>\n",
       "    <tr>\n",
       "      <th>Windows 7 Enterprise Edition</th>\n",
       "      <td>154</td>\n",
       "      <td>1</td>\n",
       "      <td>0</td>\n",
       "      <td>9</td>\n",
       "      <td>19</td>\n",
       "      <td>0</td>\n",
       "      <td>0</td>\n",
       "      <td>198</td>\n",
       "    </tr>\n",
       "    <tr>\n",
       "      <th>Windows 7 Professional Edition</th>\n",
       "      <td>13</td>\n",
       "      <td>0</td>\n",
       "      <td>0</td>\n",
       "      <td>1</td>\n",
       "      <td>2</td>\n",
       "      <td>0</td>\n",
       "      <td>0</td>\n",
       "      <td>4</td>\n",
       "    </tr>\n",
       "    <tr>\n",
       "      <th>Windows Server 2008 R2 Enterprise Edition</th>\n",
       "      <td>5</td>\n",
       "      <td>0</td>\n",
       "      <td>0</td>\n",
       "      <td>1</td>\n",
       "      <td>0</td>\n",
       "      <td>0</td>\n",
       "      <td>0</td>\n",
       "      <td>17</td>\n",
       "    </tr>\n",
       "    <tr>\n",
       "      <th>Windows Server 2012 R2 Datacenter Edition</th>\n",
       "      <td>0</td>\n",
       "      <td>0</td>\n",
       "      <td>0</td>\n",
       "      <td>1</td>\n",
       "      <td>0</td>\n",
       "      <td>0</td>\n",
       "      <td>0</td>\n",
       "      <td>3</td>\n",
       "    </tr>\n",
       "    <tr>\n",
       "      <th>Windows Server 2012 R2 Standard Edition</th>\n",
       "      <td>2</td>\n",
       "      <td>0</td>\n",
       "      <td>0</td>\n",
       "      <td>5</td>\n",
       "      <td>0</td>\n",
       "      <td>0</td>\n",
       "      <td>0</td>\n",
       "      <td>30</td>\n",
       "    </tr>\n",
       "    <tr>\n",
       "      <th>Windows Server 2016 Standard Edition</th>\n",
       "      <td>0</td>\n",
       "      <td>0</td>\n",
       "      <td>0</td>\n",
       "      <td>0</td>\n",
       "      <td>0</td>\n",
       "      <td>0</td>\n",
       "      <td>0</td>\n",
       "      <td>19</td>\n",
       "    </tr>\n",
       "    <tr>\n",
       "      <th>Windows Server 2019 Standard Edition</th>\n",
       "      <td>0</td>\n",
       "      <td>0</td>\n",
       "      <td>0</td>\n",
       "      <td>1</td>\n",
       "      <td>0</td>\n",
       "      <td>0</td>\n",
       "      <td>0</td>\n",
       "      <td>49</td>\n",
       "    </tr>\n",
       "  </tbody>\n",
       "</table>\n",
       "</div>"
      ],
      "text/plain": [
       "Worst Detection                            (Severity 0) Viral  \\\n",
       "Operating System                                                \n",
       "Windows 10 Education Edition                               48   \n",
       "Windows 10 Enterprise Edition                             271   \n",
       "Windows 10 Enterprise LTSB                                  2   \n",
       "Windows 10 Pro for Workstations                             0   \n",
       "Windows 10 Professional Edition                             1   \n",
       "Windows 7 Enterprise Edition                              154   \n",
       "Windows 7 Professional Edition                             13   \n",
       "Windows Server 2008 R2 Enterprise Edition                   5   \n",
       "Windows Server 2012 R2 Datacenter Edition                   0   \n",
       "Windows Server 2012 R2 Standard Edition                     2   \n",
       "Windows Server 2016 Standard Edition                        0   \n",
       "Windows Server 2019 Standard Edition                        0   \n",
       "\n",
       "Worst Detection                            (Severity 10) Adware  \\\n",
       "Operating System                                                  \n",
       "Windows 10 Education Edition                                  0   \n",
       "Windows 10 Enterprise Edition                                 0   \n",
       "Windows 10 Enterprise LTSB                                    0   \n",
       "Windows 10 Pro for Workstations                               0   \n",
       "Windows 10 Professional Edition                               0   \n",
       "Windows 7 Enterprise Edition                                  1   \n",
       "Windows 7 Professional Edition                                0   \n",
       "Windows Server 2008 R2 Enterprise Edition                     0   \n",
       "Windows Server 2012 R2 Datacenter Edition                     0   \n",
       "Windows Server 2012 R2 Standard Edition                       0   \n",
       "Windows Server 2016 Standard Edition                          0   \n",
       "Windows Server 2019 Standard Edition                          0   \n",
       "\n",
       "Worst Detection                            (Severity 14) SONAR Proactive Threat Scan  \\\n",
       "Operating System                                                                       \n",
       "Windows 10 Education Edition                                                       0   \n",
       "Windows 10 Enterprise Edition                                                      2   \n",
       "Windows 10 Enterprise LTSB                                                         0   \n",
       "Windows 10 Pro for Workstations                                                    0   \n",
       "Windows 10 Professional Edition                                                    0   \n",
       "Windows 7 Enterprise Edition                                                       0   \n",
       "Windows 7 Professional Edition                                                     0   \n",
       "Windows Server 2008 R2 Enterprise Edition                                          0   \n",
       "Windows Server 2012 R2 Datacenter Edition                                          0   \n",
       "Windows Server 2012 R2 Standard Edition                                            0   \n",
       "Windows Server 2016 Standard Edition                                               0   \n",
       "Windows Server 2019 Standard Edition                                               0   \n",
       "\n",
       "Worst Detection                            (Severity 3) Antivirus - Heuristic  \\\n",
       "Operating System                                                                \n",
       "Windows 10 Education Edition                                               14   \n",
       "Windows 10 Enterprise Edition                                             176   \n",
       "Windows 10 Enterprise LTSB                                                  0   \n",
       "Windows 10 Pro for Workstations                                             0   \n",
       "Windows 10 Professional Edition                                             0   \n",
       "Windows 7 Enterprise Edition                                                9   \n",
       "Windows 7 Professional Edition                                              1   \n",
       "Windows Server 2008 R2 Enterprise Edition                                   1   \n",
       "Windows Server 2012 R2 Datacenter Edition                                   1   \n",
       "Windows Server 2012 R2 Standard Edition                                     5   \n",
       "Windows Server 2016 Standard Edition                                        0   \n",
       "Windows Server 2019 Standard Edition                                        1   \n",
       "\n",
       "Worst Detection                            (Severity 4) Other  \\\n",
       "Operating System                                                \n",
       "Windows 10 Education Edition                                4   \n",
       "Windows 10 Enterprise Edition                              24   \n",
       "Windows 10 Enterprise LTSB                                  0   \n",
       "Windows 10 Pro for Workstations                             0   \n",
       "Windows 10 Professional Edition                             0   \n",
       "Windows 7 Enterprise Edition                               19   \n",
       "Windows 7 Professional Edition                              2   \n",
       "Windows Server 2008 R2 Enterprise Edition                   0   \n",
       "Windows Server 2012 R2 Datacenter Edition                   0   \n",
       "Windows Server 2012 R2 Standard Edition                     0   \n",
       "Windows Server 2016 Standard Edition                        0   \n",
       "Windows Server 2019 Standard Edition                        0   \n",
       "\n",
       "Worst Detection                            (Severity 6) Spyware  \\\n",
       "Operating System                                                  \n",
       "Windows 10 Education Edition                                  0   \n",
       "Windows 10 Enterprise Edition                                 1   \n",
       "Windows 10 Enterprise LTSB                                    0   \n",
       "Windows 10 Pro for Workstations                               0   \n",
       "Windows 10 Professional Edition                               0   \n",
       "Windows 7 Enterprise Edition                                  0   \n",
       "Windows 7 Professional Edition                                0   \n",
       "Windows Server 2008 R2 Enterprise Edition                     0   \n",
       "Windows Server 2012 R2 Datacenter Edition                     0   \n",
       "Windows Server 2012 R2 Standard Edition                       0   \n",
       "Windows Server 2016 Standard Edition                          0   \n",
       "Windows Server 2019 Standard Edition                          0   \n",
       "\n",
       "Worst Detection                            (Severity 7) Trackware  \\\n",
       "Operating System                                                    \n",
       "Windows 10 Education Edition                                    0   \n",
       "Windows 10 Enterprise Edition                                   2   \n",
       "Windows 10 Enterprise LTSB                                      0   \n",
       "Windows 10 Pro for Workstations                                 0   \n",
       "Windows 10 Professional Edition                                 0   \n",
       "Windows 7 Enterprise Edition                                    0   \n",
       "Windows 7 Professional Edition                                  0   \n",
       "Windows Server 2008 R2 Enterprise Edition                       0   \n",
       "Windows Server 2012 R2 Datacenter Edition                       0   \n",
       "Windows Server 2012 R2 Standard Edition                         0   \n",
       "Windows Server 2016 Standard Edition                            0   \n",
       "Windows Server 2019 Standard Edition                            0   \n",
       "\n",
       "Worst Detection                            No detections  \n",
       "Operating System                                          \n",
       "Windows 10 Education Edition                         446  \n",
       "Windows 10 Enterprise Edition                       1555  \n",
       "Windows 10 Enterprise LTSB                             3  \n",
       "Windows 10 Pro for Workstations                        2  \n",
       "Windows 10 Professional Edition                       15  \n",
       "Windows 7 Enterprise Edition                         198  \n",
       "Windows 7 Professional Edition                         4  \n",
       "Windows Server 2008 R2 Enterprise Edition             17  \n",
       "Windows Server 2012 R2 Datacenter Edition              3  \n",
       "Windows Server 2012 R2 Standard Edition               30  \n",
       "Windows Server 2016 Standard Edition                  19  \n",
       "Windows Server 2019 Standard Edition                  49  "
      ]
     },
     "execution_count": 35,
     "metadata": {},
     "output_type": "execute_result"
    }
   ],
   "source": [
    "mycolumns = [\"Operating System\",\"Worst Detection\"] \n",
    "data = dataframe[mycolumns]\n",
    "table = pd.crosstab(dataframe[\"Operating System\"], dataframe[\"Worst Detection\"])\n",
    "table\n"
   ]
  },
  {
   "cell_type": "code",
   "execution_count": 36,
   "metadata": {},
   "outputs": [
    {
     "name": "stdout",
     "output_type": "stream",
     "text": [
      "p value is 2.1677748317009053e-38\n",
      "Dependent (reject H0)\n"
     ]
    }
   ],
   "source": [
    "from scipy.stats import chi2_contingency \n",
    "  \n",
    "stat, p, dof, expected = chi2_contingency(table) \n",
    "  \n",
    "alpha = 0.05\n",
    "print(\"p value is \" + str(p)) \n",
    "if p <= alpha: \n",
    "    print('Dependent (reject H0)') \n",
    "else: \n",
    "    print('Independent (H0 holds true)') "
   ]
  },
  {
   "cell_type": "code",
   "execution_count": 37,
   "metadata": {},
   "outputs": [],
   "source": [
    "dataframe[\"Windows10\"] = 'no'\n",
    "dataframe.loc[dataframe[\"Operating System\"] == \"Windows 7 Professional Edition\",\"Windows10\"]= \"yes\"\n"
   ]
  },
  {
   "cell_type": "code",
   "execution_count": 38,
   "metadata": {},
   "outputs": [
    {
     "data": {
      "text/html": [
       "<div>\n",
       "<style scoped>\n",
       "    .dataframe tbody tr th:only-of-type {\n",
       "        vertical-align: middle;\n",
       "    }\n",
       "\n",
       "    .dataframe tbody tr th {\n",
       "        vertical-align: top;\n",
       "    }\n",
       "\n",
       "    .dataframe thead th {\n",
       "        text-align: right;\n",
       "    }\n",
       "</style>\n",
       "<table border=\"1\" class=\"dataframe\">\n",
       "  <thead>\n",
       "    <tr style=\"text-align: right;\">\n",
       "      <th></th>\n",
       "      <th>Operating System</th>\n",
       "      <th>Client Version</th>\n",
       "      <th>Status</th>\n",
       "      <th>Auto-Protect On</th>\n",
       "      <th>Endpoint Detection and Response Status</th>\n",
       "      <th>Last Scan Time</th>\n",
       "      <th>Last Virus Time</th>\n",
       "      <th>Download Insight On</th>\n",
       "      <th>Intrusion Prevention On</th>\n",
       "      <th>Early Launch Antimalware On</th>\n",
       "      <th>Restart Required</th>\n",
       "      <th>Computer Name</th>\n",
       "      <th>Number Of Processors</th>\n",
       "      <th>Server Name</th>\n",
       "      <th>Current User</th>\n",
       "      <th>Worst Detection</th>\n",
       "      <th>Windows10</th>\n",
       "      <th>virus</th>\n",
       "    </tr>\n",
       "  </thead>\n",
       "  <tbody>\n",
       "    <tr>\n",
       "      <th>0</th>\n",
       "      <td>Windows 10 Enterprise Edition</td>\n",
       "      <td>14.3.1169.0100</td>\n",
       "      <td>Enabled</td>\n",
       "      <td>Enabled</td>\n",
       "      <td>Connected</td>\n",
       "      <td>04/17/2022 18:00:04</td>\n",
       "      <td>Never</td>\n",
       "      <td>Enabled - Advanced protection</td>\n",
       "      <td>Enabled</td>\n",
       "      <td>Enabled</td>\n",
       "      <td>No</td>\n",
       "      <td>TNP7CPS-21</td>\n",
       "      <td>8.0</td>\n",
       "      <td>SEC-SrvAV1</td>\n",
       "      <td>AGENCEP7</td>\n",
       "      <td>(Severity 3) Antivirus - Heuristic</td>\n",
       "      <td>no</td>\n",
       "      <td>no</td>\n",
       "    </tr>\n",
       "    <tr>\n",
       "      <th>1</th>\n",
       "      <td>Windows 10 Education Edition</td>\n",
       "      <td>14.3.1169.0100</td>\n",
       "      <td>Enabled</td>\n",
       "      <td>Enabled</td>\n",
       "      <td>Connected</td>\n",
       "      <td>04/17/2022 18:00:00</td>\n",
       "      <td>Never</td>\n",
       "      <td>Enabled - Advanced protection</td>\n",
       "      <td>Enabled</td>\n",
       "      <td>Enabled</td>\n",
       "      <td>No</td>\n",
       "      <td>TNL2RPV-21</td>\n",
       "      <td>8.0</td>\n",
       "      <td>SEC-SrvAV1</td>\n",
       "      <td>2023</td>\n",
       "      <td>No detections</td>\n",
       "      <td>no</td>\n",
       "      <td>no</td>\n",
       "    </tr>\n",
       "    <tr>\n",
       "      <th>2</th>\n",
       "      <td>Windows Server 2016 Standard Edition</td>\n",
       "      <td>14.3.1169.0100</td>\n",
       "      <td>Enabled</td>\n",
       "      <td>Enabled</td>\n",
       "      <td>Disconnected</td>\n",
       "      <td>04/17/2022 18:00:02</td>\n",
       "      <td>Never</td>\n",
       "      <td>Enabled - Advanced protection</td>\n",
       "      <td>Enabled</td>\n",
       "      <td>Enabled</td>\n",
       "      <td>No</td>\n",
       "      <td>WIN-TQ1A3BV435R</td>\n",
       "      <td>8.0</td>\n",
       "      <td>SEC-SrvAV1</td>\n",
       "      <td>Administrator</td>\n",
       "      <td>No detections</td>\n",
       "      <td>no</td>\n",
       "      <td>no</td>\n",
       "    </tr>\n",
       "    <tr>\n",
       "      <th>3</th>\n",
       "      <td>Windows 10 Enterprise Edition</td>\n",
       "      <td>14.3.1169.0100</td>\n",
       "      <td>Enabled</td>\n",
       "      <td>Enabled</td>\n",
       "      <td>Connected</td>\n",
       "      <td>04/18/2022 08:53:03</td>\n",
       "      <td>Never</td>\n",
       "      <td>Enabled - Advanced protection</td>\n",
       "      <td>Enabled</td>\n",
       "      <td>Enabled</td>\n",
       "      <td>No</td>\n",
       "      <td>GE-548</td>\n",
       "      <td>12.0</td>\n",
       "      <td>SEC-SrvAV1</td>\n",
       "      <td>9145</td>\n",
       "      <td>No detections</td>\n",
       "      <td>no</td>\n",
       "      <td>no</td>\n",
       "    </tr>\n",
       "    <tr>\n",
       "      <th>4</th>\n",
       "      <td>Windows 10 Enterprise Edition</td>\n",
       "      <td>14.3.1169.0100</td>\n",
       "      <td>Enabled</td>\n",
       "      <td>Enabled</td>\n",
       "      <td>Connected</td>\n",
       "      <td>04/17/2022 18:00:00</td>\n",
       "      <td>Never</td>\n",
       "      <td>Enabled - Advanced protection</td>\n",
       "      <td>Enabled</td>\n",
       "      <td>Enabled</td>\n",
       "      <td>No</td>\n",
       "      <td>TNAGR4GUI</td>\n",
       "      <td>8.0</td>\n",
       "      <td>SEC-SrvAV1</td>\n",
       "      <td>4837</td>\n",
       "      <td>No detections</td>\n",
       "      <td>no</td>\n",
       "      <td>no</td>\n",
       "    </tr>\n",
       "  </tbody>\n",
       "</table>\n",
       "</div>"
      ],
      "text/plain": [
       "                       Operating System  Client Version   Status  \\\n",
       "0         Windows 10 Enterprise Edition  14.3.1169.0100  Enabled   \n",
       "1          Windows 10 Education Edition  14.3.1169.0100  Enabled   \n",
       "2  Windows Server 2016 Standard Edition  14.3.1169.0100  Enabled   \n",
       "3         Windows 10 Enterprise Edition  14.3.1169.0100  Enabled   \n",
       "4         Windows 10 Enterprise Edition  14.3.1169.0100  Enabled   \n",
       "\n",
       "  Auto-Protect On Endpoint Detection and Response Status       Last Scan Time  \\\n",
       "0         Enabled                              Connected  04/17/2022 18:00:04   \n",
       "1         Enabled                              Connected  04/17/2022 18:00:00   \n",
       "2         Enabled                           Disconnected  04/17/2022 18:00:02   \n",
       "3         Enabled                              Connected  04/18/2022 08:53:03   \n",
       "4         Enabled                              Connected  04/17/2022 18:00:00   \n",
       "\n",
       "  Last Virus Time            Download Insight On Intrusion Prevention On  \\\n",
       "0           Never  Enabled - Advanced protection                 Enabled   \n",
       "1           Never  Enabled - Advanced protection                 Enabled   \n",
       "2           Never  Enabled - Advanced protection                 Enabled   \n",
       "3           Never  Enabled - Advanced protection                 Enabled   \n",
       "4           Never  Enabled - Advanced protection                 Enabled   \n",
       "\n",
       "  Early Launch Antimalware On Restart Required    Computer Name  \\\n",
       "0                     Enabled               No       TNP7CPS-21   \n",
       "1                     Enabled               No       TNL2RPV-21   \n",
       "2                     Enabled               No  WIN-TQ1A3BV435R   \n",
       "3                     Enabled               No           GE-548   \n",
       "4                     Enabled               No        TNAGR4GUI   \n",
       "\n",
       "   Number Of Processors Server Name   Current User  \\\n",
       "0                   8.0  SEC-SrvAV1       AGENCEP7   \n",
       "1                   8.0  SEC-SrvAV1           2023   \n",
       "2                   8.0  SEC-SrvAV1  Administrator   \n",
       "3                  12.0  SEC-SrvAV1           9145   \n",
       "4                   8.0  SEC-SrvAV1           4837   \n",
       "\n",
       "                      Worst Detection Windows10 virus  \n",
       "0  (Severity 3) Antivirus - Heuristic        no    no  \n",
       "1                       No detections        no    no  \n",
       "2                       No detections        no    no  \n",
       "3                       No detections        no    no  \n",
       "4                       No detections        no    no  "
      ]
     },
     "execution_count": 38,
     "metadata": {},
     "output_type": "execute_result"
    }
   ],
   "source": [
    "dataframe[\"virus\"] = \"yes\"\n",
    "dataframe.loc[dataframe[\"Last Virus Time\"]== \"Never\",\"virus\"] = \"no\"\n",
    "dataframe.head()"
   ]
  },
  {
   "cell_type": "code",
   "execution_count": 39,
   "metadata": {},
   "outputs": [
    {
     "name": "stdout",
     "output_type": "stream",
     "text": [
      "p value is 0.07457973184716424\n",
      "Dependent (reject H0)\n"
     ]
    }
   ],
   "source": [
    "table2 = pd.crosstab(dataframe[\"virus\"], dataframe[\"Operating System\"])\n",
    "stat, p, dof, expected = chi2_contingency(table2) \n",
    "  \n",
    "alpha = 0.05\n",
    "print(\"p value is \" + str(p)) \n",
    "if p <= alpha: \n",
    "    print('Dependent (reject H0)') \n",
    "else: \n",
    "    print('Independent (H0 holds true)') \n"
   ]
  },
  {
   "cell_type": "code",
   "execution_count": 42,
   "metadata": {},
   "outputs": [
    {
     "data": {
      "text/html": [
       "<div>\n",
       "<style scoped>\n",
       "    .dataframe tbody tr th:only-of-type {\n",
       "        vertical-align: middle;\n",
       "    }\n",
       "\n",
       "    .dataframe tbody tr th {\n",
       "        vertical-align: top;\n",
       "    }\n",
       "\n",
       "    .dataframe thead th {\n",
       "        text-align: right;\n",
       "    }\n",
       "</style>\n",
       "<table border=\"1\" class=\"dataframe\">\n",
       "  <thead>\n",
       "    <tr style=\"text-align: right;\">\n",
       "      <th>Operating System</th>\n",
       "      <th>Windows 10 Education Edition</th>\n",
       "      <th>Windows 10 Enterprise Edition</th>\n",
       "      <th>Windows 10 Enterprise LTSB</th>\n",
       "      <th>Windows 10 Pro for Workstations</th>\n",
       "      <th>Windows 10 Professional Edition</th>\n",
       "      <th>Windows 7 Enterprise Edition</th>\n",
       "      <th>Windows 7 Professional Edition</th>\n",
       "      <th>Windows Server 2008 R2 Enterprise Edition</th>\n",
       "      <th>Windows Server 2012 R2 Datacenter Edition</th>\n",
       "      <th>Windows Server 2012 R2 Standard Edition</th>\n",
       "      <th>Windows Server 2016 Standard Edition</th>\n",
       "      <th>Windows Server 2019 Standard Edition</th>\n",
       "    </tr>\n",
       "    <tr>\n",
       "      <th>virus</th>\n",
       "      <th></th>\n",
       "      <th></th>\n",
       "      <th></th>\n",
       "      <th></th>\n",
       "      <th></th>\n",
       "      <th></th>\n",
       "      <th></th>\n",
       "      <th></th>\n",
       "      <th></th>\n",
       "      <th></th>\n",
       "      <th></th>\n",
       "      <th></th>\n",
       "    </tr>\n",
       "  </thead>\n",
       "  <tbody>\n",
       "    <tr>\n",
       "      <th>no</th>\n",
       "      <td>467</td>\n",
       "      <td>1908</td>\n",
       "      <td>5</td>\n",
       "      <td>2</td>\n",
       "      <td>16</td>\n",
       "      <td>352</td>\n",
       "      <td>16</td>\n",
       "      <td>21</td>\n",
       "      <td>3</td>\n",
       "      <td>35</td>\n",
       "      <td>19</td>\n",
       "      <td>49</td>\n",
       "    </tr>\n",
       "    <tr>\n",
       "      <th>yes</th>\n",
       "      <td>45</td>\n",
       "      <td>123</td>\n",
       "      <td>0</td>\n",
       "      <td>0</td>\n",
       "      <td>0</td>\n",
       "      <td>29</td>\n",
       "      <td>4</td>\n",
       "      <td>2</td>\n",
       "      <td>1</td>\n",
       "      <td>2</td>\n",
       "      <td>0</td>\n",
       "      <td>1</td>\n",
       "    </tr>\n",
       "  </tbody>\n",
       "</table>\n",
       "</div>"
      ],
      "text/plain": [
       "Operating System  Windows 10 Education Edition  Windows 10 Enterprise Edition  \\\n",
       "virus                                                                           \n",
       "no                                         467                           1908   \n",
       "yes                                         45                            123   \n",
       "\n",
       "Operating System  Windows 10 Enterprise LTSB  Windows 10 Pro for Workstations  \\\n",
       "virus                                                                           \n",
       "no                                         5                                2   \n",
       "yes                                        0                                0   \n",
       "\n",
       "Operating System  Windows 10 Professional Edition  \\\n",
       "virus                                               \n",
       "no                                             16   \n",
       "yes                                             0   \n",
       "\n",
       "Operating System  Windows 7 Enterprise Edition  \\\n",
       "virus                                            \n",
       "no                                         352   \n",
       "yes                                         29   \n",
       "\n",
       "Operating System  Windows 7 Professional Edition  \\\n",
       "virus                                              \n",
       "no                                            16   \n",
       "yes                                            4   \n",
       "\n",
       "Operating System  Windows Server 2008 R2 Enterprise Edition  \\\n",
       "virus                                                         \n",
       "no                                                       21   \n",
       "yes                                                       2   \n",
       "\n",
       "Operating System  Windows Server 2012 R2 Datacenter Edition  \\\n",
       "virus                                                         \n",
       "no                                                        3   \n",
       "yes                                                       1   \n",
       "\n",
       "Operating System  Windows Server 2012 R2 Standard Edition  \\\n",
       "virus                                                       \n",
       "no                                                     35   \n",
       "yes                                                     2   \n",
       "\n",
       "Operating System  Windows Server 2016 Standard Edition  \\\n",
       "virus                                                    \n",
       "no                                                  19   \n",
       "yes                                                  0   \n",
       "\n",
       "Operating System  Windows Server 2019 Standard Edition  \n",
       "virus                                                   \n",
       "no                                                  49  \n",
       "yes                                                  1  "
      ]
     },
     "execution_count": 42,
     "metadata": {},
     "output_type": "execute_result"
    }
   ],
   "source": [
    "table2"
   ]
  },
  {
   "cell_type": "code",
   "execution_count": 43,
   "metadata": {},
   "outputs": [
    {
     "name": "stdout",
     "output_type": "stream",
     "text": [
      "p value is 0.15042505293012456\n",
      "Independent (H0 holds true)\n"
     ]
    }
   ],
   "source": [
    "table3 = pd.crosstab(dataframe[\"virus\"], dataframe[\"Status\"])\n",
    "stat, p, dof, expected = chi2_contingency(table3) \n",
    "  \n",
    "alpha = 0.05\n",
    "print(\"p value is \" + str(p)) \n",
    "if p <= alpha: \n",
    "    print('Dependent (reject H0)') \n",
    "else: \n",
    "    print('Independent (H0 holds true)') \n"
   ]
  },
  {
   "cell_type": "code",
   "execution_count": 44,
   "metadata": {},
   "outputs": [
    {
     "data": {
      "text/html": [
       "<div>\n",
       "<style scoped>\n",
       "    .dataframe tbody tr th:only-of-type {\n",
       "        vertical-align: middle;\n",
       "    }\n",
       "\n",
       "    .dataframe tbody tr th {\n",
       "        vertical-align: top;\n",
       "    }\n",
       "\n",
       "    .dataframe thead th {\n",
       "        text-align: right;\n",
       "    }\n",
       "</style>\n",
       "<table border=\"1\" class=\"dataframe\">\n",
       "  <thead>\n",
       "    <tr style=\"text-align: right;\">\n",
       "      <th>Status</th>\n",
       "      <th>Disabled</th>\n",
       "      <th>Enabled</th>\n",
       "    </tr>\n",
       "    <tr>\n",
       "      <th>virus</th>\n",
       "      <th></th>\n",
       "      <th></th>\n",
       "    </tr>\n",
       "  </thead>\n",
       "  <tbody>\n",
       "    <tr>\n",
       "      <th>no</th>\n",
       "      <td>193</td>\n",
       "      <td>2700</td>\n",
       "    </tr>\n",
       "    <tr>\n",
       "      <th>yes</th>\n",
       "      <td>8</td>\n",
       "      <td>199</td>\n",
       "    </tr>\n",
       "  </tbody>\n",
       "</table>\n",
       "</div>"
      ],
      "text/plain": [
       "Status  Disabled  Enabled\n",
       "virus                    \n",
       "no           193     2700\n",
       "yes            8      199"
      ]
     },
     "execution_count": 44,
     "metadata": {},
     "output_type": "execute_result"
    }
   ],
   "source": [
    "table3"
   ]
  },
  {
   "cell_type": "code",
   "execution_count": 45,
   "metadata": {},
   "outputs": [
    {
     "name": "stdout",
     "output_type": "stream",
     "text": [
      "p value is 0.6647448674621166\n",
      "Independent (H0 holds true)\n"
     ]
    }
   ],
   "source": [
    "table4 = pd.crosstab(dataframe[\"virus\"], dataframe[\"Restart Required\"])\n",
    "stat, p, dof, expected = chi2_contingency(table4) \n",
    "  \n",
    "alpha = 0.05\n",
    "print(\"p value is \" + str(p)) \n",
    "if p <= alpha: \n",
    "    print('Dependent (reject H0)') \n",
    "else: \n",
    "    print('Independent (H0 holds true)') \n"
   ]
  },
  {
   "cell_type": "code",
   "execution_count": 46,
   "metadata": {},
   "outputs": [
    {
     "data": {
      "text/html": [
       "<div>\n",
       "<style scoped>\n",
       "    .dataframe tbody tr th:only-of-type {\n",
       "        vertical-align: middle;\n",
       "    }\n",
       "\n",
       "    .dataframe tbody tr th {\n",
       "        vertical-align: top;\n",
       "    }\n",
       "\n",
       "    .dataframe thead th {\n",
       "        text-align: right;\n",
       "    }\n",
       "</style>\n",
       "<table border=\"1\" class=\"dataframe\">\n",
       "  <thead>\n",
       "    <tr style=\"text-align: right;\">\n",
       "      <th>Restart Required</th>\n",
       "      <th>No</th>\n",
       "      <th>Yes</th>\n",
       "    </tr>\n",
       "    <tr>\n",
       "      <th>virus</th>\n",
       "      <th></th>\n",
       "      <th></th>\n",
       "    </tr>\n",
       "  </thead>\n",
       "  <tbody>\n",
       "    <tr>\n",
       "      <th>no</th>\n",
       "      <td>2878</td>\n",
       "      <td>15</td>\n",
       "    </tr>\n",
       "    <tr>\n",
       "      <th>yes</th>\n",
       "      <td>206</td>\n",
       "      <td>1</td>\n",
       "    </tr>\n",
       "  </tbody>\n",
       "</table>\n",
       "</div>"
      ],
      "text/plain": [
       "Restart Required    No  Yes\n",
       "virus                      \n",
       "no                2878   15\n",
       "yes                206    1"
      ]
     },
     "execution_count": 46,
     "metadata": {},
     "output_type": "execute_result"
    }
   ],
   "source": [
    "table4"
   ]
  },
  {
   "cell_type": "code",
   "execution_count": 47,
   "metadata": {},
   "outputs": [
    {
     "name": "stdout",
     "output_type": "stream",
     "text": [
      "p value is 0.15042505293012456\n",
      "Independent (H0 holds true)\n"
     ]
    }
   ],
   "source": [
    "table5 = pd.crosstab(dataframe[\"virus\"], dataframe[\"Download Insight On\"])\n",
    "stat, p, dof, expected = chi2_contingency(table3) \n",
    "  \n",
    "alpha = 0.1\n",
    "print(\"p value is \" + str(p)) \n",
    "if p <= alpha: \n",
    "    print('Dependent (reject H0)') \n",
    "else: \n",
    "    print('Independent (H0 holds true)') \n"
   ]
  },
  {
   "cell_type": "code",
   "execution_count": 48,
   "metadata": {},
   "outputs": [
    {
     "data": {
      "text/html": [
       "<div>\n",
       "<style scoped>\n",
       "    .dataframe tbody tr th:only-of-type {\n",
       "        vertical-align: middle;\n",
       "    }\n",
       "\n",
       "    .dataframe tbody tr th {\n",
       "        vertical-align: top;\n",
       "    }\n",
       "\n",
       "    .dataframe thead th {\n",
       "        text-align: right;\n",
       "    }\n",
       "</style>\n",
       "<table border=\"1\" class=\"dataframe\">\n",
       "  <thead>\n",
       "    <tr style=\"text-align: right;\">\n",
       "      <th>Download Insight On</th>\n",
       "      <th>Client not reporting status</th>\n",
       "      <th>Component is Malfunctioning - Advanced protection</th>\n",
       "      <th>Enabled - Advanced protection</th>\n",
       "      <th>Enabled - Basic protection</th>\n",
       "    </tr>\n",
       "    <tr>\n",
       "      <th>virus</th>\n",
       "      <th></th>\n",
       "      <th></th>\n",
       "      <th></th>\n",
       "      <th></th>\n",
       "    </tr>\n",
       "  </thead>\n",
       "  <tbody>\n",
       "    <tr>\n",
       "      <th>no</th>\n",
       "      <td>7</td>\n",
       "      <td>1</td>\n",
       "      <td>2879</td>\n",
       "      <td>6</td>\n",
       "    </tr>\n",
       "    <tr>\n",
       "      <th>yes</th>\n",
       "      <td>0</td>\n",
       "      <td>0</td>\n",
       "      <td>207</td>\n",
       "      <td>0</td>\n",
       "    </tr>\n",
       "  </tbody>\n",
       "</table>\n",
       "</div>"
      ],
      "text/plain": [
       "Download Insight On  Client not reporting status  \\\n",
       "virus                                              \n",
       "no                                             7   \n",
       "yes                                            0   \n",
       "\n",
       "Download Insight On  Component is Malfunctioning - Advanced protection  \\\n",
       "virus                                                                    \n",
       "no                                                                   1   \n",
       "yes                                                                  0   \n",
       "\n",
       "Download Insight On  Enabled - Advanced protection  Enabled - Basic protection  \n",
       "virus                                                                           \n",
       "no                                            2879                           6  \n",
       "yes                                            207                           0  "
      ]
     },
     "execution_count": 48,
     "metadata": {},
     "output_type": "execute_result"
    }
   ],
   "source": [
    "table5"
   ]
  },
  {
   "cell_type": "code",
   "execution_count": 49,
   "metadata": {},
   "outputs": [
    {
     "name": "stdout",
     "output_type": "stream",
     "text": [
      "p value is 0.07457973184716424\n",
      "Dependent (reject H0)\n"
     ]
    }
   ],
   "source": [
    "table2 = pd.crosstab(dataframe[\"virus\"], dataframe[\"Operating System\"])\n",
    "stat, p, dof, expected = chi2_contingency(table2) \n",
    "  \n",
    "alpha = 0.10\n",
    "print(\"p value is \" + str(p)) \n",
    "if p <= alpha: \n",
    "    print('Dependent (reject H0)') \n",
    "else: \n",
    "    print('Independent (H0 holds true)') \n"
   ]
  },
  {
   "cell_type": "code",
   "execution_count": 50,
   "metadata": {},
   "outputs": [
    {
     "data": {
      "text/html": [
       "<div>\n",
       "<style scoped>\n",
       "    .dataframe tbody tr th:only-of-type {\n",
       "        vertical-align: middle;\n",
       "    }\n",
       "\n",
       "    .dataframe tbody tr th {\n",
       "        vertical-align: top;\n",
       "    }\n",
       "\n",
       "    .dataframe thead th {\n",
       "        text-align: right;\n",
       "    }\n",
       "</style>\n",
       "<table border=\"1\" class=\"dataframe\">\n",
       "  <thead>\n",
       "    <tr style=\"text-align: right;\">\n",
       "      <th>Restart Required</th>\n",
       "      <th>No</th>\n",
       "      <th>Yes</th>\n",
       "      <th>All</th>\n",
       "    </tr>\n",
       "    <tr>\n",
       "      <th>virus</th>\n",
       "      <th></th>\n",
       "      <th></th>\n",
       "      <th></th>\n",
       "    </tr>\n",
       "  </thead>\n",
       "  <tbody>\n",
       "    <tr>\n",
       "      <th>no</th>\n",
       "      <td>2878</td>\n",
       "      <td>15</td>\n",
       "      <td>2893</td>\n",
       "    </tr>\n",
       "    <tr>\n",
       "      <th>yes</th>\n",
       "      <td>206</td>\n",
       "      <td>1</td>\n",
       "      <td>207</td>\n",
       "    </tr>\n",
       "    <tr>\n",
       "      <th>All</th>\n",
       "      <td>3084</td>\n",
       "      <td>16</td>\n",
       "      <td>3100</td>\n",
       "    </tr>\n",
       "  </tbody>\n",
       "</table>\n",
       "</div>"
      ],
      "text/plain": [
       "Restart Required    No  Yes   All\n",
       "virus                            \n",
       "no                2878   15  2893\n",
       "yes                206    1   207\n",
       "All               3084   16  3100"
      ]
     },
     "execution_count": 50,
     "metadata": {},
     "output_type": "execute_result"
    }
   ],
   "source": [
    "pd.crosstab(dataframe['virus'],dataframe['Restart Required'],margins=True)"
   ]
  },
  {
   "cell_type": "code",
   "execution_count": 51,
   "metadata": {},
   "outputs": [
    {
     "data": {
      "image/png": "[encoded data removed]",
      "text/plain": [
       "<Figure size 1440x720 with 1 Axes>"
      ]
     },
     "metadata": {
      "needs_background": "light"
     },
     "output_type": "display_data"
    }
   ],
   "source": [
    "pd.plotting.scatter_matrix(dataframe,figsize=(20,10),c=dataframe['Worst Detection']);"
   ]
  },
  {
   "cell_type": "code",
   "execution_count": 52,
   "metadata": {},
   "outputs": [],
   "source": [
    "dataframe['Restart Required']=pd.to_numeric(dataframe['Restart Required'],errors='coerce')\n"
   ]
  },
  {
   "cell_type": "code",
   "execution_count": 53,
   "metadata": {},
   "outputs": [
    {
     "name": "stdout",
     "output_type": "stream",
     "text": [
      "<class 'pandas.core.frame.DataFrame'>\n",
      "Int64Index: 3100 entries, 0 to 3100\n",
      "Data columns (total 18 columns):\n",
      " #   Column                                  Non-Null Count  Dtype  \n",
      "---  ------                                  --------------  -----  \n",
      " 0   Operating System                        3100 non-null   object \n",
      " 1   Client Version                          3100 non-null   object \n",
      " 2   Status                                  3100 non-null   object \n",
      " 3   Auto-Protect On                         3100 non-null   object \n",
      " 4   Endpoint Detection and Response Status  3090 non-null   object \n",
      " 5   Last Scan Time                          3100 non-null   object \n",
      " 6   Last Virus Time                         3100 non-null   object \n",
      " 7   Download Insight On                     3100 non-null   object \n",
      " 8   Intrusion Prevention On                 3100 non-null   object \n",
      " 9   Early Launch Antimalware On             3100 non-null   object \n",
      " 10  Restart Required                        0 non-null      float64\n",
      " 11  Computer Name                           3090 non-null   object \n",
      " 12  Number Of Processors                    3090 non-null   float64\n",
      " 13  Server Name                             3090 non-null   object \n",
      " 14  Current User                            3090 non-null   object \n",
      " 15  Worst Detection                         3100 non-null   object \n",
      " 16  Windows10                               3100 non-null   object \n",
      " 17  virus                                   3100 non-null   object \n",
      "dtypes: float64(2), object(16)\n",
      "memory usage: 540.2+ KB\n"
     ]
    }
   ],
   "source": [
    "dataframe.info()"
   ]
  },
  {
   "cell_type": "code",
   "execution_count": null,
   "metadata": {},
   "outputs": [],
   "source": [
    "dataframe['Client Version']=pd.to_numeric(dataframe['Client Version'],errors='coerce')\n"
   ]
  },
  {
   "cell_type": "code",
   "execution_count": null,
   "metadata": {},
   "outputs": [],
   "source": [
    "dataframe.info()"
   ]
  },
  {
   "cell_type": "code",
   "execution_count": null,
   "metadata": {},
   "outputs": [],
   "source": [
    "\n",
    "#scatter plot\n",
    "plt.scatter(dataframe['Worst Detection'],dataframe['virus'])\n",
    "plt.xlabel('Worst Detection')\n",
    "plt.ylabel('virus')\n",
    "plt.show()"
   ]
  },
  {
   "cell_type": "code",
   "execution_count": null,
   "metadata": {},
   "outputs": [],
   "source": [
    "def correlatedFeatures(dataset, threshold):\n",
    "    correlated_columns = set()\n",
    "    correlations = dataset.corr()\n",
    "    for i in range(len(correlations)):\n",
    "        for j in range(i):\n",
    "            if abs(correlations.iloc[i,j]) > threshold:\n",
    "                correlated_columns.add(correlations.columns[i])\n",
    "    return correlated_columns"
   ]
  },
  {
   "cell_type": "code",
   "execution_count": null,
   "metadata": {},
   "outputs": [],
   "source": []
  },
  {
   "cell_type": "code",
   "execution_count": null,
   "metadata": {},
   "outputs": [],
   "source": []
  }
 ],
 "metadata": {
  "kernelspec": {
   "display_name": "Python 3 (ipykernel)",
   "language": "python",
   "name": "python3"
  },
  "language_info": {
   "codemirror_mode": {
    "name": "ipython",
    "version": 3
   },
   "file_extension": ".py",
   "mimetype": "text/x-python",
   "name": "python",
   "nbconvert_exporter": "python",
   "pygments_lexer": "ipython3",
   "version": "3.7.10"
  }
 },
 "nbformat": 4,
 "nbformat_minor": 4
}
